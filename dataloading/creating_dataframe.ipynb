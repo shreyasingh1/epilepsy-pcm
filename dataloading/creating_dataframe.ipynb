{
 "cells": [
  {
   "cell_type": "code",
   "execution_count": 6,
   "id": "c34fd3c6",
   "metadata": {},
   "outputs": [],
   "source": [
    "import json\n",
    "import glob\n",
    "import os\n",
    "import numpy as np\n",
    "from pathlib import Path\n",
    "import pandas as pd\n",
    "\n",
    "from epilepsypcm.utils.make_df import make_df, get_df_list, concat_dfs\n",
    "from epilepsypcm.utils.outcome_params import engel_score"
   ]
  },
  {
   "cell_type": "code",
   "execution_count": 11,
   "id": "7fb4ee3c",
   "metadata": {},
   "outputs": [],
   "source": [
    "#Location\n",
    "base_path = '/Users/shrey2/Downloads/epilepsy_data/' #modify for your file location\n",
    "\n",
    "\n",
    "#Function to get a list of all dataframes for all positive patients, in the format [patient number, df]\n",
    "df_list = get_df_list(base_path, \"1\")\n",
    "\n",
    "#Code to loop through this list\n",
    "#for i in range(len(df_list)):\n",
    "#    print(\"Patient ID: \", df_list[i][0])\n",
    "#    print(\"Patient Dataframe: \", df_list[i][1].head(3))\n",
    "\n",
    "\n",
    "    \n",
    "#Function to get the concatenated dataframe for all positive patients\n",
    "## balance parameter can be changed to \"None\", \"upsample\", or \"downsample\"\n",
    "all_positive_patients = concat_dfs(base_path, \"1\", balance = \"None\")\n",
    "\n",
    "#print(\"Full Dataframe: \", all_positive_patients.head(3))"
   ]
  }
 ],
 "metadata": {
  "kernelspec": {
   "display_name": "Python 3 (ipykernel)",
   "language": "python",
   "name": "python3"
  },
  "language_info": {
   "codemirror_mode": {
    "name": "ipython",
    "version": 3
   },
   "file_extension": ".py",
   "mimetype": "text/x-python",
   "name": "python",
   "nbconvert_exporter": "python",
   "pygments_lexer": "ipython3",
   "version": "3.9.7"
  }
 },
 "nbformat": 4,
 "nbformat_minor": 5
}
