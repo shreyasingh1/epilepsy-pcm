{
 "cells": [
  {
   "cell_type": "code",
   "execution_count": 1,
   "id": "c34fd3c6",
   "metadata": {},
   "outputs": [],
   "source": [
    "import json\n",
    "import glob\n",
    "import os\n",
    "import numpy as np\n",
    "from pathlib import Path\n",
    "import pandas as pd\n",
    "\n",
    "from epilepsypcm.utils.make_df import make_df, get_df_list, concat_dfs\n",
    "from epilepsypcm.utils.outcome_params import engel_score"
   ]
  },
  {
   "cell_type": "code",
   "execution_count": 2,
   "id": "7fb4ee3c",
   "metadata": {},
   "outputs": [
    {
     "name": "stderr",
     "output_type": "stream",
     "text": [
      "/Users/shrey2/Documents/PCM/epilepsypcm/epilepsypcm/utils/make_df.py:96: SettingWithCopyWarning: \n",
      "A value is trying to be set on a copy of a slice from a DataFrame\n",
      "\n",
      "See the caveats in the documentation: https://pandas.pydata.org/pandas-docs/stable/user_guide/indexing.html#returning-a-view-versus-a-copy\n",
      "  df[\"outcome\"][df[\"chNames\"] == channel] = 1\n",
      "/Users/shrey2/Documents/PCM/epilepsypcm/epilepsypcm/utils/make_df.py:110: SettingWithCopyWarning: \n",
      "A value is trying to be set on a copy of a slice from a DataFrame\n",
      "\n",
      "See the caveats in the documentation: https://pandas.pydata.org/pandas-docs/stable/user_guide/indexing.html#returning-a-view-versus-a-copy\n",
      "  df[\"outcome\"][df[\"chNames\"] == channel] = 1\n"
     ]
    }
   ],
   "source": [
    "#Location\n",
    "base_path = '/Users/shrey2/Downloads/epilepsy_data/' #modify for your file location\n",
    "\n",
    "\n",
    "#Function to get a list of all dataframes for all positive patients, in the format [patient number, df]\n",
    "df_list = get_df_list(base_path, \"1\")\n",
    "\n",
    "#Code to loop through this list\n",
    "#for i in range(len(df_list)):\n",
    "#    print(\"Patient ID: \", df_list[i][0])\n",
    "#    print(\"Patient Dataframe: \", df_list[i][1].head(3))\n",
    "\n",
    "\n",
    "    \n",
    "#Function to get the concatenated dataframe for all positive patients\n",
    "## balance parameter can be changed to \"None\", \"upsample\", or \"downsample\"\n",
    "all_positive_patients = concat_dfs(base_path, \"1\", balance = \"None\")\n",
    "\n",
    "#print(\"Full Dataframe: \", all_positive_patients.head(3))"
   ]
  },
  {
   "cell_type": "code",
   "execution_count": 3,
   "id": "1a07c72c",
   "metadata": {},
   "outputs": [
    {
     "data": {
      "text/plain": [
       "0.0    24564\n",
       "1.0     2607\n",
       "Name: outcome, dtype: int64"
      ]
     },
     "execution_count": 3,
     "metadata": {},
     "output_type": "execute_result"
    }
   ],
   "source": [
    "all_positive_patients[\"outcome\"].value_counts()"
   ]
  },
  {
   "cell_type": "code",
   "execution_count": 4,
   "id": "aef6565d",
   "metadata": {},
   "outputs": [
    {
     "data": {
      "text/plain": [
       "16    3616\n",
       "45    3360\n",
       "38    3260\n",
       "34    3101\n",
       "20    2174\n",
       "30    2100\n",
       "25    1723\n",
       "22    1551\n",
       "18    1511\n",
       "5     1416\n",
       "13    1046\n",
       "19     812\n",
       "10     642\n",
       "7      558\n",
       "8      301\n",
       "Name: patient, dtype: int64"
      ]
     },
     "execution_count": 4,
     "metadata": {},
     "output_type": "execute_result"
    }
   ],
   "source": [
    "all_positive_patients[\"patient\"].value_counts()"
   ]
  },
  {
   "cell_type": "code",
   "execution_count": 1,
   "id": "2aad496c",
   "metadata": {},
   "outputs": [
    {
     "data": {
      "text/plain": [
       "'es'"
      ]
     },
     "execution_count": 1,
     "metadata": {},
     "output_type": "execute_result"
    }
   ],
   "source": [
    "name = \"test\"\n",
    "name[1:-1]"
   ]
  },
  {
   "cell_type": "code",
   "execution_count": null,
   "id": "1316250b",
   "metadata": {},
   "outputs": [],
   "source": []
  }
 ],
 "metadata": {
  "kernelspec": {
   "display_name": "Python 3 (ipykernel)",
   "language": "python",
   "name": "python3"
  },
  "language_info": {
   "codemirror_mode": {
    "name": "ipython",
    "version": 3
   },
   "file_extension": ".py",
   "mimetype": "text/x-python",
   "name": "python",
   "nbconvert_exporter": "python",
   "pygments_lexer": "ipython3",
   "version": "3.9.7"
  }
 },
 "nbformat": 4,
 "nbformat_minor": 5
}
