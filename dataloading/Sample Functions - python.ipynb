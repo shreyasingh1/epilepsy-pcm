{
 "cells": [
  {
   "cell_type": "code",
   "execution_count": 181,
   "id": "94a7a8fd",
   "metadata": {},
   "outputs": [],
   "source": [
    "import json\n",
    "import glob\n",
    "import os\n",
    "import numpy as np\n",
    "from pathlib import Path\n"
   ]
  },
  {
   "cell_type": "code",
   "execution_count": 59,
   "id": "a42796f7",
   "metadata": {},
   "outputs": [
    {
     "name": "stdout",
     "output_type": "stream",
     "text": [
      "You chose /Users/shrey2/Downloads/PY16N013\n"
     ]
    }
   ],
   "source": [
    "#still need to write code that loops through all patient folders\n",
    "##but for now, just starting with the data in one folder\n",
    "base_path = '/Users/shrey2/Downloads/PY16N013'\n",
    "response_path = base_path + '/ResponseInfo/CCEP'\n",
    "z_path = base_path + '/z-scores'\n",
    "\n",
    "if len(respInfoPath) > 0:\n",
    "    print (\"You chose %s\" % base_path)\n",
    "\n",
    "#respInfoFile_path = glob.glob(respInfoPath + '/*.json', recursive=True)\n",
    "#respInfoFiles = os.listdir(respInfoPath)\n",
    "\n",
    "response_files = os.listdir(response_path)\n",
    "response_files_path = glob.glob(response_path + '/*.json', recursive=True)\n",
    "\n",
    "z_files = os.listdir(z_path)\n",
    "z_files_path = glob.glob(z_path + '/*.json', recursive=True)"
   ]
  },
  {
   "cell_type": "code",
   "execution_count": 143,
   "id": "8d7eb379",
   "metadata": {
    "scrolled": true
   },
   "outputs": [
    {
     "name": "stdout",
     "output_type": "stream",
     "text": [
      "['AIH1_AIH2', 'AIH2_AIH3', 'AIH3_AIH4', 'REF1_REF3', 'MIH1_MIH2', 'MIH2_MIH3', 'MIH3_MIH4', 'PIH1_PIH2', 'PIH2_PIH3', 'PIH3_PIH4', 'LDA1_LDA2', 'LDA2_LDA3', 'LDA3_LDA4', 'LDA4_LDA5', 'LDA5_LDA6', 'LDA6_LDA7', 'LDA7_LDA8', 'LDB1_LDB2', 'LDB2_LDB3', 'LDB3_LDB4', 'LDB4_LDB5', 'LDB5_LDB6', 'LDB6_LDB7', 'LDB7_LDB8', 'LFP1_LFP2', 'LFP2_LFP3', 'LFP3_LFP4', 'LFP4_LFP5', 'LFP5_LFP6', 'LFP6_LFP7', 'LFP7_LFP8', 'LFP8_LFP9', 'LFP9_LFP10', 'LFP10_LFP11', 'LFP11_LFP12', 'LFP12_LFP13', 'LFP13_LFP14', 'LFP14_LFP15', 'LFP15_LFP16', 'LFP17_LFP18', 'LFP18_LFP19', 'LFP19_LFP20', 'LFP20_LFP21', 'LFP21_LFP22', 'LFP22_LFP23', 'LFP23_LFP24', 'LFP25_LFP26', 'LFP26_LFP27', 'LFP27_LFP28', 'LFP28_LFP29', 'LFP29_LFP30', 'LFP30_LFP31', 'LFP31_LFP32', 'LFP33_LFP34', 'LFP34_LFP35', 'LFP35_LFP36', 'LFP36_LFP37', 'LFP37_LFP38', 'LFP38_LFP39', 'LFP39_LFP40', 'LFP41_LFP42', 'LFP42_LFP43', 'LFP43_LFP44', 'LFP44_LFP45', 'LFP45_LFP46', 'LFP46_LFP47', 'LFP47_LFP48', 'LFP49_LFP50', 'LFP50_LFP51', 'LFP51_LFP52', 'LFP52_LFP53', 'LFP53_LFP54', 'LFP54_LFP55', 'LFP55_LFP56', 'LFP57_LFP58', 'LFP58_LFP59', 'LFP59_LFP60', 'LFP60_LFP61', 'LFP61_LFP62', 'LFP62_LFP63', 'LFP63_LFP64']\n"
     ]
    }
   ],
   "source": [
    "#example opening dictionary and indexing\n",
    "k = open(response_files_path[3])\n",
    "data = json.load(k)\n",
    "keys = []\n",
    "for key in data[\"zscores\"]: keys.append(key)\n",
    "print(keys)"
   ]
  },
  {
   "cell_type": "markdown",
   "id": "bd33b350",
   "metadata": {},
   "source": [
    "### respInfoToAdjacencyMatrix\n",
    "#### could test how the adjacency matrix size changes as we vary (1) threshold and (2) peaks"
   ]
  },
  {
   "cell_type": "code",
   "execution_count": 180,
   "id": "67b2ff8b",
   "metadata": {},
   "outputs": [],
   "source": [
    "###now trying to build function for respInfo to adjacency matrix\n",
    "\n",
    "# INPUTS:\n",
    "#files = list of file paths\n",
    "#peaks = string, either n1, n2, p2, or pk2pk (amplitude from n1 to p2)\n",
    "#threshold = threshold for including the peak in the adjacency matrix\n",
    "\n",
    "# RETURNS:\n",
    "#A = adjacency matrix containing response magnitudes of peak of interest\n",
    "#       specified by input parameter 'peaks'. Stimulating nodes are on the\n",
    "#       rows, and response nodes are on the columns.\n",
    "#nodeLabels = the names of the nodes in the adjacency matrix, as a vector\n",
    "#       in the same order as they appear in 'A'\n",
    "#allStimInds = vector of nodes indicies that were stimulated\n",
    "\n",
    "def respInfoToAdjacencyMatrix(files, peaks, threshold):\n",
    "    responseChs =[];\n",
    "    peakScores = [];\n",
    "    stimChs = [];\n",
    "\n",
    "    #loop over each file containing a stimulation block\n",
    "    #for (k = 1, k <= length(files), k++):\n",
    "    for k in files:\n",
    "        chNames = []\n",
    "        \n",
    "        # load info into python dictionary\n",
    "        fileInfo = k.split(\"_\")\n",
    "        stimCh1 = fileInfo[2];\n",
    "        stimCh2 = fileInfo[3];\n",
    "        #jsonData=jsondecode(fileread(strcat(files(k).folder,\"\\\\\",files(k).name)));  \n",
    "        jsonData = json.load(open(k))\n",
    "        #chNames = fieldnames(jsonData.zscores);\n",
    "        for key in jsonData[\"zscores\"]: chNames.append(key)\n",
    "            \n",
    "        # loop over each response channel and build lists\n",
    "        for i in chNames:                                   \n",
    "            peakValues=[];\n",
    "            if \"pk2pk\" in peaks:\n",
    "                peakAmplitude = jsonData[\"zscores\"][i][\"n1\"][1] + jsonData[\"zscores\"][i][\"p2\"][1]              \n",
    "            else:\n",
    "                peakAmplitude = abs(jsonData[\"zscores\"][i][peaks][1])\n",
    "                \n",
    "            #peakAmplitude from float to int    \n",
    "            #peakAmplitude = int(peakAmplitude) \n",
    "            \n",
    "   #####Confused by this if statement. original commented out. why are we using len(peakAmplitude)?#####\n",
    "            #if ((len(peakAmplitude)==1 & (peakAmplitude)>threshold)) | len(peakAmplitude)>1:\n",
    "            if (peakAmplitude > threshold):\n",
    "                responseChs.append(i)\n",
    "                peakScores.append(peakAmplitude)\n",
    "                stimChs.append(stimCh1 + \"_\" + stimCh2)\n",
    "            #   responseChs = [responseChs; chNames(i)];\n",
    "            #   peakScores = [peakScores; peakAmplitude(end)];\n",
    "            #   stimChs = [stimChs; {[stimCh1 '_' stimCh2]}];\n",
    "            \n",
    "'''\n",
    "    #Build Adjacency Matrix and Graph\n",
    "    allStimInds = [];\n",
    "    nodeLabels = sortrows(chNames);\n",
    "    A = zeros(length(chNames));\n",
    "\n",
    "    #loop over each stimulation block\n",
    "    for i in len(stimChs):\n",
    "\n",
    "        stimInds = find(any(strcmp(nodeLabels,stimChs[i]),2));\n",
    "        respInd = find(any(strcmp(nodeLabels,responseChs[i]),2));\n",
    "        allStimInds.append(stimInds);\n",
    "\n",
    "        if isempty(respInd):  # if there were no responses, continue\n",
    "            continue\n",
    "\n",
    "        # get indicies of all responses that were stimulated in this block\n",
    "        ind = find(any(strcmp(stimChs,stimChs(i)),2)); \n",
    "\n",
    "        # loop over each response and store the zscore in the right spot in the adjacency matrix\n",
    "        for r in length(respInd):\n",
    "            r1 = find(strcmp(responseChs(ind),nodeLabels(respInd(r),1)));\n",
    "            if length(stimInds)<1:\n",
    "                #1;\n",
    "                A[stimInds,respInd(r)] = peakScores(ind(r1(end)));\n",
    "                continue\n",
    "            #\n",
    "            if A(stimInds(1),respInd(r)) > 0 & peakScores(ind(r1(end)))>0:\n",
    "                A[stimInds(1),respInd(r)] = mean([A(stimInds(1),respInd(r)), peakScores(ind(r1(end)))]);\n",
    "            elif A[stimInds(1),respInd(r)] == 0 & peakScores(ind(r1(end)))>0:\n",
    "                A[stimInds(1),respInd(r)] = peakScores(ind(r1(end)));\n",
    "\n",
    "    allStimInds = unique(allStimInds); # only get the unique stimulated pairs\n",
    "\n",
    "\n",
    "    A=A-diag(diag(A)); # make sure there is no activity on the diagonal\n",
    "'''\n",
    "            \n",
    "respInfoToAdjacencyMatrix(response_files_path, \"n1\", 0.5)"
   ]
  },
  {
   "cell_type": "code",
   "execution_count": 99,
   "id": "e6abc2d7",
   "metadata": {},
   "outputs": [],
   "source": []
  },
  {
   "cell_type": "code",
   "execution_count": null,
   "id": "65b3e670",
   "metadata": {},
   "outputs": [],
   "source": []
  },
  {
   "cell_type": "code",
   "execution_count": null,
   "id": "e1d925eb",
   "metadata": {},
   "outputs": [],
   "source": []
  },
  {
   "cell_type": "code",
   "execution_count": null,
   "id": "16aad9eb",
   "metadata": {},
   "outputs": [],
   "source": []
  },
  {
   "cell_type": "code",
   "execution_count": null,
   "id": "9f41b6d8",
   "metadata": {},
   "outputs": [],
   "source": []
  }
 ],
 "metadata": {
  "kernelspec": {
   "display_name": "Python 3 (ipykernel)",
   "language": "python",
   "name": "python3"
  },
  "language_info": {
   "codemirror_mode": {
    "name": "ipython",
    "version": 3
   },
   "file_extension": ".py",
   "mimetype": "text/x-python",
   "name": "python",
   "nbconvert_exporter": "python",
   "pygments_lexer": "ipython3",
   "version": "3.9.7"
  }
 },
 "nbformat": 4,
 "nbformat_minor": 5
}
