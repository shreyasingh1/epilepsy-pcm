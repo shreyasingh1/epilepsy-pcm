{
 "cells": [
  {
   "cell_type": "code",
   "execution_count": 1,
   "id": "94a7a8fd",
   "metadata": {},
   "outputs": [],
   "source": [
    "import json\n",
    "import glob\n",
    "import os\n",
    "import numpy as np\n",
    "from pathlib import Path\n",
    "import matplotlib.pyplot as plt\n",
    "import seaborn as sns\n",
    "\n",
    "from epilepsypcm.loading.imports import respInfoToAdjacencyMatrix, zToAdjacencyMatrix, getPeakLatency"
   ]
  },
  {
   "cell_type": "code",
   "execution_count": 2,
   "id": "a42796f7",
   "metadata": {},
   "outputs": [],
   "source": [
    "#still need to write code that loops through all patient folders\n",
    "##but for now, just starting with the data in one folder\n",
    "\n",
    "base_path = '/Users/shrey2/Downloads/PY16N013' #modify for your file location\n",
    "response_path = base_path + '/ResponseInfo/CCEP'\n",
    "z_path = base_path + '/z-scores'\n",
    "\n",
    "response_files = os.listdir(response_path)\n",
    "response_files_path = glob.glob(response_path + '/*.json', recursive=True)\n",
    "\n",
    "z_files = os.listdir(z_path)\n",
    "z_files_path = glob.glob(z_path + '/*.json', recursive=True)"
   ]
  },
  {
   "cell_type": "code",
   "execution_count": 8,
   "id": "eb04659f",
   "metadata": {},
   "outputs": [
    {
     "data": {
      "text/plain": [
       "['/Users/shrey2/Downloads/PY16N013/ResponseInfo/CCEP/PY16N013_MIH1_MIH2_5ma_ResponseInfo.json',\n",
       " '/Users/shrey2/Downloads/PY16N013/ResponseInfo/CCEP/PY16N013_LFP20_LFP28_5ma_ResponseInfo.json',\n",
       " '/Users/shrey2/Downloads/PY16N013/ResponseInfo/CCEP/PY16N013_LFP63_LFP64_5ma_ResponseInfo.json',\n",
       " '/Users/shrey2/Downloads/PY16N013/ResponseInfo/CCEP/PY16N013_LFP29_LFP27_5ma_ResponseInfo.json',\n",
       " '/Users/shrey2/Downloads/PY16N013/ResponseInfo/CCEP/PY16N013_LFP28_LFP36_5ma_ResponseInfo.json',\n",
       " '/Users/shrey2/Downloads/PY16N013/ResponseInfo/CCEP/PY16N013_LFP55_LFP56_5ma_ResponseInfo.json']"
      ]
     },
     "execution_count": 8,
     "metadata": {},
     "output_type": "execute_result"
    }
   ],
   "source": [
    "response_files_path"
   ]
  },
  {
   "cell_type": "code",
   "execution_count": 3,
   "id": "8d7eb379",
   "metadata": {
    "scrolled": false
   },
   "outputs": [
    {
     "name": "stdout",
     "output_type": "stream",
     "text": [
      "['AIH1_AIH2', 'AIH2_AIH3', 'AIH3_AIH4', 'REF1_REF3', 'MIH1_MIH2', 'MIH2_MIH3', 'MIH3_MIH4', 'PIH1_PIH2', 'PIH2_PIH3', 'PIH3_PIH4', 'LDA1_LDA2', 'LDA2_LDA3', 'LDA3_LDA4', 'LDA4_LDA5', 'LDA5_LDA6', 'LDA6_LDA7', 'LDA7_LDA8', 'LDB1_LDB2', 'LDB2_LDB3', 'LDB3_LDB4', 'LDB4_LDB5', 'LDB5_LDB6', 'LDB6_LDB7', 'LDB7_LDB8', 'LFP1_LFP2', 'LFP2_LFP3', 'LFP3_LFP4', 'LFP4_LFP5', 'LFP5_LFP6', 'LFP6_LFP7', 'LFP7_LFP8', 'LFP8_LFP9', 'LFP9_LFP10', 'LFP10_LFP11', 'LFP11_LFP12', 'LFP12_LFP13', 'LFP13_LFP14', 'LFP14_LFP15', 'LFP15_LFP16', 'LFP17_LFP18', 'LFP18_LFP19', 'LFP19_LFP20', 'LFP20_LFP21', 'LFP21_LFP22', 'LFP22_LFP23', 'LFP23_LFP24', 'LFP25_LFP26', 'LFP26_LFP27', 'LFP27_LFP28', 'LFP28_LFP29', 'LFP29_LFP30', 'LFP30_LFP31', 'LFP31_LFP32', 'LFP33_LFP34', 'LFP34_LFP35', 'LFP35_LFP36', 'LFP36_LFP37', 'LFP37_LFP38', 'LFP38_LFP39', 'LFP39_LFP40', 'LFP41_LFP42', 'LFP42_LFP43', 'LFP43_LFP44', 'LFP44_LFP45', 'LFP45_LFP46', 'LFP46_LFP47', 'LFP47_LFP48', 'LFP49_LFP50', 'LFP50_LFP51', 'LFP51_LFP52', 'LFP52_LFP53', 'LFP53_LFP54', 'LFP54_LFP55', 'LFP55_LFP56', 'LFP57_LFP58', 'LFP58_LFP59', 'LFP59_LFP60', 'LFP60_LFP61', 'LFP61_LFP62', 'LFP62_LFP63', 'LFP63_LFP64']\n"
     ]
    }
   ],
   "source": [
    "# EXAMPLE opening response files dictionary and indexing\n",
    "k = open(response_files_path[3])\n",
    "data = json.load(k)\n",
    "keys = []\n",
    "for key in data[\"zscores\"]: keys.append(key)\n",
    "print(keys)"
   ]
  },
  {
   "cell_type": "markdown",
   "id": "bd33b350",
   "metadata": {},
   "source": [
    "## Calling Mark's Code\n",
    "### respInfoToAdjacencyMatrix"
   ]
  },
  {
   "cell_type": "code",
   "execution_count": 4,
   "id": "1e97161e",
   "metadata": {},
   "outputs": [
    {
     "ename": "NameError",
     "evalue": "name 'A2' is not defined",
     "output_type": "error",
     "traceback": [
      "\u001b[0;31m---------------------------------------------------------------------------\u001b[0m",
      "\u001b[0;31mNameError\u001b[0m                                 Traceback (most recent call last)",
      "\u001b[0;32m/var/folders/lp/5cq7xsy96pz0crh92zcj37d80000gq/T/ipykernel_29034/3872213812.py\u001b[0m in \u001b[0;36m<module>\u001b[0;34m\u001b[0m\n\u001b[1;32m      8\u001b[0m \u001b[0;34m\u001b[0m\u001b[0m\n\u001b[1;32m      9\u001b[0m \u001b[0mplt\u001b[0m\u001b[0;34m.\u001b[0m\u001b[0mfigure\u001b[0m\u001b[0;34m(\u001b[0m\u001b[0mfigsize\u001b[0m \u001b[0;34m=\u001b[0m \u001b[0;34m(\u001b[0m\u001b[0;36m15\u001b[0m\u001b[0;34m,\u001b[0m\u001b[0;36m12\u001b[0m\u001b[0;34m)\u001b[0m\u001b[0;34m)\u001b[0m\u001b[0;34m\u001b[0m\u001b[0;34m\u001b[0m\u001b[0m\n\u001b[0;32m---> 10\u001b[0;31m \u001b[0msns\u001b[0m\u001b[0;34m.\u001b[0m\u001b[0mheatmap\u001b[0m\u001b[0;34m(\u001b[0m\u001b[0mA2\u001b[0m\u001b[0;34m,\u001b[0m \u001b[0mcmap\u001b[0m \u001b[0;34m=\u001b[0m \u001b[0;34m\"mako\"\u001b[0m\u001b[0;34m,\u001b[0m \u001b[0mxticklabels\u001b[0m \u001b[0;34m=\u001b[0m \u001b[0mchNames\u001b[0m\u001b[0;34m,\u001b[0m \u001b[0myticklabels\u001b[0m \u001b[0;34m=\u001b[0m \u001b[0mchNames\u001b[0m\u001b[0;34m)\u001b[0m\u001b[0;34m\u001b[0m\u001b[0;34m\u001b[0m\u001b[0m\n\u001b[0m",
      "\u001b[0;31mNameError\u001b[0m: name 'A2' is not defined"
     ]
    },
    {
     "data": {
      "text/plain": [
       "<Figure size 1080x864 with 0 Axes>"
      ]
     },
     "metadata": {},
     "output_type": "display_data"
    }
   ],
   "source": [
    "A, nodeLabels, allStimInds, chNames = respInfoToAdjacencyMatrix(response_files_path, \"n1\", 6)\n",
    "\n",
    "import seaborn as sns\n",
    "import matplotlib.pyplot as plt\n",
    "\n",
    "A_positive = A\n",
    "A_positive[A_positive<0] = 0\n",
    "\n",
    "plt.figure(figsize = (15,12))\n",
    "sns.heatmap(A2, cmap = \"mako\", xticklabels = chNames, yticklabels = chNames)"
   ]
  },
  {
   "cell_type": "markdown",
   "id": "85dcb8e9",
   "metadata": {},
   "source": [
    "### zInfoToAdjacencyMatrix"
   ]
  },
  {
   "cell_type": "code",
   "execution_count": null,
   "id": "9f41b6d8",
   "metadata": {},
   "outputs": [],
   "source": [
    "A, nodeLabels, allStimInds, chNames = zToAdjacencyMatrix(z_files_path)\n",
    "\n",
    "A_positive = A\n",
    "A_positive[A_positive<0] = 0\n",
    "\n",
    "plt.figure(figsize = (15,12))\n",
    "sns.heatmap(A2, cmap = \"mako\", xticklabels = chNames, yticklabels = chNames)"
   ]
  },
  {
   "cell_type": "markdown",
   "id": "8ab792ff",
   "metadata": {},
   "source": [
    "### getPeakLatency"
   ]
  },
  {
   "cell_type": "code",
   "execution_count": 5,
   "id": "2ebd304e",
   "metadata": {},
   "outputs": [],
   "source": [
    "chNames, L = getPeakLatency(response_files_path, \"n1\")"
   ]
  },
  {
   "cell_type": "markdown",
   "id": "23a1dad5",
   "metadata": {},
   "source": [
    "### Data Feature Extraction Code"
   ]
  },
  {
   "cell_type": "code",
   "execution_count": 7,
   "id": "2de90cb3",
   "metadata": {},
   "outputs": [
    {
     "name": "stdout",
     "output_type": "stream",
     "text": [
      "hi\n"
     ]
    }
   ],
   "source": [
    "# extracting info from each response info file\n",
    "paths = response_files_path\n",
    "\n",
    "n = 0\n",
    "for i in range(len(paths)):\n",
    "    chNames = []\n",
    "    # load info into python dictionary\n",
    "    fileInfo = paths[i].split(\"_\")\n",
    "    stimCh1 = fileInfo[1];\n",
    "    stimCh2 = fileInfo[2];\n",
    "    jsonData = json.load(open(paths[i]))\n",
    "    \n",
    "    #Get list of channel names\n",
    "    for key in jsonData[\"time\"]: chNames.append(key)\n",
    "        \n",
    "    # loop over each channel, and extract average time series and information about the peaks\n",
    "\n",
    "    if n < 1:\n",
    "        avgResp = np.empty((len(paths),len(chNames),len(data['time'][chNames[0]])))\n",
    "        significant = np.empty((len(paths),len(chNames)))\n",
    "        n1Zscore = np.empty((len(paths),len(chNames)))\n",
    "        n2Zscore = np.empty((len(paths),len(chNames)))\n",
    "        p2Zscore = np.empty((len(paths),len(chNames)))\n",
    "        n1Latency = np.empty((len(paths),len(chNames)))\n",
    "        n2Latency = np.empty((len(paths),len(chNames)))\n",
    "        p2Latency = np.empty((len(paths),len(chNames)))\n",
    "        flipped = np.empty((len(paths),len(chNames)))\n",
    "        n += 1\n",
    "        samplingRate = np.empty((len(paths)))\n",
    "        window = np.empty((len(paths),2))\n",
    "        \n",
    "        \n",
    "    for j in range(len(chNames)):\n",
    "        avgResp[i][j] = data['time'][chNames[j]]\n",
    "        significant[i][j] = data['significant'][chNames[j]]\n",
    "        n1Zscore[i][j] = data['zscores'][chNames[j]]['n1'][1]\n",
    "        n2Zscore[i][j] = data['zscores'][chNames[j]]['n2'][1]\n",
    "        p2Zscore[i][j] = data['zscores'][chNames[j]]['p2'][1]\n",
    "        n1Latency[i][j] = data['zscores'][chNames[j]]['n1'][0]+data['window'][0]*data[\"samplingRate\"]/1000\n",
    "        n2Latency[i][j] = data['zscores'][chNames[j]]['n2'][0]+data['window'][0]*data[\"samplingRate\"]/1000\n",
    "        p2Latency[i][j] = data['zscores'][chNames[j]]['p2'][0]+data['window'][0]*data[\"samplingRate\"]/1000\n",
    "        flipped[i][j] = data['zscores'][chNames[j]]['flipped'] \n",
    "        \n",
    "    samplingRate[i] = data[\"samplingRate\"]\n",
    "    window[i] = data['window']\n",
    "    \n",
    "    # set the traces of stimulating channels to zero since they only\n",
    "    # contain stimulating waveforms / artifacts / saturated signals\n",
    "    #avgResp{k}(find( any(strcmp([split(chNames{k},'_')'],stimCh1{k})) | any(strcmp([split(chNames{k},'_')'],stimCh2{k}))))= 0;    \n"
   ]
  },
  {
   "cell_type": "code",
   "execution_count": null,
   "id": "96580169",
   "metadata": {},
   "outputs": [],
   "source": []
  },
  {
   "cell_type": "code",
   "execution_count": null,
   "id": "167ca193",
   "metadata": {},
   "outputs": [],
   "source": []
  }
 ],
 "metadata": {
  "kernelspec": {
   "display_name": "Python 3 (ipykernel)",
   "language": "python",
   "name": "python3"
  },
  "language_info": {
   "codemirror_mode": {
    "name": "ipython",
    "version": 3
   },
   "file_extension": ".py",
   "mimetype": "text/x-python",
   "name": "python",
   "nbconvert_exporter": "python",
   "pygments_lexer": "ipython3",
   "version": "3.9.7"
  }
 },
 "nbformat": 4,
 "nbformat_minor": 5
}
