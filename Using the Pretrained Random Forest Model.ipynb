{
 "cells": [
  {
   "cell_type": "code",
   "execution_count": 35,
   "id": "8d8f1d30",
   "metadata": {},
   "outputs": [],
   "source": [
    "import pickle\n",
    "import numpy as np\n",
    "import pandas as pd"
   ]
  },
  {
   "cell_type": "markdown",
   "id": "76b32948",
   "metadata": {},
   "source": [
    "### Loading in pretrained model"
   ]
  },
  {
   "cell_type": "code",
   "execution_count": 36,
   "id": "0f7fb88a",
   "metadata": {},
   "outputs": [],
   "source": [
    "loaded_model = pickle.load(open('final_random_forest.sav', 'rb'))"
   ]
  },
  {
   "cell_type": "markdown",
   "id": "b89e3379",
   "metadata": {},
   "source": [
    "### Model performance on a sample test test"
   ]
  },
  {
   "cell_type": "code",
   "execution_count": 37,
   "id": "c6b265fd",
   "metadata": {},
   "outputs": [],
   "source": [
    "from sklearn.model_selection import train_test_split\n",
    "\n",
    "all_positive_patients = pd.read_csv(\"experiments/df_final.csv\", sep = ',').reset_index(drop = True)\n",
    "\n",
    "X = all_positive_patients.drop([\"Channels\", \"patient\", \"EP\", \"IZ\", \"outcome\", \"Unnamed: 0\"], axis = 1)\n",
    "y = all_positive_patients[\"outcome\"]\n",
    "_, X_test, _, y_test = train_test_split(X, y)"
   ]
  },
  {
   "cell_type": "code",
   "execution_count": 38,
   "id": "c83a0c1f",
   "metadata": {},
   "outputs": [
    {
     "name": "stdout",
     "output_type": "stream",
     "text": [
      "Optimal roc threshold:  0.31\n",
      "Accuracy:  0.9113924050632911\n",
      "Sensitivity:  0.7692307692307693\n",
      "Specificity:  0.9393939393939394\n"
     ]
    },
    {
     "name": "stderr",
     "output_type": "stream",
     "text": [
      "/Users/shrey2/opt/anaconda3/envs/pcm/lib/python3.9/site-packages/sklearn/base.py:493: FutureWarning: The feature names should match those that were passed during fit. Starting version 1.2, an error will be raised.\n",
      "Feature names must be in the same order as they were in fit.\n",
      "\n",
      "  warnings.warn(message, FutureWarning)\n"
     ]
    }
   ],
   "source": [
    "y_pred = loaded_model.predict_proba(X_test)[:,1]\n",
    "\n",
    "#getting model and stats\n",
    "from sklearn.metrics import confusion_matrix\n",
    "from sklearn.metrics import roc_curve\n",
    "\n",
    "fpr, tpr, roc_thresholds = roc_curve(y_test, y_pred)\n",
    "\n",
    "# Printing Metrics\n",
    "optimal_thresh = roc_thresholds[np.argmax(tpr - fpr)]\n",
    "print(\"Optimal roc threshold: \", optimal_thresh)\n",
    "y_rounded = np.where(y_pred > optimal_thresh, 1, 0)\n",
    "\n",
    "tn, fp, fn, tp = confusion_matrix(y_test, y_rounded).ravel()\n",
    "\n",
    "print(\"Accuracy: \", (tp + tn)/(tp + fp + tn + fn))\n",
    "print(\"Sensitivity: \", tp / (tp + fn))\n",
    "print(\"Specificity: \", tn / (tn + fp))"
   ]
  }
 ],
 "metadata": {
  "kernelspec": {
   "display_name": "Python 3 (ipykernel)",
   "language": "python",
   "name": "python3"
  },
  "language_info": {
   "codemirror_mode": {
    "name": "ipython",
    "version": 3
   },
   "file_extension": ".py",
   "mimetype": "text/x-python",
   "name": "python",
   "nbconvert_exporter": "python",
   "pygments_lexer": "ipython3",
   "version": "3.9.7"
  }
 },
 "nbformat": 4,
 "nbformat_minor": 5
}
