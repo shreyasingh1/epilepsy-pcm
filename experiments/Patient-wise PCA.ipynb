{
 "cells": [
  {
   "cell_type": "code",
   "execution_count": 230,
   "id": "e1bcfbac",
   "metadata": {},
   "outputs": [
    {
     "name": "stdout",
     "output_type": "stream",
     "text": [
      "0.0    259\n",
      "1.0     56\n",
      "Name: outcome, dtype: int64\n"
     ]
    }
   ],
   "source": [
    "import numpy as np\n",
    "import pandas as pd\n",
    "import json\n",
    "import plotly.express as px\n",
    "\n",
    "from epilepsypcm.utils.outcome_params import node_location, early_propogation, irritative_zone\n",
    "\n",
    "from epilepsypcm.utils.make_df import make_df, get_df_list, concat_dfs\n",
    "from epilepsypcm.models.base_models import *\n",
    "from sklearn.metrics import auc\n",
    "\n",
    "\n",
    "all_positive_patients = pd.read_csv(\"df_final.csv\", sep = ',', index_col = 0).reset_index(drop = True)\n",
    "print(all_positive_patients[\"outcome\"].value_counts())\n"
   ]
  },
  {
   "cell_type": "code",
   "execution_count": 197,
   "id": "1331267a",
   "metadata": {},
   "outputs": [
    {
     "data": {
      "text/html": [
       "<div>\n",
       "<style scoped>\n",
       "    .dataframe tbody tr th:only-of-type {\n",
       "        vertical-align: middle;\n",
       "    }\n",
       "\n",
       "    .dataframe tbody tr th {\n",
       "        vertical-align: top;\n",
       "    }\n",
       "\n",
       "    .dataframe thead th {\n",
       "        text-align: right;\n",
       "    }\n",
       "</style>\n",
       "<table border=\"1\" class=\"dataframe\">\n",
       "  <thead>\n",
       "    <tr style=\"text-align: right;\">\n",
       "      <th></th>\n",
       "      <th>Channels</th>\n",
       "      <th>outcome</th>\n",
       "      <th>IZ</th>\n",
       "      <th>EP</th>\n",
       "      <th>SigResp</th>\n",
       "      <th>SigStim</th>\n",
       "      <th>N1RespAvg</th>\n",
       "      <th>N1RespSDV</th>\n",
       "      <th>N2RespAvg</th>\n",
       "      <th>N2RespSDV</th>\n",
       "      <th>...</th>\n",
       "      <th>N1StimSDV</th>\n",
       "      <th>N2StimAvg</th>\n",
       "      <th>N2StimSDV</th>\n",
       "      <th>P2StimAvg</th>\n",
       "      <th>P2StimSDV</th>\n",
       "      <th>patient</th>\n",
       "      <th>InDegree</th>\n",
       "      <th>OutDegree</th>\n",
       "      <th>EV</th>\n",
       "      <th>Closeness</th>\n",
       "    </tr>\n",
       "  </thead>\n",
       "  <tbody>\n",
       "    <tr>\n",
       "      <th>0</th>\n",
       "      <td>LA1_LA2</td>\n",
       "      <td>1.0</td>\n",
       "      <td>0.0</td>\n",
       "      <td>0.0</td>\n",
       "      <td>0.000000</td>\n",
       "      <td>0.064516</td>\n",
       "      <td>0.000000</td>\n",
       "      <td>0.000000</td>\n",
       "      <td>0.000000</td>\n",
       "      <td>0.000000</td>\n",
       "      <td>...</td>\n",
       "      <td>2.011706</td>\n",
       "      <td>3.724259</td>\n",
       "      <td>3.460362</td>\n",
       "      <td>2.796966</td>\n",
       "      <td>3.000218</td>\n",
       "      <td>PY21N008</td>\n",
       "      <td>0.000000</td>\n",
       "      <td>0.071429</td>\n",
       "      <td>4.993936e-14</td>\n",
       "      <td>0.000000</td>\n",
       "    </tr>\n",
       "    <tr>\n",
       "      <th>1</th>\n",
       "      <td>LA9_LA10</td>\n",
       "      <td>0.0</td>\n",
       "      <td>1.0</td>\n",
       "      <td>0.0</td>\n",
       "      <td>0.000000</td>\n",
       "      <td>0.193548</td>\n",
       "      <td>1.808045</td>\n",
       "      <td>1.676081</td>\n",
       "      <td>2.493333</td>\n",
       "      <td>2.341456</td>\n",
       "      <td>...</td>\n",
       "      <td>9.957544</td>\n",
       "      <td>5.060794</td>\n",
       "      <td>6.246739</td>\n",
       "      <td>4.478926</td>\n",
       "      <td>6.889325</td>\n",
       "      <td>PY21N008</td>\n",
       "      <td>0.000000</td>\n",
       "      <td>0.214286</td>\n",
       "      <td>4.993936e-14</td>\n",
       "      <td>0.000000</td>\n",
       "    </tr>\n",
       "    <tr>\n",
       "      <th>2</th>\n",
       "      <td>LAH1_LAH2</td>\n",
       "      <td>1.0</td>\n",
       "      <td>1.0</td>\n",
       "      <td>0.0</td>\n",
       "      <td>0.064516</td>\n",
       "      <td>0.193548</td>\n",
       "      <td>7.116911</td>\n",
       "      <td>19.154270</td>\n",
       "      <td>4.252294</td>\n",
       "      <td>5.048311</td>\n",
       "      <td>...</td>\n",
       "      <td>14.745868</td>\n",
       "      <td>3.809967</td>\n",
       "      <td>3.367630</td>\n",
       "      <td>1.821021</td>\n",
       "      <td>1.867067</td>\n",
       "      <td>PY21N008</td>\n",
       "      <td>0.071429</td>\n",
       "      <td>0.214286</td>\n",
       "      <td>7.960633e-04</td>\n",
       "      <td>0.174603</td>\n",
       "    </tr>\n",
       "    <tr>\n",
       "      <th>3</th>\n",
       "      <td>LAH8_LAH9</td>\n",
       "      <td>0.0</td>\n",
       "      <td>0.0</td>\n",
       "      <td>0.0</td>\n",
       "      <td>0.290323</td>\n",
       "      <td>0.096774</td>\n",
       "      <td>4.306443</td>\n",
       "      <td>3.856300</td>\n",
       "      <td>4.059026</td>\n",
       "      <td>4.970039</td>\n",
       "      <td>...</td>\n",
       "      <td>2.173960</td>\n",
       "      <td>1.695722</td>\n",
       "      <td>1.598789</td>\n",
       "      <td>1.574253</td>\n",
       "      <td>2.044144</td>\n",
       "      <td>PY21N008</td>\n",
       "      <td>0.321429</td>\n",
       "      <td>0.107143</td>\n",
       "      <td>1.590588e-01</td>\n",
       "      <td>0.480159</td>\n",
       "    </tr>\n",
       "    <tr>\n",
       "      <th>4</th>\n",
       "      <td>LPH1_LPH2</td>\n",
       "      <td>0.0</td>\n",
       "      <td>1.0</td>\n",
       "      <td>0.0</td>\n",
       "      <td>0.096774</td>\n",
       "      <td>0.258065</td>\n",
       "      <td>5.792531</td>\n",
       "      <td>15.863221</td>\n",
       "      <td>3.143365</td>\n",
       "      <td>3.299196</td>\n",
       "      <td>...</td>\n",
       "      <td>7.764073</td>\n",
       "      <td>3.585250</td>\n",
       "      <td>3.693649</td>\n",
       "      <td>3.242192</td>\n",
       "      <td>3.639533</td>\n",
       "      <td>PY21N008</td>\n",
       "      <td>0.107143</td>\n",
       "      <td>0.285714</td>\n",
       "      <td>4.743272e-03</td>\n",
       "      <td>0.218807</td>\n",
       "    </tr>\n",
       "  </tbody>\n",
       "</table>\n",
       "<p>5 rows × 23 columns</p>\n",
       "</div>"
      ],
      "text/plain": [
       "    Channels  outcome   IZ   EP   SigResp   SigStim  N1RespAvg  N1RespSDV  \\\n",
       "0    LA1_LA2      1.0  0.0  0.0  0.000000  0.064516   0.000000   0.000000   \n",
       "1   LA9_LA10      0.0  1.0  0.0  0.000000  0.193548   1.808045   1.676081   \n",
       "2  LAH1_LAH2      1.0  1.0  0.0  0.064516  0.193548   7.116911  19.154270   \n",
       "3  LAH8_LAH9      0.0  0.0  0.0  0.290323  0.096774   4.306443   3.856300   \n",
       "4  LPH1_LPH2      0.0  1.0  0.0  0.096774  0.258065   5.792531  15.863221   \n",
       "\n",
       "   N2RespAvg  N2RespSDV  ...  N1StimSDV  N2StimAvg  N2StimSDV  P2StimAvg  \\\n",
       "0   0.000000   0.000000  ...   2.011706   3.724259   3.460362   2.796966   \n",
       "1   2.493333   2.341456  ...   9.957544   5.060794   6.246739   4.478926   \n",
       "2   4.252294   5.048311  ...  14.745868   3.809967   3.367630   1.821021   \n",
       "3   4.059026   4.970039  ...   2.173960   1.695722   1.598789   1.574253   \n",
       "4   3.143365   3.299196  ...   7.764073   3.585250   3.693649   3.242192   \n",
       "\n",
       "   P2StimSDV   patient  InDegree  OutDegree            EV  Closeness  \n",
       "0   3.000218  PY21N008  0.000000   0.071429  4.993936e-14   0.000000  \n",
       "1   6.889325  PY21N008  0.000000   0.214286  4.993936e-14   0.000000  \n",
       "2   1.867067  PY21N008  0.071429   0.214286  7.960633e-04   0.174603  \n",
       "3   2.044144  PY21N008  0.321429   0.107143  1.590588e-01   0.480159  \n",
       "4   3.639533  PY21N008  0.107143   0.285714  4.743272e-03   0.218807  \n",
       "\n",
       "[5 rows x 23 columns]"
      ]
     },
     "execution_count": 197,
     "metadata": {},
     "output_type": "execute_result"
    }
   ],
   "source": [
    "all_positive_patients.head()"
   ]
  },
  {
   "cell_type": "code",
   "execution_count": 198,
   "id": "ff73a90f",
   "metadata": {},
   "outputs": [
    {
     "data": {
      "text/plain": [
       "PY21N004    46\n",
       "PY21N002    39\n",
       "PY21N008    31\n",
       "PY18N015    24\n",
       "PY19N026    23\n",
       "PY18N013    20\n",
       "PY21N006    20\n",
       "PY18N016    19\n",
       "PY20N001    17\n",
       "PY19N012    17\n",
       "PY18N002    16\n",
       "PY19N023    14\n",
       "PY16N008     9\n",
       "PY19N009     8\n",
       "PY17N005     5\n",
       "PY17N008     4\n",
       "PY16N013     3\n",
       "Name: patient, dtype: int64"
      ]
     },
     "execution_count": 198,
     "metadata": {},
     "output_type": "execute_result"
    }
   ],
   "source": [
    "all_positive_patients[\"patient\"].value_counts()"
   ]
  },
  {
   "cell_type": "code",
   "execution_count": 199,
   "id": "01548c37",
   "metadata": {},
   "outputs": [],
   "source": [
    "#scaling original data\n",
    "from sklearn.preprocessing import MinMaxScaler\n",
    "scaler = MinMaxScaler()\n",
    "\n",
    "all_positive_patients_norm = all_positive_patients\n",
    "\n",
    "patient_list = all_positive_patients[\"patient\"]\n",
    "all_positive_patients_norm = all_positive_patients_norm.drop(['Channels', \"patient\"], axis = 1)\n",
    "all_positive_patients_norm =  pd.DataFrame(scaler.fit_transform(all_positive_patients_norm.to_numpy()))\n",
    "all_positive_patients_norm[\"patient\"] = patient_list"
   ]
  },
  {
   "cell_type": "code",
   "execution_count": 200,
   "id": "840ed5ab",
   "metadata": {},
   "outputs": [
    {
     "data": {
      "text/html": [
       "<div>\n",
       "<style scoped>\n",
       "    .dataframe tbody tr th:only-of-type {\n",
       "        vertical-align: middle;\n",
       "    }\n",
       "\n",
       "    .dataframe tbody tr th {\n",
       "        vertical-align: top;\n",
       "    }\n",
       "\n",
       "    .dataframe thead th {\n",
       "        text-align: right;\n",
       "    }\n",
       "</style>\n",
       "<table border=\"1\" class=\"dataframe\">\n",
       "  <thead>\n",
       "    <tr style=\"text-align: right;\">\n",
       "      <th></th>\n",
       "      <th>0</th>\n",
       "      <th>1</th>\n",
       "      <th>2</th>\n",
       "      <th>3</th>\n",
       "      <th>4</th>\n",
       "      <th>5</th>\n",
       "      <th>6</th>\n",
       "      <th>7</th>\n",
       "      <th>8</th>\n",
       "      <th>9</th>\n",
       "      <th>...</th>\n",
       "      <th>11</th>\n",
       "      <th>12</th>\n",
       "      <th>13</th>\n",
       "      <th>14</th>\n",
       "      <th>15</th>\n",
       "      <th>16</th>\n",
       "      <th>17</th>\n",
       "      <th>18</th>\n",
       "      <th>19</th>\n",
       "      <th>20</th>\n",
       "    </tr>\n",
       "    <tr>\n",
       "      <th>patient</th>\n",
       "      <th></th>\n",
       "      <th></th>\n",
       "      <th></th>\n",
       "      <th></th>\n",
       "      <th></th>\n",
       "      <th></th>\n",
       "      <th></th>\n",
       "      <th></th>\n",
       "      <th></th>\n",
       "      <th></th>\n",
       "      <th></th>\n",
       "      <th></th>\n",
       "      <th></th>\n",
       "      <th></th>\n",
       "      <th></th>\n",
       "      <th></th>\n",
       "      <th></th>\n",
       "      <th></th>\n",
       "      <th></th>\n",
       "      <th></th>\n",
       "      <th></th>\n",
       "    </tr>\n",
       "  </thead>\n",
       "  <tbody>\n",
       "    <tr>\n",
       "      <th>PY16N008</th>\n",
       "      <td>0.333333</td>\n",
       "      <td>0.333333</td>\n",
       "      <td>0.00</td>\n",
       "      <td>0.195602</td>\n",
       "      <td>0.200617</td>\n",
       "      <td>0.164193</td>\n",
       "      <td>0.104672</td>\n",
       "      <td>0.109099</td>\n",
       "      <td>0.080189</td>\n",
       "      <td>0.214729</td>\n",
       "      <td>...</td>\n",
       "      <td>0.167691</td>\n",
       "      <td>0.101105</td>\n",
       "      <td>0.115796</td>\n",
       "      <td>0.061533</td>\n",
       "      <td>0.168954</td>\n",
       "      <td>0.072589</td>\n",
       "      <td>0.240741</td>\n",
       "      <td>0.240741</td>\n",
       "      <td>0.405874</td>\n",
       "      <td>0.322986</td>\n",
       "    </tr>\n",
       "    <tr>\n",
       "      <th>PY16N013</th>\n",
       "      <td>0.000000</td>\n",
       "      <td>0.333333</td>\n",
       "      <td>0.00</td>\n",
       "      <td>0.270833</td>\n",
       "      <td>0.277778</td>\n",
       "      <td>0.360883</td>\n",
       "      <td>0.189456</td>\n",
       "      <td>0.266252</td>\n",
       "      <td>0.249138</td>\n",
       "      <td>0.087595</td>\n",
       "      <td>...</td>\n",
       "      <td>0.368573</td>\n",
       "      <td>0.195130</td>\n",
       "      <td>0.340871</td>\n",
       "      <td>0.235600</td>\n",
       "      <td>0.059010</td>\n",
       "      <td>0.018300</td>\n",
       "      <td>0.666667</td>\n",
       "      <td>0.666667</td>\n",
       "      <td>0.666667</td>\n",
       "      <td>0.666667</td>\n",
       "    </tr>\n",
       "    <tr>\n",
       "      <th>PY17N005</th>\n",
       "      <td>0.200000</td>\n",
       "      <td>0.000000</td>\n",
       "      <td>0.00</td>\n",
       "      <td>0.487500</td>\n",
       "      <td>0.500000</td>\n",
       "      <td>0.277625</td>\n",
       "      <td>0.161090</td>\n",
       "      <td>0.219309</td>\n",
       "      <td>0.208649</td>\n",
       "      <td>0.358159</td>\n",
       "      <td>...</td>\n",
       "      <td>0.283540</td>\n",
       "      <td>0.152627</td>\n",
       "      <td>0.273639</td>\n",
       "      <td>0.141840</td>\n",
       "      <td>0.292992</td>\n",
       "      <td>0.099758</td>\n",
       "      <td>0.500000</td>\n",
       "      <td>0.500000</td>\n",
       "      <td>0.601284</td>\n",
       "      <td>0.564286</td>\n",
       "    </tr>\n",
       "    <tr>\n",
       "      <th>PY17N008</th>\n",
       "      <td>0.000000</td>\n",
       "      <td>0.750000</td>\n",
       "      <td>0.75</td>\n",
       "      <td>0.130580</td>\n",
       "      <td>0.117188</td>\n",
       "      <td>0.046634</td>\n",
       "      <td>0.020204</td>\n",
       "      <td>0.051603</td>\n",
       "      <td>0.048049</td>\n",
       "      <td>0.078397</td>\n",
       "      <td>...</td>\n",
       "      <td>0.045184</td>\n",
       "      <td>0.018858</td>\n",
       "      <td>0.029611</td>\n",
       "      <td>0.032682</td>\n",
       "      <td>0.045048</td>\n",
       "      <td>0.013629</td>\n",
       "      <td>0.500000</td>\n",
       "      <td>0.500000</td>\n",
       "      <td>0.500000</td>\n",
       "      <td>0.500000</td>\n",
       "    </tr>\n",
       "    <tr>\n",
       "      <th>PY18N002</th>\n",
       "      <td>0.312500</td>\n",
       "      <td>0.187500</td>\n",
       "      <td>0.25</td>\n",
       "      <td>0.069643</td>\n",
       "      <td>0.087484</td>\n",
       "      <td>0.081150</td>\n",
       "      <td>0.086667</td>\n",
       "      <td>0.084885</td>\n",
       "      <td>0.095804</td>\n",
       "      <td>0.078026</td>\n",
       "      <td>...</td>\n",
       "      <td>0.084327</td>\n",
       "      <td>0.083009</td>\n",
       "      <td>0.085656</td>\n",
       "      <td>0.086904</td>\n",
       "      <td>0.052315</td>\n",
       "      <td>0.033880</td>\n",
       "      <td>0.104167</td>\n",
       "      <td>0.104167</td>\n",
       "      <td>0.168034</td>\n",
       "      <td>0.121466</td>\n",
       "    </tr>\n",
       "  </tbody>\n",
       "</table>\n",
       "<p>5 rows × 21 columns</p>\n",
       "</div>"
      ],
      "text/plain": [
       "                0         1     2         3         4         5         6   \\\n",
       "patient                                                                      \n",
       "PY16N008  0.333333  0.333333  0.00  0.195602  0.200617  0.164193  0.104672   \n",
       "PY16N013  0.000000  0.333333  0.00  0.270833  0.277778  0.360883  0.189456   \n",
       "PY17N005  0.200000  0.000000  0.00  0.487500  0.500000  0.277625  0.161090   \n",
       "PY17N008  0.000000  0.750000  0.75  0.130580  0.117188  0.046634  0.020204   \n",
       "PY18N002  0.312500  0.187500  0.25  0.069643  0.087484  0.081150  0.086667   \n",
       "\n",
       "                7         8         9   ...        11        12        13  \\\n",
       "patient                                 ...                                 \n",
       "PY16N008  0.109099  0.080189  0.214729  ...  0.167691  0.101105  0.115796   \n",
       "PY16N013  0.266252  0.249138  0.087595  ...  0.368573  0.195130  0.340871   \n",
       "PY17N005  0.219309  0.208649  0.358159  ...  0.283540  0.152627  0.273639   \n",
       "PY17N008  0.051603  0.048049  0.078397  ...  0.045184  0.018858  0.029611   \n",
       "PY18N002  0.084885  0.095804  0.078026  ...  0.084327  0.083009  0.085656   \n",
       "\n",
       "                14        15        16        17        18        19        20  \n",
       "patient                                                                         \n",
       "PY16N008  0.061533  0.168954  0.072589  0.240741  0.240741  0.405874  0.322986  \n",
       "PY16N013  0.235600  0.059010  0.018300  0.666667  0.666667  0.666667  0.666667  \n",
       "PY17N005  0.141840  0.292992  0.099758  0.500000  0.500000  0.601284  0.564286  \n",
       "PY17N008  0.032682  0.045048  0.013629  0.500000  0.500000  0.500000  0.500000  \n",
       "PY18N002  0.086904  0.052315  0.033880  0.104167  0.104167  0.168034  0.121466  \n",
       "\n",
       "[5 rows x 21 columns]"
      ]
     },
     "execution_count": 200,
     "metadata": {},
     "output_type": "execute_result"
    }
   ],
   "source": [
    "patient_df = all_positive_patients_norm.groupby(by = [\"patient\"]).mean()\n",
    "patient_df.head()"
   ]
  },
  {
   "cell_type": "code",
   "execution_count": 201,
   "id": "5a1472ec",
   "metadata": {},
   "outputs": [],
   "source": [
    "import numpy as np\n",
    "from sklearn.decomposition import PCA\n",
    "\n",
    "pca = PCA(n_components = 3)\n",
    "components = pca.fit_transform(patient_df)\n",
    "labels = {\n",
    "    str(i): f\"PC {i+1} ({var:.1f}%)\"\n",
    "    for i, var in enumerate(pca.explained_variance_ratio_ * 100)\n",
    "}\n",
    "\n",
    "patient_df = patient_df.reset_index()"
   ]
  },
  {
   "cell_type": "code",
   "execution_count": 202,
   "id": "f9a62c9a",
   "metadata": {},
   "outputs": [
    {
     "name": "stdout",
     "output_type": "stream",
     "text": [
      "[0.13102119 0.09089295 0.02426413]\n"
     ]
    }
   ],
   "source": [
    "pca_df = pd.DataFrame(components)\n",
    "pca_df.columns = [\"PC1\", \"PC2\", \"PC3\"]\n",
    "\n",
    "print(pca.explained_variance_)"
   ]
  },
  {
   "cell_type": "code",
   "execution_count": 203,
   "id": "f06ab85c",
   "metadata": {},
   "outputs": [
    {
     "data": {
      "application/vnd.plotly.v1+json": {
       "config": {
        "plotlyServerURL": "https://plot.ly"
       },
       "data": [
        {
         "hovertemplate": "color=PY16N008<br>PC1=%{x}<br>PC2=%{y}<br>PC3=%{z}<extra></extra>",
         "legendgroup": "PY16N008",
         "marker": {
          "color": "#636efa",
          "symbol": "circle"
         },
         "mode": "markers",
         "name": "PY16N008",
         "scene": "scene",
         "showlegend": true,
         "type": "scatter3d",
         "x": [
          -0.13610271481632688
         ],
         "y": [
          0.03960498508468589
         ],
         "z": [
          0.24842469635637043
         ]
        },
        {
         "hovertemplate": "color=PY16N013<br>PC1=%{x}<br>PC2=%{y}<br>PC3=%{z}<extra></extra>",
         "legendgroup": "PY16N013",
         "marker": {
          "color": "#EF553B",
          "symbol": "circle"
         },
         "mode": "markers",
         "name": "PY16N013",
         "scene": "scene",
         "showlegend": true,
         "type": "scatter3d",
         "x": [
          0.7222140458694825
         ],
         "y": [
          0.15719798814202943
         ],
         "z": [
          0.3044431591895946
         ]
        },
        {
         "hovertemplate": "color=PY17N005<br>PC1=%{x}<br>PC2=%{y}<br>PC3=%{z}<extra></extra>",
         "legendgroup": "PY17N005",
         "marker": {
          "color": "#00cc96",
          "symbol": "circle"
         },
         "mode": "markers",
         "name": "PY17N005",
         "scene": "scene",
         "showlegend": true,
         "type": "scatter3d",
         "x": [
          0.5725143204131085
         ],
         "y": [
          -0.24744082734106618
         ],
         "z": [
          0.06649962671629668
         ]
        },
        {
         "hovertemplate": "color=PY17N008<br>PC1=%{x}<br>PC2=%{y}<br>PC3=%{z}<extra></extra>",
         "legendgroup": "PY17N008",
         "marker": {
          "color": "#ab63fa",
          "symbol": "circle"
         },
         "mode": "markers",
         "name": "PY17N008",
         "scene": "scene",
         "showlegend": true,
         "type": "scatter3d",
         "x": [
          0.07367301995736852
         ],
         "y": [
          0.9843848816399753
         ],
         "z": [
          -0.11678940224818823
         ]
        },
        {
         "hovertemplate": "color=PY18N002<br>PC1=%{x}<br>PC2=%{y}<br>PC3=%{z}<extra></extra>",
         "legendgroup": "PY18N002",
         "marker": {
          "color": "#FFA15A",
          "symbol": "circle"
         },
         "mode": "markers",
         "name": "PY18N002",
         "scene": "scene",
         "showlegend": true,
         "type": "scatter3d",
         "x": [
          -0.5456613713151881
         ],
         "y": [
          0.0794247736732319
         ],
         "z": [
          -0.007321505620675379
         ]
        },
        {
         "hovertemplate": "color=PY18N013<br>PC1=%{x}<br>PC2=%{y}<br>PC3=%{z}<extra></extra>",
         "legendgroup": "PY18N013",
         "marker": {
          "color": "#19d3f3",
          "symbol": "circle"
         },
         "mode": "markers",
         "name": "PY18N013",
         "scene": "scene",
         "showlegend": true,
         "type": "scatter3d",
         "x": [
          0.06585795126282515
         ],
         "y": [
          -0.24235708879992046
         ],
         "z": [
          -0.07740688591621783
         ]
        },
        {
         "hovertemplate": "color=PY18N015<br>PC1=%{x}<br>PC2=%{y}<br>PC3=%{z}<extra></extra>",
         "legendgroup": "PY18N015",
         "marker": {
          "color": "#FF6692",
          "symbol": "circle"
         },
         "mode": "markers",
         "name": "PY18N015",
         "scene": "scene",
         "showlegend": true,
         "type": "scatter3d",
         "x": [
          -0.22718434768199813
         ],
         "y": [
          -0.04914611130042791
         ],
         "z": [
          -0.293309942996472
         ]
        },
        {
         "hovertemplate": "color=PY18N016<br>PC1=%{x}<br>PC2=%{y}<br>PC3=%{z}<extra></extra>",
         "legendgroup": "PY18N016",
         "marker": {
          "color": "#B6E880",
          "symbol": "circle"
         },
         "mode": "markers",
         "name": "PY18N016",
         "scene": "scene",
         "showlegend": true,
         "type": "scatter3d",
         "x": [
          0.11779654353777713
         ],
         "y": [
          0.09414255964274597
         ],
         "z": [
          -0.07921972282370388
         ]
        },
        {
         "hovertemplate": "color=PY19N009<br>PC1=%{x}<br>PC2=%{y}<br>PC3=%{z}<extra></extra>",
         "legendgroup": "PY19N009",
         "marker": {
          "color": "#FF97FF",
          "symbol": "circle"
         },
         "mode": "markers",
         "name": "PY19N009",
         "scene": "scene",
         "showlegend": true,
         "type": "scatter3d",
         "x": [
          0.060002949632500316
         ],
         "y": [
          0.2583554874012207
         ],
         "z": [
          0.055521276336121646
         ]
        },
        {
         "hovertemplate": "color=PY19N012<br>PC1=%{x}<br>PC2=%{y}<br>PC3=%{z}<extra></extra>",
         "legendgroup": "PY19N012",
         "marker": {
          "color": "#FECB52",
          "symbol": "circle"
         },
         "mode": "markers",
         "name": "PY19N012",
         "scene": "scene",
         "showlegend": true,
         "type": "scatter3d",
         "x": [
          -0.315370903420892
         ],
         "y": [
          -0.19169408735895566
         ],
         "z": [
          0.0563749438972502
         ]
        },
        {
         "hovertemplate": "color=PY19N023<br>PC1=%{x}<br>PC2=%{y}<br>PC3=%{z}<extra></extra>",
         "legendgroup": "PY19N023",
         "marker": {
          "color": "#636efa",
          "symbol": "circle"
         },
         "mode": "markers",
         "name": "PY19N023",
         "scene": "scene",
         "showlegend": true,
         "type": "scatter3d",
         "x": [
          -0.4306465108369165
         ],
         "y": [
          -0.12431007864146959
         ],
         "z": [
          0.1026798538684332
         ]
        },
        {
         "hovertemplate": "color=PY19N026<br>PC1=%{x}<br>PC2=%{y}<br>PC3=%{z}<extra></extra>",
         "legendgroup": "PY19N026",
         "marker": {
          "color": "#EF553B",
          "symbol": "circle"
         },
         "mode": "markers",
         "name": "PY19N026",
         "scene": "scene",
         "showlegend": true,
         "type": "scatter3d",
         "x": [
          -0.0336448442324042
         ],
         "y": [
          -0.2988081909649051
         ],
         "z": [
          0.018937724627093287
         ]
        },
        {
         "hovertemplate": "color=PY20N001<br>PC1=%{x}<br>PC2=%{y}<br>PC3=%{z}<extra></extra>",
         "legendgroup": "PY20N001",
         "marker": {
          "color": "#00cc96",
          "symbol": "circle"
         },
         "mode": "markers",
         "name": "PY20N001",
         "scene": "scene",
         "showlegend": true,
         "type": "scatter3d",
         "x": [
          -0.18192256990051883
         ],
         "y": [
          0.009380927380942546
         ],
         "z": [
          -0.0464974873044912
         ]
        },
        {
         "hovertemplate": "color=PY21N002<br>PC1=%{x}<br>PC2=%{y}<br>PC3=%{z}<extra></extra>",
         "legendgroup": "PY21N002",
         "marker": {
          "color": "#ab63fa",
          "symbol": "circle"
         },
         "mode": "markers",
         "name": "PY21N002",
         "scene": "scene",
         "showlegend": true,
         "type": "scatter3d",
         "x": [
          0.39241291250604393
         ],
         "y": [
          -0.31920235030994254
         ],
         "z": [
          -0.1558517295140714
         ]
        },
        {
         "hovertemplate": "color=PY21N004<br>PC1=%{x}<br>PC2=%{y}<br>PC3=%{z}<extra></extra>",
         "legendgroup": "PY21N004",
         "marker": {
          "color": "#FFA15A",
          "symbol": "circle"
         },
         "mode": "markers",
         "name": "PY21N004",
         "scene": "scene",
         "showlegend": true,
         "type": "scatter3d",
         "x": [
          -0.2910071254828506
         ],
         "y": [
          -0.07182243199182765
         ],
         "z": [
          0.06740686155189934
         ]
        },
        {
         "hovertemplate": "color=PY21N006<br>PC1=%{x}<br>PC2=%{y}<br>PC3=%{z}<extra></extra>",
         "legendgroup": "PY21N006",
         "marker": {
          "color": "#19d3f3",
          "symbol": "circle"
         },
         "mode": "markers",
         "name": "PY21N006",
         "scene": "scene",
         "showlegend": true,
         "type": "scatter3d",
         "x": [
          0.4538325278469428
         ],
         "y": [
          -0.07793110997642846
         ],
         "z": [
          -0.24355779052206014
         ]
        },
        {
         "hovertemplate": "color=PY21N008<br>PC1=%{x}<br>PC2=%{y}<br>PC3=%{z}<extra></extra>",
         "legendgroup": "PY21N008",
         "marker": {
          "color": "#FF6692",
          "symbol": "circle"
         },
         "mode": "markers",
         "name": "PY21N008",
         "scene": "scene",
         "showlegend": true,
         "type": "scatter3d",
         "x": [
          -0.2967638833389525
         ],
         "y": [
          0.00022067372011179876
         ],
         "z": [
          0.09966632440282105
         ]
        }
       ],
       "layout": {
        "legend": {
         "title": {
          "text": "color"
         },
         "tracegroupgap": 0
        },
        "scene": {
         "domain": {
          "x": [
           0,
           1
          ],
          "y": [
           0,
           1
          ]
         },
         "xaxis": {
          "title": {
           "text": "PC1"
          }
         },
         "yaxis": {
          "title": {
           "text": "PC2"
          }
         },
         "zaxis": {
          "title": {
           "text": "PC3"
          }
         }
        },
        "template": {
         "data": {
          "bar": [
           {
            "error_x": {
             "color": "#2a3f5f"
            },
            "error_y": {
             "color": "#2a3f5f"
            },
            "marker": {
             "line": {
              "color": "#E5ECF6",
              "width": 0.5
             },
             "pattern": {
              "fillmode": "overlay",
              "size": 10,
              "solidity": 0.2
             }
            },
            "type": "bar"
           }
          ],
          "barpolar": [
           {
            "marker": {
             "line": {
              "color": "#E5ECF6",
              "width": 0.5
             },
             "pattern": {
              "fillmode": "overlay",
              "size": 10,
              "solidity": 0.2
             }
            },
            "type": "barpolar"
           }
          ],
          "carpet": [
           {
            "aaxis": {
             "endlinecolor": "#2a3f5f",
             "gridcolor": "white",
             "linecolor": "white",
             "minorgridcolor": "white",
             "startlinecolor": "#2a3f5f"
            },
            "baxis": {
             "endlinecolor": "#2a3f5f",
             "gridcolor": "white",
             "linecolor": "white",
             "minorgridcolor": "white",
             "startlinecolor": "#2a3f5f"
            },
            "type": "carpet"
           }
          ],
          "choropleth": [
           {
            "colorbar": {
             "outlinewidth": 0,
             "ticks": ""
            },
            "type": "choropleth"
           }
          ],
          "contour": [
           {
            "colorbar": {
             "outlinewidth": 0,
             "ticks": ""
            },
            "colorscale": [
             [
              0,
              "#0d0887"
             ],
             [
              0.1111111111111111,
              "#46039f"
             ],
             [
              0.2222222222222222,
              "#7201a8"
             ],
             [
              0.3333333333333333,
              "#9c179e"
             ],
             [
              0.4444444444444444,
              "#bd3786"
             ],
             [
              0.5555555555555556,
              "#d8576b"
             ],
             [
              0.6666666666666666,
              "#ed7953"
             ],
             [
              0.7777777777777778,
              "#fb9f3a"
             ],
             [
              0.8888888888888888,
              "#fdca26"
             ],
             [
              1,
              "#f0f921"
             ]
            ],
            "type": "contour"
           }
          ],
          "contourcarpet": [
           {
            "colorbar": {
             "outlinewidth": 0,
             "ticks": ""
            },
            "type": "contourcarpet"
           }
          ],
          "heatmap": [
           {
            "colorbar": {
             "outlinewidth": 0,
             "ticks": ""
            },
            "colorscale": [
             [
              0,
              "#0d0887"
             ],
             [
              0.1111111111111111,
              "#46039f"
             ],
             [
              0.2222222222222222,
              "#7201a8"
             ],
             [
              0.3333333333333333,
              "#9c179e"
             ],
             [
              0.4444444444444444,
              "#bd3786"
             ],
             [
              0.5555555555555556,
              "#d8576b"
             ],
             [
              0.6666666666666666,
              "#ed7953"
             ],
             [
              0.7777777777777778,
              "#fb9f3a"
             ],
             [
              0.8888888888888888,
              "#fdca26"
             ],
             [
              1,
              "#f0f921"
             ]
            ],
            "type": "heatmap"
           }
          ],
          "heatmapgl": [
           {
            "colorbar": {
             "outlinewidth": 0,
             "ticks": ""
            },
            "colorscale": [
             [
              0,
              "#0d0887"
             ],
             [
              0.1111111111111111,
              "#46039f"
             ],
             [
              0.2222222222222222,
              "#7201a8"
             ],
             [
              0.3333333333333333,
              "#9c179e"
             ],
             [
              0.4444444444444444,
              "#bd3786"
             ],
             [
              0.5555555555555556,
              "#d8576b"
             ],
             [
              0.6666666666666666,
              "#ed7953"
             ],
             [
              0.7777777777777778,
              "#fb9f3a"
             ],
             [
              0.8888888888888888,
              "#fdca26"
             ],
             [
              1,
              "#f0f921"
             ]
            ],
            "type": "heatmapgl"
           }
          ],
          "histogram": [
           {
            "marker": {
             "pattern": {
              "fillmode": "overlay",
              "size": 10,
              "solidity": 0.2
             }
            },
            "type": "histogram"
           }
          ],
          "histogram2d": [
           {
            "colorbar": {
             "outlinewidth": 0,
             "ticks": ""
            },
            "colorscale": [
             [
              0,
              "#0d0887"
             ],
             [
              0.1111111111111111,
              "#46039f"
             ],
             [
              0.2222222222222222,
              "#7201a8"
             ],
             [
              0.3333333333333333,
              "#9c179e"
             ],
             [
              0.4444444444444444,
              "#bd3786"
             ],
             [
              0.5555555555555556,
              "#d8576b"
             ],
             [
              0.6666666666666666,
              "#ed7953"
             ],
             [
              0.7777777777777778,
              "#fb9f3a"
             ],
             [
              0.8888888888888888,
              "#fdca26"
             ],
             [
              1,
              "#f0f921"
             ]
            ],
            "type": "histogram2d"
           }
          ],
          "histogram2dcontour": [
           {
            "colorbar": {
             "outlinewidth": 0,
             "ticks": ""
            },
            "colorscale": [
             [
              0,
              "#0d0887"
             ],
             [
              0.1111111111111111,
              "#46039f"
             ],
             [
              0.2222222222222222,
              "#7201a8"
             ],
             [
              0.3333333333333333,
              "#9c179e"
             ],
             [
              0.4444444444444444,
              "#bd3786"
             ],
             [
              0.5555555555555556,
              "#d8576b"
             ],
             [
              0.6666666666666666,
              "#ed7953"
             ],
             [
              0.7777777777777778,
              "#fb9f3a"
             ],
             [
              0.8888888888888888,
              "#fdca26"
             ],
             [
              1,
              "#f0f921"
             ]
            ],
            "type": "histogram2dcontour"
           }
          ],
          "mesh3d": [
           {
            "colorbar": {
             "outlinewidth": 0,
             "ticks": ""
            },
            "type": "mesh3d"
           }
          ],
          "parcoords": [
           {
            "line": {
             "colorbar": {
              "outlinewidth": 0,
              "ticks": ""
             }
            },
            "type": "parcoords"
           }
          ],
          "pie": [
           {
            "automargin": true,
            "type": "pie"
           }
          ],
          "scatter": [
           {
            "fillpattern": {
             "fillmode": "overlay",
             "size": 10,
             "solidity": 0.2
            },
            "type": "scatter"
           }
          ],
          "scatter3d": [
           {
            "line": {
             "colorbar": {
              "outlinewidth": 0,
              "ticks": ""
             }
            },
            "marker": {
             "colorbar": {
              "outlinewidth": 0,
              "ticks": ""
             }
            },
            "type": "scatter3d"
           }
          ],
          "scattercarpet": [
           {
            "marker": {
             "colorbar": {
              "outlinewidth": 0,
              "ticks": ""
             }
            },
            "type": "scattercarpet"
           }
          ],
          "scattergeo": [
           {
            "marker": {
             "colorbar": {
              "outlinewidth": 0,
              "ticks": ""
             }
            },
            "type": "scattergeo"
           }
          ],
          "scattergl": [
           {
            "marker": {
             "colorbar": {
              "outlinewidth": 0,
              "ticks": ""
             }
            },
            "type": "scattergl"
           }
          ],
          "scattermapbox": [
           {
            "marker": {
             "colorbar": {
              "outlinewidth": 0,
              "ticks": ""
             }
            },
            "type": "scattermapbox"
           }
          ],
          "scatterpolar": [
           {
            "marker": {
             "colorbar": {
              "outlinewidth": 0,
              "ticks": ""
             }
            },
            "type": "scatterpolar"
           }
          ],
          "scatterpolargl": [
           {
            "marker": {
             "colorbar": {
              "outlinewidth": 0,
              "ticks": ""
             }
            },
            "type": "scatterpolargl"
           }
          ],
          "scatterternary": [
           {
            "marker": {
             "colorbar": {
              "outlinewidth": 0,
              "ticks": ""
             }
            },
            "type": "scatterternary"
           }
          ],
          "surface": [
           {
            "colorbar": {
             "outlinewidth": 0,
             "ticks": ""
            },
            "colorscale": [
             [
              0,
              "#0d0887"
             ],
             [
              0.1111111111111111,
              "#46039f"
             ],
             [
              0.2222222222222222,
              "#7201a8"
             ],
             [
              0.3333333333333333,
              "#9c179e"
             ],
             [
              0.4444444444444444,
              "#bd3786"
             ],
             [
              0.5555555555555556,
              "#d8576b"
             ],
             [
              0.6666666666666666,
              "#ed7953"
             ],
             [
              0.7777777777777778,
              "#fb9f3a"
             ],
             [
              0.8888888888888888,
              "#fdca26"
             ],
             [
              1,
              "#f0f921"
             ]
            ],
            "type": "surface"
           }
          ],
          "table": [
           {
            "cells": {
             "fill": {
              "color": "#EBF0F8"
             },
             "line": {
              "color": "white"
             }
            },
            "header": {
             "fill": {
              "color": "#C8D4E3"
             },
             "line": {
              "color": "white"
             }
            },
            "type": "table"
           }
          ]
         },
         "layout": {
          "annotationdefaults": {
           "arrowcolor": "#2a3f5f",
           "arrowhead": 0,
           "arrowwidth": 1
          },
          "autotypenumbers": "strict",
          "coloraxis": {
           "colorbar": {
            "outlinewidth": 0,
            "ticks": ""
           }
          },
          "colorscale": {
           "diverging": [
            [
             0,
             "#8e0152"
            ],
            [
             0.1,
             "#c51b7d"
            ],
            [
             0.2,
             "#de77ae"
            ],
            [
             0.3,
             "#f1b6da"
            ],
            [
             0.4,
             "#fde0ef"
            ],
            [
             0.5,
             "#f7f7f7"
            ],
            [
             0.6,
             "#e6f5d0"
            ],
            [
             0.7,
             "#b8e186"
            ],
            [
             0.8,
             "#7fbc41"
            ],
            [
             0.9,
             "#4d9221"
            ],
            [
             1,
             "#276419"
            ]
           ],
           "sequential": [
            [
             0,
             "#0d0887"
            ],
            [
             0.1111111111111111,
             "#46039f"
            ],
            [
             0.2222222222222222,
             "#7201a8"
            ],
            [
             0.3333333333333333,
             "#9c179e"
            ],
            [
             0.4444444444444444,
             "#bd3786"
            ],
            [
             0.5555555555555556,
             "#d8576b"
            ],
            [
             0.6666666666666666,
             "#ed7953"
            ],
            [
             0.7777777777777778,
             "#fb9f3a"
            ],
            [
             0.8888888888888888,
             "#fdca26"
            ],
            [
             1,
             "#f0f921"
            ]
           ],
           "sequentialminus": [
            [
             0,
             "#0d0887"
            ],
            [
             0.1111111111111111,
             "#46039f"
            ],
            [
             0.2222222222222222,
             "#7201a8"
            ],
            [
             0.3333333333333333,
             "#9c179e"
            ],
            [
             0.4444444444444444,
             "#bd3786"
            ],
            [
             0.5555555555555556,
             "#d8576b"
            ],
            [
             0.6666666666666666,
             "#ed7953"
            ],
            [
             0.7777777777777778,
             "#fb9f3a"
            ],
            [
             0.8888888888888888,
             "#fdca26"
            ],
            [
             1,
             "#f0f921"
            ]
           ]
          },
          "colorway": [
           "#636efa",
           "#EF553B",
           "#00cc96",
           "#ab63fa",
           "#FFA15A",
           "#19d3f3",
           "#FF6692",
           "#B6E880",
           "#FF97FF",
           "#FECB52"
          ],
          "font": {
           "color": "#2a3f5f"
          },
          "geo": {
           "bgcolor": "white",
           "lakecolor": "white",
           "landcolor": "#E5ECF6",
           "showlakes": true,
           "showland": true,
           "subunitcolor": "white"
          },
          "hoverlabel": {
           "align": "left"
          },
          "hovermode": "closest",
          "mapbox": {
           "style": "light"
          },
          "paper_bgcolor": "white",
          "plot_bgcolor": "#E5ECF6",
          "polar": {
           "angularaxis": {
            "gridcolor": "white",
            "linecolor": "white",
            "ticks": ""
           },
           "bgcolor": "#E5ECF6",
           "radialaxis": {
            "gridcolor": "white",
            "linecolor": "white",
            "ticks": ""
           }
          },
          "scene": {
           "xaxis": {
            "backgroundcolor": "#E5ECF6",
            "gridcolor": "white",
            "gridwidth": 2,
            "linecolor": "white",
            "showbackground": true,
            "ticks": "",
            "zerolinecolor": "white"
           },
           "yaxis": {
            "backgroundcolor": "#E5ECF6",
            "gridcolor": "white",
            "gridwidth": 2,
            "linecolor": "white",
            "showbackground": true,
            "ticks": "",
            "zerolinecolor": "white"
           },
           "zaxis": {
            "backgroundcolor": "#E5ECF6",
            "gridcolor": "white",
            "gridwidth": 2,
            "linecolor": "white",
            "showbackground": true,
            "ticks": "",
            "zerolinecolor": "white"
           }
          },
          "shapedefaults": {
           "line": {
            "color": "#2a3f5f"
           }
          },
          "ternary": {
           "aaxis": {
            "gridcolor": "white",
            "linecolor": "white",
            "ticks": ""
           },
           "baxis": {
            "gridcolor": "white",
            "linecolor": "white",
            "ticks": ""
           },
           "bgcolor": "#E5ECF6",
           "caxis": {
            "gridcolor": "white",
            "linecolor": "white",
            "ticks": ""
           }
          },
          "title": {
           "x": 0.05
          },
          "xaxis": {
           "automargin": true,
           "gridcolor": "white",
           "linecolor": "white",
           "ticks": "",
           "title": {
            "standoff": 15
           },
           "zerolinecolor": "white",
           "zerolinewidth": 2
          },
          "yaxis": {
           "automargin": true,
           "gridcolor": "white",
           "linecolor": "white",
           "ticks": "",
           "title": {
            "standoff": 15
           },
           "zerolinecolor": "white",
           "zerolinewidth": 2
          }
         }
        },
        "title": {
         "text": "PCA by CCEP data"
        }
       }
      },
      "text/html": [
       "<div>                            <div id=\"112e6acb-c6c0-4d55-bf15-a39c0a45d192\" class=\"plotly-graph-div\" style=\"height:525px; width:100%;\"></div>            <script type=\"text/javascript\">                require([\"plotly\"], function(Plotly) {                    window.PLOTLYENV=window.PLOTLYENV || {};                                    if (document.getElementById(\"112e6acb-c6c0-4d55-bf15-a39c0a45d192\")) {                    Plotly.newPlot(                        \"112e6acb-c6c0-4d55-bf15-a39c0a45d192\",                        [{\"hovertemplate\":\"color=PY16N008<br>PC1=%{x}<br>PC2=%{y}<br>PC3=%{z}<extra></extra>\",\"legendgroup\":\"PY16N008\",\"marker\":{\"color\":\"#636efa\",\"symbol\":\"circle\"},\"mode\":\"markers\",\"name\":\"PY16N008\",\"scene\":\"scene\",\"showlegend\":true,\"x\":[-0.13610271481632688],\"y\":[0.03960498508468589],\"z\":[0.24842469635637043],\"type\":\"scatter3d\"},{\"hovertemplate\":\"color=PY16N013<br>PC1=%{x}<br>PC2=%{y}<br>PC3=%{z}<extra></extra>\",\"legendgroup\":\"PY16N013\",\"marker\":{\"color\":\"#EF553B\",\"symbol\":\"circle\"},\"mode\":\"markers\",\"name\":\"PY16N013\",\"scene\":\"scene\",\"showlegend\":true,\"x\":[0.7222140458694825],\"y\":[0.15719798814202943],\"z\":[0.3044431591895946],\"type\":\"scatter3d\"},{\"hovertemplate\":\"color=PY17N005<br>PC1=%{x}<br>PC2=%{y}<br>PC3=%{z}<extra></extra>\",\"legendgroup\":\"PY17N005\",\"marker\":{\"color\":\"#00cc96\",\"symbol\":\"circle\"},\"mode\":\"markers\",\"name\":\"PY17N005\",\"scene\":\"scene\",\"showlegend\":true,\"x\":[0.5725143204131085],\"y\":[-0.24744082734106618],\"z\":[0.06649962671629668],\"type\":\"scatter3d\"},{\"hovertemplate\":\"color=PY17N008<br>PC1=%{x}<br>PC2=%{y}<br>PC3=%{z}<extra></extra>\",\"legendgroup\":\"PY17N008\",\"marker\":{\"color\":\"#ab63fa\",\"symbol\":\"circle\"},\"mode\":\"markers\",\"name\":\"PY17N008\",\"scene\":\"scene\",\"showlegend\":true,\"x\":[0.07367301995736852],\"y\":[0.9843848816399753],\"z\":[-0.11678940224818823],\"type\":\"scatter3d\"},{\"hovertemplate\":\"color=PY18N002<br>PC1=%{x}<br>PC2=%{y}<br>PC3=%{z}<extra></extra>\",\"legendgroup\":\"PY18N002\",\"marker\":{\"color\":\"#FFA15A\",\"symbol\":\"circle\"},\"mode\":\"markers\",\"name\":\"PY18N002\",\"scene\":\"scene\",\"showlegend\":true,\"x\":[-0.5456613713151881],\"y\":[0.0794247736732319],\"z\":[-0.007321505620675379],\"type\":\"scatter3d\"},{\"hovertemplate\":\"color=PY18N013<br>PC1=%{x}<br>PC2=%{y}<br>PC3=%{z}<extra></extra>\",\"legendgroup\":\"PY18N013\",\"marker\":{\"color\":\"#19d3f3\",\"symbol\":\"circle\"},\"mode\":\"markers\",\"name\":\"PY18N013\",\"scene\":\"scene\",\"showlegend\":true,\"x\":[0.06585795126282515],\"y\":[-0.24235708879992046],\"z\":[-0.07740688591621783],\"type\":\"scatter3d\"},{\"hovertemplate\":\"color=PY18N015<br>PC1=%{x}<br>PC2=%{y}<br>PC3=%{z}<extra></extra>\",\"legendgroup\":\"PY18N015\",\"marker\":{\"color\":\"#FF6692\",\"symbol\":\"circle\"},\"mode\":\"markers\",\"name\":\"PY18N015\",\"scene\":\"scene\",\"showlegend\":true,\"x\":[-0.22718434768199813],\"y\":[-0.04914611130042791],\"z\":[-0.293309942996472],\"type\":\"scatter3d\"},{\"hovertemplate\":\"color=PY18N016<br>PC1=%{x}<br>PC2=%{y}<br>PC3=%{z}<extra></extra>\",\"legendgroup\":\"PY18N016\",\"marker\":{\"color\":\"#B6E880\",\"symbol\":\"circle\"},\"mode\":\"markers\",\"name\":\"PY18N016\",\"scene\":\"scene\",\"showlegend\":true,\"x\":[0.11779654353777713],\"y\":[0.09414255964274597],\"z\":[-0.07921972282370388],\"type\":\"scatter3d\"},{\"hovertemplate\":\"color=PY19N009<br>PC1=%{x}<br>PC2=%{y}<br>PC3=%{z}<extra></extra>\",\"legendgroup\":\"PY19N009\",\"marker\":{\"color\":\"#FF97FF\",\"symbol\":\"circle\"},\"mode\":\"markers\",\"name\":\"PY19N009\",\"scene\":\"scene\",\"showlegend\":true,\"x\":[0.060002949632500316],\"y\":[0.2583554874012207],\"z\":[0.055521276336121646],\"type\":\"scatter3d\"},{\"hovertemplate\":\"color=PY19N012<br>PC1=%{x}<br>PC2=%{y}<br>PC3=%{z}<extra></extra>\",\"legendgroup\":\"PY19N012\",\"marker\":{\"color\":\"#FECB52\",\"symbol\":\"circle\"},\"mode\":\"markers\",\"name\":\"PY19N012\",\"scene\":\"scene\",\"showlegend\":true,\"x\":[-0.315370903420892],\"y\":[-0.19169408735895566],\"z\":[0.0563749438972502],\"type\":\"scatter3d\"},{\"hovertemplate\":\"color=PY19N023<br>PC1=%{x}<br>PC2=%{y}<br>PC3=%{z}<extra></extra>\",\"legendgroup\":\"PY19N023\",\"marker\":{\"color\":\"#636efa\",\"symbol\":\"circle\"},\"mode\":\"markers\",\"name\":\"PY19N023\",\"scene\":\"scene\",\"showlegend\":true,\"x\":[-0.4306465108369165],\"y\":[-0.12431007864146959],\"z\":[0.1026798538684332],\"type\":\"scatter3d\"},{\"hovertemplate\":\"color=PY19N026<br>PC1=%{x}<br>PC2=%{y}<br>PC3=%{z}<extra></extra>\",\"legendgroup\":\"PY19N026\",\"marker\":{\"color\":\"#EF553B\",\"symbol\":\"circle\"},\"mode\":\"markers\",\"name\":\"PY19N026\",\"scene\":\"scene\",\"showlegend\":true,\"x\":[-0.0336448442324042],\"y\":[-0.2988081909649051],\"z\":[0.018937724627093287],\"type\":\"scatter3d\"},{\"hovertemplate\":\"color=PY20N001<br>PC1=%{x}<br>PC2=%{y}<br>PC3=%{z}<extra></extra>\",\"legendgroup\":\"PY20N001\",\"marker\":{\"color\":\"#00cc96\",\"symbol\":\"circle\"},\"mode\":\"markers\",\"name\":\"PY20N001\",\"scene\":\"scene\",\"showlegend\":true,\"x\":[-0.18192256990051883],\"y\":[0.009380927380942546],\"z\":[-0.0464974873044912],\"type\":\"scatter3d\"},{\"hovertemplate\":\"color=PY21N002<br>PC1=%{x}<br>PC2=%{y}<br>PC3=%{z}<extra></extra>\",\"legendgroup\":\"PY21N002\",\"marker\":{\"color\":\"#ab63fa\",\"symbol\":\"circle\"},\"mode\":\"markers\",\"name\":\"PY21N002\",\"scene\":\"scene\",\"showlegend\":true,\"x\":[0.39241291250604393],\"y\":[-0.31920235030994254],\"z\":[-0.1558517295140714],\"type\":\"scatter3d\"},{\"hovertemplate\":\"color=PY21N004<br>PC1=%{x}<br>PC2=%{y}<br>PC3=%{z}<extra></extra>\",\"legendgroup\":\"PY21N004\",\"marker\":{\"color\":\"#FFA15A\",\"symbol\":\"circle\"},\"mode\":\"markers\",\"name\":\"PY21N004\",\"scene\":\"scene\",\"showlegend\":true,\"x\":[-0.2910071254828506],\"y\":[-0.07182243199182765],\"z\":[0.06740686155189934],\"type\":\"scatter3d\"},{\"hovertemplate\":\"color=PY21N006<br>PC1=%{x}<br>PC2=%{y}<br>PC3=%{z}<extra></extra>\",\"legendgroup\":\"PY21N006\",\"marker\":{\"color\":\"#19d3f3\",\"symbol\":\"circle\"},\"mode\":\"markers\",\"name\":\"PY21N006\",\"scene\":\"scene\",\"showlegend\":true,\"x\":[0.4538325278469428],\"y\":[-0.07793110997642846],\"z\":[-0.24355779052206014],\"type\":\"scatter3d\"},{\"hovertemplate\":\"color=PY21N008<br>PC1=%{x}<br>PC2=%{y}<br>PC3=%{z}<extra></extra>\",\"legendgroup\":\"PY21N008\",\"marker\":{\"color\":\"#FF6692\",\"symbol\":\"circle\"},\"mode\":\"markers\",\"name\":\"PY21N008\",\"scene\":\"scene\",\"showlegend\":true,\"x\":[-0.2967638833389525],\"y\":[0.00022067372011179876],\"z\":[0.09966632440282105],\"type\":\"scatter3d\"}],                        {\"template\":{\"data\":{\"histogram2dcontour\":[{\"type\":\"histogram2dcontour\",\"colorbar\":{\"outlinewidth\":0,\"ticks\":\"\"},\"colorscale\":[[0.0,\"#0d0887\"],[0.1111111111111111,\"#46039f\"],[0.2222222222222222,\"#7201a8\"],[0.3333333333333333,\"#9c179e\"],[0.4444444444444444,\"#bd3786\"],[0.5555555555555556,\"#d8576b\"],[0.6666666666666666,\"#ed7953\"],[0.7777777777777778,\"#fb9f3a\"],[0.8888888888888888,\"#fdca26\"],[1.0,\"#f0f921\"]]}],\"choropleth\":[{\"type\":\"choropleth\",\"colorbar\":{\"outlinewidth\":0,\"ticks\":\"\"}}],\"histogram2d\":[{\"type\":\"histogram2d\",\"colorbar\":{\"outlinewidth\":0,\"ticks\":\"\"},\"colorscale\":[[0.0,\"#0d0887\"],[0.1111111111111111,\"#46039f\"],[0.2222222222222222,\"#7201a8\"],[0.3333333333333333,\"#9c179e\"],[0.4444444444444444,\"#bd3786\"],[0.5555555555555556,\"#d8576b\"],[0.6666666666666666,\"#ed7953\"],[0.7777777777777778,\"#fb9f3a\"],[0.8888888888888888,\"#fdca26\"],[1.0,\"#f0f921\"]]}],\"heatmap\":[{\"type\":\"heatmap\",\"colorbar\":{\"outlinewidth\":0,\"ticks\":\"\"},\"colorscale\":[[0.0,\"#0d0887\"],[0.1111111111111111,\"#46039f\"],[0.2222222222222222,\"#7201a8\"],[0.3333333333333333,\"#9c179e\"],[0.4444444444444444,\"#bd3786\"],[0.5555555555555556,\"#d8576b\"],[0.6666666666666666,\"#ed7953\"],[0.7777777777777778,\"#fb9f3a\"],[0.8888888888888888,\"#fdca26\"],[1.0,\"#f0f921\"]]}],\"heatmapgl\":[{\"type\":\"heatmapgl\",\"colorbar\":{\"outlinewidth\":0,\"ticks\":\"\"},\"colorscale\":[[0.0,\"#0d0887\"],[0.1111111111111111,\"#46039f\"],[0.2222222222222222,\"#7201a8\"],[0.3333333333333333,\"#9c179e\"],[0.4444444444444444,\"#bd3786\"],[0.5555555555555556,\"#d8576b\"],[0.6666666666666666,\"#ed7953\"],[0.7777777777777778,\"#fb9f3a\"],[0.8888888888888888,\"#fdca26\"],[1.0,\"#f0f921\"]]}],\"contourcarpet\":[{\"type\":\"contourcarpet\",\"colorbar\":{\"outlinewidth\":0,\"ticks\":\"\"}}],\"contour\":[{\"type\":\"contour\",\"colorbar\":{\"outlinewidth\":0,\"ticks\":\"\"},\"colorscale\":[[0.0,\"#0d0887\"],[0.1111111111111111,\"#46039f\"],[0.2222222222222222,\"#7201a8\"],[0.3333333333333333,\"#9c179e\"],[0.4444444444444444,\"#bd3786\"],[0.5555555555555556,\"#d8576b\"],[0.6666666666666666,\"#ed7953\"],[0.7777777777777778,\"#fb9f3a\"],[0.8888888888888888,\"#fdca26\"],[1.0,\"#f0f921\"]]}],\"surface\":[{\"type\":\"surface\",\"colorbar\":{\"outlinewidth\":0,\"ticks\":\"\"},\"colorscale\":[[0.0,\"#0d0887\"],[0.1111111111111111,\"#46039f\"],[0.2222222222222222,\"#7201a8\"],[0.3333333333333333,\"#9c179e\"],[0.4444444444444444,\"#bd3786\"],[0.5555555555555556,\"#d8576b\"],[0.6666666666666666,\"#ed7953\"],[0.7777777777777778,\"#fb9f3a\"],[0.8888888888888888,\"#fdca26\"],[1.0,\"#f0f921\"]]}],\"mesh3d\":[{\"type\":\"mesh3d\",\"colorbar\":{\"outlinewidth\":0,\"ticks\":\"\"}}],\"scatter\":[{\"fillpattern\":{\"fillmode\":\"overlay\",\"size\":10,\"solidity\":0.2},\"type\":\"scatter\"}],\"parcoords\":[{\"type\":\"parcoords\",\"line\":{\"colorbar\":{\"outlinewidth\":0,\"ticks\":\"\"}}}],\"scatterpolargl\":[{\"type\":\"scatterpolargl\",\"marker\":{\"colorbar\":{\"outlinewidth\":0,\"ticks\":\"\"}}}],\"bar\":[{\"error_x\":{\"color\":\"#2a3f5f\"},\"error_y\":{\"color\":\"#2a3f5f\"},\"marker\":{\"line\":{\"color\":\"#E5ECF6\",\"width\":0.5},\"pattern\":{\"fillmode\":\"overlay\",\"size\":10,\"solidity\":0.2}},\"type\":\"bar\"}],\"scattergeo\":[{\"type\":\"scattergeo\",\"marker\":{\"colorbar\":{\"outlinewidth\":0,\"ticks\":\"\"}}}],\"scatterpolar\":[{\"type\":\"scatterpolar\",\"marker\":{\"colorbar\":{\"outlinewidth\":0,\"ticks\":\"\"}}}],\"histogram\":[{\"marker\":{\"pattern\":{\"fillmode\":\"overlay\",\"size\":10,\"solidity\":0.2}},\"type\":\"histogram\"}],\"scattergl\":[{\"type\":\"scattergl\",\"marker\":{\"colorbar\":{\"outlinewidth\":0,\"ticks\":\"\"}}}],\"scatter3d\":[{\"type\":\"scatter3d\",\"line\":{\"colorbar\":{\"outlinewidth\":0,\"ticks\":\"\"}},\"marker\":{\"colorbar\":{\"outlinewidth\":0,\"ticks\":\"\"}}}],\"scattermapbox\":[{\"type\":\"scattermapbox\",\"marker\":{\"colorbar\":{\"outlinewidth\":0,\"ticks\":\"\"}}}],\"scatterternary\":[{\"type\":\"scatterternary\",\"marker\":{\"colorbar\":{\"outlinewidth\":0,\"ticks\":\"\"}}}],\"scattercarpet\":[{\"type\":\"scattercarpet\",\"marker\":{\"colorbar\":{\"outlinewidth\":0,\"ticks\":\"\"}}}],\"carpet\":[{\"aaxis\":{\"endlinecolor\":\"#2a3f5f\",\"gridcolor\":\"white\",\"linecolor\":\"white\",\"minorgridcolor\":\"white\",\"startlinecolor\":\"#2a3f5f\"},\"baxis\":{\"endlinecolor\":\"#2a3f5f\",\"gridcolor\":\"white\",\"linecolor\":\"white\",\"minorgridcolor\":\"white\",\"startlinecolor\":\"#2a3f5f\"},\"type\":\"carpet\"}],\"table\":[{\"cells\":{\"fill\":{\"color\":\"#EBF0F8\"},\"line\":{\"color\":\"white\"}},\"header\":{\"fill\":{\"color\":\"#C8D4E3\"},\"line\":{\"color\":\"white\"}},\"type\":\"table\"}],\"barpolar\":[{\"marker\":{\"line\":{\"color\":\"#E5ECF6\",\"width\":0.5},\"pattern\":{\"fillmode\":\"overlay\",\"size\":10,\"solidity\":0.2}},\"type\":\"barpolar\"}],\"pie\":[{\"automargin\":true,\"type\":\"pie\"}]},\"layout\":{\"autotypenumbers\":\"strict\",\"colorway\":[\"#636efa\",\"#EF553B\",\"#00cc96\",\"#ab63fa\",\"#FFA15A\",\"#19d3f3\",\"#FF6692\",\"#B6E880\",\"#FF97FF\",\"#FECB52\"],\"font\":{\"color\":\"#2a3f5f\"},\"hovermode\":\"closest\",\"hoverlabel\":{\"align\":\"left\"},\"paper_bgcolor\":\"white\",\"plot_bgcolor\":\"#E5ECF6\",\"polar\":{\"bgcolor\":\"#E5ECF6\",\"angularaxis\":{\"gridcolor\":\"white\",\"linecolor\":\"white\",\"ticks\":\"\"},\"radialaxis\":{\"gridcolor\":\"white\",\"linecolor\":\"white\",\"ticks\":\"\"}},\"ternary\":{\"bgcolor\":\"#E5ECF6\",\"aaxis\":{\"gridcolor\":\"white\",\"linecolor\":\"white\",\"ticks\":\"\"},\"baxis\":{\"gridcolor\":\"white\",\"linecolor\":\"white\",\"ticks\":\"\"},\"caxis\":{\"gridcolor\":\"white\",\"linecolor\":\"white\",\"ticks\":\"\"}},\"coloraxis\":{\"colorbar\":{\"outlinewidth\":0,\"ticks\":\"\"}},\"colorscale\":{\"sequential\":[[0.0,\"#0d0887\"],[0.1111111111111111,\"#46039f\"],[0.2222222222222222,\"#7201a8\"],[0.3333333333333333,\"#9c179e\"],[0.4444444444444444,\"#bd3786\"],[0.5555555555555556,\"#d8576b\"],[0.6666666666666666,\"#ed7953\"],[0.7777777777777778,\"#fb9f3a\"],[0.8888888888888888,\"#fdca26\"],[1.0,\"#f0f921\"]],\"sequentialminus\":[[0.0,\"#0d0887\"],[0.1111111111111111,\"#46039f\"],[0.2222222222222222,\"#7201a8\"],[0.3333333333333333,\"#9c179e\"],[0.4444444444444444,\"#bd3786\"],[0.5555555555555556,\"#d8576b\"],[0.6666666666666666,\"#ed7953\"],[0.7777777777777778,\"#fb9f3a\"],[0.8888888888888888,\"#fdca26\"],[1.0,\"#f0f921\"]],\"diverging\":[[0,\"#8e0152\"],[0.1,\"#c51b7d\"],[0.2,\"#de77ae\"],[0.3,\"#f1b6da\"],[0.4,\"#fde0ef\"],[0.5,\"#f7f7f7\"],[0.6,\"#e6f5d0\"],[0.7,\"#b8e186\"],[0.8,\"#7fbc41\"],[0.9,\"#4d9221\"],[1,\"#276419\"]]},\"xaxis\":{\"gridcolor\":\"white\",\"linecolor\":\"white\",\"ticks\":\"\",\"title\":{\"standoff\":15},\"zerolinecolor\":\"white\",\"automargin\":true,\"zerolinewidth\":2},\"yaxis\":{\"gridcolor\":\"white\",\"linecolor\":\"white\",\"ticks\":\"\",\"title\":{\"standoff\":15},\"zerolinecolor\":\"white\",\"automargin\":true,\"zerolinewidth\":2},\"scene\":{\"xaxis\":{\"backgroundcolor\":\"#E5ECF6\",\"gridcolor\":\"white\",\"linecolor\":\"white\",\"showbackground\":true,\"ticks\":\"\",\"zerolinecolor\":\"white\",\"gridwidth\":2},\"yaxis\":{\"backgroundcolor\":\"#E5ECF6\",\"gridcolor\":\"white\",\"linecolor\":\"white\",\"showbackground\":true,\"ticks\":\"\",\"zerolinecolor\":\"white\",\"gridwidth\":2},\"zaxis\":{\"backgroundcolor\":\"#E5ECF6\",\"gridcolor\":\"white\",\"linecolor\":\"white\",\"showbackground\":true,\"ticks\":\"\",\"zerolinecolor\":\"white\",\"gridwidth\":2}},\"shapedefaults\":{\"line\":{\"color\":\"#2a3f5f\"}},\"annotationdefaults\":{\"arrowcolor\":\"#2a3f5f\",\"arrowhead\":0,\"arrowwidth\":1},\"geo\":{\"bgcolor\":\"white\",\"landcolor\":\"#E5ECF6\",\"subunitcolor\":\"white\",\"showland\":true,\"showlakes\":true,\"lakecolor\":\"white\"},\"title\":{\"x\":0.05},\"mapbox\":{\"style\":\"light\"}}},\"scene\":{\"domain\":{\"x\":[0.0,1.0],\"y\":[0.0,1.0]},\"xaxis\":{\"title\":{\"text\":\"PC1\"}},\"yaxis\":{\"title\":{\"text\":\"PC2\"}},\"zaxis\":{\"title\":{\"text\":\"PC3\"}}},\"legend\":{\"title\":{\"text\":\"color\"},\"tracegroupgap\":0},\"title\":{\"text\":\"PCA by CCEP data\"}},                        {\"responsive\": true}                    ).then(function(){\n",
       "                            \n",
       "var gd = document.getElementById('112e6acb-c6c0-4d55-bf15-a39c0a45d192');\n",
       "var x = new MutationObserver(function (mutations, observer) {{\n",
       "        var display = window.getComputedStyle(gd).display;\n",
       "        if (!display || display === 'none') {{\n",
       "            console.log([gd, 'removed!']);\n",
       "            Plotly.purge(gd);\n",
       "            observer.disconnect();\n",
       "        }}\n",
       "}});\n",
       "\n",
       "// Listen for the removal of the full notebook cells\n",
       "var notebookContainer = gd.closest('#notebook-container');\n",
       "if (notebookContainer) {{\n",
       "    x.observe(notebookContainer, {childList: true});\n",
       "}}\n",
       "\n",
       "// Listen for the clearing of the current output cell\n",
       "var outputEl = gd.closest('.output');\n",
       "if (outputEl) {{\n",
       "    x.observe(outputEl, {childList: true});\n",
       "}}\n",
       "\n",
       "                        })                };                });            </script>        </div>"
      ]
     },
     "metadata": {},
     "output_type": "display_data"
    }
   ],
   "source": [
    "fig = px.scatter_3d(\n",
    "    pca_df,\n",
    "    x = \"PC1\",\n",
    "    y = \"PC2\",\n",
    "    z = \"PC3\",\n",
    "    #labels=labels,\n",
    "    color=patient_df[\"patient\"],\n",
    "    title = \"PCA by CCEP data\"\n",
    ")\n",
    "\n",
    "fig.show()"
   ]
  },
  {
   "cell_type": "markdown",
   "id": "8e255493",
   "metadata": {},
   "source": [
    "## clustering by patient characteristics"
   ]
  },
  {
   "cell_type": "code",
   "execution_count": 277,
   "id": "23355403",
   "metadata": {},
   "outputs": [
    {
     "data": {
      "text/html": [
       "<div>\n",
       "<style scoped>\n",
       "    .dataframe tbody tr th:only-of-type {\n",
       "        vertical-align: middle;\n",
       "    }\n",
       "\n",
       "    .dataframe tbody tr th {\n",
       "        vertical-align: top;\n",
       "    }\n",
       "\n",
       "    .dataframe thead th {\n",
       "        text-align: right;\n",
       "    }\n",
       "</style>\n",
       "<table border=\"1\" class=\"dataframe\">\n",
       "  <thead>\n",
       "    <tr style=\"text-align: right;\">\n",
       "      <th></th>\n",
       "      <th>index</th>\n",
       "      <th>patient</th>\n",
       "      <th>Gender</th>\n",
       "      <th>Age</th>\n",
       "      <th>MRI</th>\n",
       "      <th>Electrode Type</th>\n",
       "      <th>Outcome</th>\n",
       "    </tr>\n",
       "  </thead>\n",
       "  <tbody>\n",
       "    <tr>\n",
       "      <th>0</th>\n",
       "      <td>0</td>\n",
       "      <td>PY16N006</td>\n",
       "      <td>1</td>\n",
       "      <td>3</td>\n",
       "      <td>Left middle temporal gyrus lesion- path + low ...</td>\n",
       "      <td>0</td>\n",
       "      <td>1</td>\n",
       "    </tr>\n",
       "    <tr>\n",
       "      <th>1</th>\n",
       "      <td>1</td>\n",
       "      <td>PY16N008</td>\n",
       "      <td>1</td>\n",
       "      <td>4</td>\n",
       "      <td>Previous right anterior temporal lobectomy wit...</td>\n",
       "      <td>0</td>\n",
       "      <td>1</td>\n",
       "    </tr>\n",
       "    <tr>\n",
       "      <th>2</th>\n",
       "      <td>3</td>\n",
       "      <td>PY16N013</td>\n",
       "      <td>0</td>\n",
       "      <td>1</td>\n",
       "      <td>Focal cortical dysplasia in the left anterior ...</td>\n",
       "      <td>0</td>\n",
       "      <td>1</td>\n",
       "    </tr>\n",
       "    <tr>\n",
       "      <th>3</th>\n",
       "      <td>6</td>\n",
       "      <td>PY17N008</td>\n",
       "      <td>1</td>\n",
       "      <td>1</td>\n",
       "      <td>Right middle frontal gyrus dysplasia</td>\n",
       "      <td>1</td>\n",
       "      <td>1</td>\n",
       "    </tr>\n",
       "    <tr>\n",
       "      <th>4</th>\n",
       "      <td>8</td>\n",
       "      <td>PY17N014</td>\n",
       "      <td>0</td>\n",
       "      <td>3</td>\n",
       "      <td>Gliosis in posterior lateral superior left par...</td>\n",
       "      <td>0</td>\n",
       "      <td>1</td>\n",
       "    </tr>\n",
       "  </tbody>\n",
       "</table>\n",
       "</div>"
      ],
      "text/plain": [
       "   index   patient  Gender  Age  \\\n",
       "0      0  PY16N006       1    3   \n",
       "1      1  PY16N008       1    4   \n",
       "2      3  PY16N013       0    1   \n",
       "3      6  PY17N008       1    1   \n",
       "4      8  PY17N014       0    3   \n",
       "\n",
       "                                                 MRI  Electrode Type  Outcome  \n",
       "0  Left middle temporal gyrus lesion- path + low ...               0        1  \n",
       "1  Previous right anterior temporal lobectomy wit...               0        1  \n",
       "2  Focal cortical dysplasia in the left anterior ...               0        1  \n",
       "3               Right middle frontal gyrus dysplasia               1        1  \n",
       "4  Gliosis in posterior lateral superior left par...               0        1  "
      ]
     },
     "execution_count": 277,
     "metadata": {},
     "output_type": "execute_result"
    }
   ],
   "source": [
    "# outcome, 0 = no surgery, 1-4 = engel score. then using only 1 and 2 for PCA\n",
    "# electrode_type, 0 = subdural electrodes, 1 = subdural electrodes + depth, \n",
    "                 #2 = SEEG, 3 = Strip + grid + depth\n",
    "# age, 0 = 0s, 1 = 10s, 2 = 20s, 3 = 30s, 4 = 40s, 5 = 50s, 6 = 60s\n",
    "# gender, 0 = Male, 1 = Female\n",
    "# Mri, no changes, still categorical\n",
    "\n",
    "patient_chars = pd.read_csv(\"patient_characteristics.csv\", sep = ',').reset_index(drop = True)\n",
    "\n",
    "#taking only engel 1 + 2\n",
    "#patient_chars = patient_chars[(patient_chars[\"Outcome\"] == 1) | (patient_chars[\"Outcome\"] == 2)].reset_index()\n",
    "patient_chars = patient_chars[(patient_chars[\"Outcome\"] == 1)].reset_index()\n",
    "\n",
    "\n",
    "patient_chars.head()"
   ]
  },
  {
   "cell_type": "code",
   "execution_count": 278,
   "id": "3e0b5b5b",
   "metadata": {},
   "outputs": [],
   "source": [
    "from sklearn.preprocessing import MinMaxScaler\n",
    "scaler = MinMaxScaler()\n",
    "\n",
    "patient_chars_norm = patient_chars\n",
    "\n",
    "patient_list = patient_chars_norm[\"patient\"]\n",
    "patient_chars_norm = patient_chars_norm.drop([\"MRI\", \"patient\"], axis = 1)\n",
    "patient_chars_norm =  pd.DataFrame(scaler.fit_transform(patient_chars_norm.to_numpy()))\n",
    "patient_chars_norm[\"patient\"] = patient_list\n",
    "\n",
    "patient_chars_norm.set_index(\"patient\", inplace = True)"
   ]
  },
  {
   "cell_type": "code",
   "execution_count": 279,
   "id": "70313e0d",
   "metadata": {},
   "outputs": [],
   "source": [
    "import numpy as np\n",
    "from sklearn.decomposition import PCA\n",
    "\n",
    "pca = PCA(n_components = 4)\n",
    "components = pca.fit_transform(patient_chars_norm)\n",
    "labels = {\n",
    "    str(i): f\"PC {i+1} ({var:.1f}%)\"\n",
    "    for i, var in enumerate(pca.explained_variance_ratio_ * 100)\n",
    "}\n",
    "\n",
    "patient_chars_norm = patient_chars_norm.reset_index()"
   ]
  },
  {
   "cell_type": "code",
   "execution_count": 280,
   "id": "7c691680",
   "metadata": {},
   "outputs": [
    {
     "name": "stdout",
     "output_type": "stream",
     "text": [
      "[0.27588734 0.18901459 0.0985218  0.01817665]\n"
     ]
    }
   ],
   "source": [
    "pca_df = pd.DataFrame(components)\n",
    "pca_df.columns = [\"PC1\", \"PC2\", \"PC3\", \"PC4\"]\n",
    "\n",
    "print(pca.explained_variance_)"
   ]
  },
  {
   "cell_type": "code",
   "execution_count": 281,
   "id": "b87d0510",
   "metadata": {
    "scrolled": false
   },
   "outputs": [
    {
     "data": {
      "application/vnd.plotly.v1+json": {
       "config": {
        "plotlyServerURL": "https://plot.ly"
       },
       "data": [
        {
         "hovertemplate": "color=PY16N006<br>PC1=%{x}<br>PC2=%{y}<br>PC3=%{z}<extra></extra>",
         "legendgroup": "PY16N006",
         "marker": {
          "color": "#636efa",
          "symbol": "circle"
         },
         "mode": "markers",
         "name": "PY16N006",
         "scene": "scene",
         "showlegend": true,
         "type": "scatter3d",
         "x": [
          -0.24440351244429886
         ],
         "y": [
          -0.7672065139456655
         ],
         "z": [
          -0.032091155024974664
         ]
        },
        {
         "hovertemplate": "color=PY16N008<br>PC1=%{x}<br>PC2=%{y}<br>PC3=%{z}<extra></extra>",
         "legendgroup": "PY16N008",
         "marker": {
          "color": "#EF553B",
          "symbol": "circle"
         },
         "mode": "markers",
         "name": "PY16N008",
         "scene": "scene",
         "showlegend": true,
         "type": "scatter3d",
         "x": [
          -0.2509355158809545
         ],
         "y": [
          -0.7413175464996321
         ],
         "z": [
          -0.28072722746061823
         ]
        },
        {
         "hovertemplate": "color=PY16N013<br>PC1=%{x}<br>PC2=%{y}<br>PC3=%{z}<extra></extra>",
         "legendgroup": "PY16N013",
         "marker": {
          "color": "#00cc96",
          "symbol": "circle"
         },
         "mode": "markers",
         "name": "PY16N013",
         "scene": "scene",
         "showlegend": true,
         "type": "scatter3d",
         "x": [
          0.679273246631644
         ],
         "y": [
          -0.39118517824772103
         ],
         "z": [
          0.4756109711018147
         ]
        },
        {
         "hovertemplate": "color=PY17N008<br>PC1=%{x}<br>PC2=%{y}<br>PC3=%{z}<extra></extra>",
         "legendgroup": "PY17N008",
         "marker": {
          "color": "#ab63fa",
          "symbol": "circle"
         },
         "mode": "markers",
         "name": "PY17N008",
         "scene": "scene",
         "showlegend": true,
         "type": "scatter3d",
         "x": [
          -0.36876600828805733
         ],
         "y": [
          -0.4813273699242059
         ],
         "z": [
          0.47959478281630197
         ]
        },
        {
         "hovertemplate": "color=PY17N014<br>PC1=%{x}<br>PC2=%{y}<br>PC3=%{z}<extra></extra>",
         "legendgroup": "PY17N014",
         "marker": {
          "color": "#FFA15A",
          "symbol": "circle"
         },
         "mode": "markers",
         "name": "PY17N014",
         "scene": "scene",
         "showlegend": true,
         "type": "scatter3d",
         "x": [
          0.6538060050949381
         ],
         "y": [
          -0.29542544486985606
         ],
         "z": [
          -0.018531083947842693
         ]
        },
        {
         "hovertemplate": "color=PY17N019<br>PC1=%{x}<br>PC2=%{y}<br>PC3=%{z}<extra></extra>",
         "legendgroup": "PY17N019",
         "marker": {
          "color": "#19d3f3",
          "symbol": "circle"
         },
         "mode": "markers",
         "name": "PY17N019",
         "scene": "scene",
         "showlegend": true,
         "type": "scatter3d",
         "x": [
          0.6431395901038176
         ],
         "y": [
          -0.25487587792855676
         ],
         "z": [
          -0.26612379310960965
         ]
        },
        {
         "hovertemplate": "color=PY17N020<br>PC1=%{x}<br>PC2=%{y}<br>PC3=%{z}<extra></extra>",
         "legendgroup": "PY17N020",
         "marker": {
          "color": "#FF6692",
          "symbol": "circle"
         },
         "mode": "markers",
         "name": "PY17N020",
         "scene": "scene",
         "showlegend": true,
         "type": "scatter3d",
         "x": [
          0.6390051785493528
         ],
         "y": [
          -0.24021527843329055
         ],
         "z": [
          -0.26508042983573316
         ]
        },
        {
         "hovertemplate": "color=PY18N003<br>PC1=%{x}<br>PC2=%{y}<br>PC3=%{z}<extra></extra>",
         "legendgroup": "PY18N003",
         "marker": {
          "color": "#B6E880",
          "symbol": "circle"
         },
         "mode": "markers",
         "name": "PY18N003",
         "scene": "scene",
         "showlegend": true,
         "type": "scatter3d",
         "x": [
          0.6355315392048035
         ],
         "y": [
          -0.23335081534429156
         ],
         "z": [
          0.23636516813105993
         ]
        },
        {
         "hovertemplate": "color=PY18N013<br>PC1=%{x}<br>PC2=%{y}<br>PC3=%{z}<extra></extra>",
         "legendgroup": "PY18N013",
         "marker": {
          "color": "#FF97FF",
          "symbol": "circle"
         },
         "mode": "markers",
         "name": "PY18N013",
         "scene": "scene",
         "showlegend": true,
         "type": "scatter3d",
         "x": [
          -0.5168589259962469
         ],
         "y": [
          -0.10312072406938086
         ],
         "z": [
          0.24641586662452478
         ]
        },
        {
         "hovertemplate": "color=PY18N015<br>PC1=%{x}<br>PC2=%{y}<br>PC3=%{z}<extra></extra>",
         "legendgroup": "PY18N015",
         "marker": {
          "color": "#FECB52",
          "symbol": "circle"
         },
         "mode": "markers",
         "name": "PY18N015",
         "scene": "scene",
         "showlegend": true,
         "type": "scatter3d",
         "x": [
          -0.5233909294329026
         ],
         "y": [
          -0.07723175662334784
         ],
         "z": [
          -0.0022202058111188234
         ]
        },
        {
         "hovertemplate": "color=PY19N009<br>PC1=%{x}<br>PC2=%{y}<br>PC3=%{z}<extra></extra>",
         "legendgroup": "PY19N009",
         "marker": {
          "color": "#636efa",
          "symbol": "circle"
         },
         "mode": "markers",
         "name": "PY19N009",
         "scene": "scene",
         "showlegend": true,
         "type": "scatter3d",
         "x": [
          -0.5447237594151435
         ],
         "y": [
          0.003867377259250774
         ],
         "z": [
          -0.4974056241346527
         ]
        },
        {
         "hovertemplate": "color=PY19N012<br>PC1=%{x}<br>PC2=%{y}<br>PC3=%{z}<extra></extra>",
         "legendgroup": "PY19N012",
         "marker": {
          "color": "#EF553B",
          "symbol": "circle"
         },
         "mode": "markers",
         "name": "PY19N012",
         "scene": "scene",
         "showlegend": true,
         "type": "scatter3d",
         "x": [
          0.3848242308875391
         ],
         "y": [
          0.3617958819174293
         ],
         "z": [
          -0.24146966026513647
         ]
        },
        {
         "hovertemplate": "color=PY19N023<br>PC1=%{x}<br>PC2=%{y}<br>PC3=%{z}<extra></extra>",
         "legendgroup": "PY19N023",
         "marker": {
          "color": "#00cc96",
          "symbol": "circle"
         },
         "mode": "markers",
         "name": "PY19N023",
         "scene": "scene",
         "showlegend": true,
         "type": "scatter3d",
         "x": [
          0.36654976499740455
         ],
         "y": [
          0.4238705114429938
         ],
         "z": [
          0.013426591813766214
         ]
        },
        {
         "hovertemplate": "color=PY19N026<br>PC1=%{x}<br>PC2=%{y}<br>PC3=%{z}<extra></extra>",
         "legendgroup": "PY19N026",
         "marker": {
          "color": "#ab63fa",
          "symbol": "circle"
         },
         "mode": "markers",
         "name": "PY19N026",
         "scene": "scene",
         "showlegend": true,
         "type": "scatter3d",
         "x": [
          -0.5730038680864825
         ],
         "y": [
          0.09869543731984735
         ],
         "z": [
          0.01030015347539951
         ]
        },
        {
         "hovertemplate": "color=PY20N001<br>PC1=%{x}<br>PC2=%{y}<br>PC3=%{z}<extra></extra>",
         "legendgroup": "PY20N001",
         "marker": {
          "color": "#FFA15A",
          "symbol": "circle"
         },
         "mode": "markers",
         "name": "PY20N001",
         "scene": "scene",
         "showlegend": true,
         "type": "scatter3d",
         "x": [
          0.34935134656962863
         ],
         "y": [
          0.4903090458303262
         ],
         "z": [
          -0.48280218978364436
         ]
        },
        {
         "hovertemplate": "color=PY21N002<br>PC1=%{x}<br>PC2=%{y}<br>PC3=%{z}<extra></extra>",
         "legendgroup": "PY21N002",
         "marker": {
          "color": "#19d3f3",
          "symbol": "circle"
         },
         "mode": "markers",
         "name": "PY21N002",
         "scene": "scene",
         "showlegend": true,
         "type": "scatter3d",
         "x": [
          -0.6084767524043929
         ],
         "y": [
          0.2272086012327443
         ],
         "z": [
          -0.23103237604310828
         ]
        },
        {
         "hovertemplate": "color=PY21N004<br>PC1=%{x}<br>PC2=%{y}<br>PC3=%{z}<extra></extra>",
         "legendgroup": "PY21N004",
         "marker": {
          "color": "#FF6692",
          "symbol": "circle"
         },
         "mode": "markers",
         "name": "PY21N004",
         "scene": "scene",
         "showlegend": true,
         "type": "scatter3d",
         "x": [
          0.2191176194991309
         ],
         "y": [
          0.7942810208915514
         ],
         "z": [
          0.2806499103149055
         ]
        },
        {
         "hovertemplate": "color=PY21N006<br>PC1=%{x}<br>PC2=%{y}<br>PC3=%{z}<extra></extra>",
         "legendgroup": "PY21N006",
         "marker": {
          "color": "#B6E880",
          "symbol": "circle"
         },
         "mode": "markers",
         "name": "PY21N006",
         "scene": "scene",
         "showlegend": true,
         "type": "scatter3d",
         "x": [
          -0.616745575513323
         ],
         "y": [
          0.2565298002232767
         ],
         "z": [
          -0.22894564949535523
         ]
        },
        {
         "hovertemplate": "color=PY21N008<br>PC1=%{x}<br>PC2=%{y}<br>PC3=%{z}<extra></extra>",
         "legendgroup": "PY21N008",
         "marker": {
          "color": "#FF97FF",
          "symbol": "circle"
         },
         "mode": "markers",
         "name": "PY21N008",
         "scene": "scene",
         "showlegend": true,
         "type": "scatter3d",
         "x": [
          0.3110655951170851
         ],
         "y": [
          0.6178905364259548
         ],
         "z": [
          0.27771311335755755
         ]
        },
        {
         "hovertemplate": "color=PY21N020<br>PC1=%{x}<br>PC2=%{y}<br>PC3=%{z}<extra></extra>",
         "legendgroup": "PY21N020",
         "marker": {
          "color": "#FECB52",
          "symbol": "circle"
         },
         "mode": "markers",
         "name": "PY21N020",
         "scene": "scene",
         "showlegend": true,
         "type": "scatter3d",
         "x": [
          -0.6343592691935416
         ],
         "y": [
          0.3108082933425742
         ],
         "z": [
          0.526352837276464
         ]
        }
       ],
       "layout": {
        "legend": {
         "title": {
          "text": "color"
         },
         "tracegroupgap": 0
        },
        "scene": {
         "domain": {
          "x": [
           0,
           1
          ],
          "y": [
           0,
           1
          ]
         },
         "xaxis": {
          "title": {
           "text": "PC1"
          }
         },
         "yaxis": {
          "title": {
           "text": "PC2"
          }
         },
         "zaxis": {
          "title": {
           "text": "PC3"
          }
         }
        },
        "template": {
         "data": {
          "bar": [
           {
            "error_x": {
             "color": "#2a3f5f"
            },
            "error_y": {
             "color": "#2a3f5f"
            },
            "marker": {
             "line": {
              "color": "#E5ECF6",
              "width": 0.5
             },
             "pattern": {
              "fillmode": "overlay",
              "size": 10,
              "solidity": 0.2
             }
            },
            "type": "bar"
           }
          ],
          "barpolar": [
           {
            "marker": {
             "line": {
              "color": "#E5ECF6",
              "width": 0.5
             },
             "pattern": {
              "fillmode": "overlay",
              "size": 10,
              "solidity": 0.2
             }
            },
            "type": "barpolar"
           }
          ],
          "carpet": [
           {
            "aaxis": {
             "endlinecolor": "#2a3f5f",
             "gridcolor": "white",
             "linecolor": "white",
             "minorgridcolor": "white",
             "startlinecolor": "#2a3f5f"
            },
            "baxis": {
             "endlinecolor": "#2a3f5f",
             "gridcolor": "white",
             "linecolor": "white",
             "minorgridcolor": "white",
             "startlinecolor": "#2a3f5f"
            },
            "type": "carpet"
           }
          ],
          "choropleth": [
           {
            "colorbar": {
             "outlinewidth": 0,
             "ticks": ""
            },
            "type": "choropleth"
           }
          ],
          "contour": [
           {
            "colorbar": {
             "outlinewidth": 0,
             "ticks": ""
            },
            "colorscale": [
             [
              0,
              "#0d0887"
             ],
             [
              0.1111111111111111,
              "#46039f"
             ],
             [
              0.2222222222222222,
              "#7201a8"
             ],
             [
              0.3333333333333333,
              "#9c179e"
             ],
             [
              0.4444444444444444,
              "#bd3786"
             ],
             [
              0.5555555555555556,
              "#d8576b"
             ],
             [
              0.6666666666666666,
              "#ed7953"
             ],
             [
              0.7777777777777778,
              "#fb9f3a"
             ],
             [
              0.8888888888888888,
              "#fdca26"
             ],
             [
              1,
              "#f0f921"
             ]
            ],
            "type": "contour"
           }
          ],
          "contourcarpet": [
           {
            "colorbar": {
             "outlinewidth": 0,
             "ticks": ""
            },
            "type": "contourcarpet"
           }
          ],
          "heatmap": [
           {
            "colorbar": {
             "outlinewidth": 0,
             "ticks": ""
            },
            "colorscale": [
             [
              0,
              "#0d0887"
             ],
             [
              0.1111111111111111,
              "#46039f"
             ],
             [
              0.2222222222222222,
              "#7201a8"
             ],
             [
              0.3333333333333333,
              "#9c179e"
             ],
             [
              0.4444444444444444,
              "#bd3786"
             ],
             [
              0.5555555555555556,
              "#d8576b"
             ],
             [
              0.6666666666666666,
              "#ed7953"
             ],
             [
              0.7777777777777778,
              "#fb9f3a"
             ],
             [
              0.8888888888888888,
              "#fdca26"
             ],
             [
              1,
              "#f0f921"
             ]
            ],
            "type": "heatmap"
           }
          ],
          "heatmapgl": [
           {
            "colorbar": {
             "outlinewidth": 0,
             "ticks": ""
            },
            "colorscale": [
             [
              0,
              "#0d0887"
             ],
             [
              0.1111111111111111,
              "#46039f"
             ],
             [
              0.2222222222222222,
              "#7201a8"
             ],
             [
              0.3333333333333333,
              "#9c179e"
             ],
             [
              0.4444444444444444,
              "#bd3786"
             ],
             [
              0.5555555555555556,
              "#d8576b"
             ],
             [
              0.6666666666666666,
              "#ed7953"
             ],
             [
              0.7777777777777778,
              "#fb9f3a"
             ],
             [
              0.8888888888888888,
              "#fdca26"
             ],
             [
              1,
              "#f0f921"
             ]
            ],
            "type": "heatmapgl"
           }
          ],
          "histogram": [
           {
            "marker": {
             "pattern": {
              "fillmode": "overlay",
              "size": 10,
              "solidity": 0.2
             }
            },
            "type": "histogram"
           }
          ],
          "histogram2d": [
           {
            "colorbar": {
             "outlinewidth": 0,
             "ticks": ""
            },
            "colorscale": [
             [
              0,
              "#0d0887"
             ],
             [
              0.1111111111111111,
              "#46039f"
             ],
             [
              0.2222222222222222,
              "#7201a8"
             ],
             [
              0.3333333333333333,
              "#9c179e"
             ],
             [
              0.4444444444444444,
              "#bd3786"
             ],
             [
              0.5555555555555556,
              "#d8576b"
             ],
             [
              0.6666666666666666,
              "#ed7953"
             ],
             [
              0.7777777777777778,
              "#fb9f3a"
             ],
             [
              0.8888888888888888,
              "#fdca26"
             ],
             [
              1,
              "#f0f921"
             ]
            ],
            "type": "histogram2d"
           }
          ],
          "histogram2dcontour": [
           {
            "colorbar": {
             "outlinewidth": 0,
             "ticks": ""
            },
            "colorscale": [
             [
              0,
              "#0d0887"
             ],
             [
              0.1111111111111111,
              "#46039f"
             ],
             [
              0.2222222222222222,
              "#7201a8"
             ],
             [
              0.3333333333333333,
              "#9c179e"
             ],
             [
              0.4444444444444444,
              "#bd3786"
             ],
             [
              0.5555555555555556,
              "#d8576b"
             ],
             [
              0.6666666666666666,
              "#ed7953"
             ],
             [
              0.7777777777777778,
              "#fb9f3a"
             ],
             [
              0.8888888888888888,
              "#fdca26"
             ],
             [
              1,
              "#f0f921"
             ]
            ],
            "type": "histogram2dcontour"
           }
          ],
          "mesh3d": [
           {
            "colorbar": {
             "outlinewidth": 0,
             "ticks": ""
            },
            "type": "mesh3d"
           }
          ],
          "parcoords": [
           {
            "line": {
             "colorbar": {
              "outlinewidth": 0,
              "ticks": ""
             }
            },
            "type": "parcoords"
           }
          ],
          "pie": [
           {
            "automargin": true,
            "type": "pie"
           }
          ],
          "scatter": [
           {
            "fillpattern": {
             "fillmode": "overlay",
             "size": 10,
             "solidity": 0.2
            },
            "type": "scatter"
           }
          ],
          "scatter3d": [
           {
            "line": {
             "colorbar": {
              "outlinewidth": 0,
              "ticks": ""
             }
            },
            "marker": {
             "colorbar": {
              "outlinewidth": 0,
              "ticks": ""
             }
            },
            "type": "scatter3d"
           }
          ],
          "scattercarpet": [
           {
            "marker": {
             "colorbar": {
              "outlinewidth": 0,
              "ticks": ""
             }
            },
            "type": "scattercarpet"
           }
          ],
          "scattergeo": [
           {
            "marker": {
             "colorbar": {
              "outlinewidth": 0,
              "ticks": ""
             }
            },
            "type": "scattergeo"
           }
          ],
          "scattergl": [
           {
            "marker": {
             "colorbar": {
              "outlinewidth": 0,
              "ticks": ""
             }
            },
            "type": "scattergl"
           }
          ],
          "scattermapbox": [
           {
            "marker": {
             "colorbar": {
              "outlinewidth": 0,
              "ticks": ""
             }
            },
            "type": "scattermapbox"
           }
          ],
          "scatterpolar": [
           {
            "marker": {
             "colorbar": {
              "outlinewidth": 0,
              "ticks": ""
             }
            },
            "type": "scatterpolar"
           }
          ],
          "scatterpolargl": [
           {
            "marker": {
             "colorbar": {
              "outlinewidth": 0,
              "ticks": ""
             }
            },
            "type": "scatterpolargl"
           }
          ],
          "scatterternary": [
           {
            "marker": {
             "colorbar": {
              "outlinewidth": 0,
              "ticks": ""
             }
            },
            "type": "scatterternary"
           }
          ],
          "surface": [
           {
            "colorbar": {
             "outlinewidth": 0,
             "ticks": ""
            },
            "colorscale": [
             [
              0,
              "#0d0887"
             ],
             [
              0.1111111111111111,
              "#46039f"
             ],
             [
              0.2222222222222222,
              "#7201a8"
             ],
             [
              0.3333333333333333,
              "#9c179e"
             ],
             [
              0.4444444444444444,
              "#bd3786"
             ],
             [
              0.5555555555555556,
              "#d8576b"
             ],
             [
              0.6666666666666666,
              "#ed7953"
             ],
             [
              0.7777777777777778,
              "#fb9f3a"
             ],
             [
              0.8888888888888888,
              "#fdca26"
             ],
             [
              1,
              "#f0f921"
             ]
            ],
            "type": "surface"
           }
          ],
          "table": [
           {
            "cells": {
             "fill": {
              "color": "#EBF0F8"
             },
             "line": {
              "color": "white"
             }
            },
            "header": {
             "fill": {
              "color": "#C8D4E3"
             },
             "line": {
              "color": "white"
             }
            },
            "type": "table"
           }
          ]
         },
         "layout": {
          "annotationdefaults": {
           "arrowcolor": "#2a3f5f",
           "arrowhead": 0,
           "arrowwidth": 1
          },
          "autotypenumbers": "strict",
          "coloraxis": {
           "colorbar": {
            "outlinewidth": 0,
            "ticks": ""
           }
          },
          "colorscale": {
           "diverging": [
            [
             0,
             "#8e0152"
            ],
            [
             0.1,
             "#c51b7d"
            ],
            [
             0.2,
             "#de77ae"
            ],
            [
             0.3,
             "#f1b6da"
            ],
            [
             0.4,
             "#fde0ef"
            ],
            [
             0.5,
             "#f7f7f7"
            ],
            [
             0.6,
             "#e6f5d0"
            ],
            [
             0.7,
             "#b8e186"
            ],
            [
             0.8,
             "#7fbc41"
            ],
            [
             0.9,
             "#4d9221"
            ],
            [
             1,
             "#276419"
            ]
           ],
           "sequential": [
            [
             0,
             "#0d0887"
            ],
            [
             0.1111111111111111,
             "#46039f"
            ],
            [
             0.2222222222222222,
             "#7201a8"
            ],
            [
             0.3333333333333333,
             "#9c179e"
            ],
            [
             0.4444444444444444,
             "#bd3786"
            ],
            [
             0.5555555555555556,
             "#d8576b"
            ],
            [
             0.6666666666666666,
             "#ed7953"
            ],
            [
             0.7777777777777778,
             "#fb9f3a"
            ],
            [
             0.8888888888888888,
             "#fdca26"
            ],
            [
             1,
             "#f0f921"
            ]
           ],
           "sequentialminus": [
            [
             0,
             "#0d0887"
            ],
            [
             0.1111111111111111,
             "#46039f"
            ],
            [
             0.2222222222222222,
             "#7201a8"
            ],
            [
             0.3333333333333333,
             "#9c179e"
            ],
            [
             0.4444444444444444,
             "#bd3786"
            ],
            [
             0.5555555555555556,
             "#d8576b"
            ],
            [
             0.6666666666666666,
             "#ed7953"
            ],
            [
             0.7777777777777778,
             "#fb9f3a"
            ],
            [
             0.8888888888888888,
             "#fdca26"
            ],
            [
             1,
             "#f0f921"
            ]
           ]
          },
          "colorway": [
           "#636efa",
           "#EF553B",
           "#00cc96",
           "#ab63fa",
           "#FFA15A",
           "#19d3f3",
           "#FF6692",
           "#B6E880",
           "#FF97FF",
           "#FECB52"
          ],
          "font": {
           "color": "#2a3f5f"
          },
          "geo": {
           "bgcolor": "white",
           "lakecolor": "white",
           "landcolor": "#E5ECF6",
           "showlakes": true,
           "showland": true,
           "subunitcolor": "white"
          },
          "hoverlabel": {
           "align": "left"
          },
          "hovermode": "closest",
          "mapbox": {
           "style": "light"
          },
          "paper_bgcolor": "white",
          "plot_bgcolor": "#E5ECF6",
          "polar": {
           "angularaxis": {
            "gridcolor": "white",
            "linecolor": "white",
            "ticks": ""
           },
           "bgcolor": "#E5ECF6",
           "radialaxis": {
            "gridcolor": "white",
            "linecolor": "white",
            "ticks": ""
           }
          },
          "scene": {
           "xaxis": {
            "backgroundcolor": "#E5ECF6",
            "gridcolor": "white",
            "gridwidth": 2,
            "linecolor": "white",
            "showbackground": true,
            "ticks": "",
            "zerolinecolor": "white"
           },
           "yaxis": {
            "backgroundcolor": "#E5ECF6",
            "gridcolor": "white",
            "gridwidth": 2,
            "linecolor": "white",
            "showbackground": true,
            "ticks": "",
            "zerolinecolor": "white"
           },
           "zaxis": {
            "backgroundcolor": "#E5ECF6",
            "gridcolor": "white",
            "gridwidth": 2,
            "linecolor": "white",
            "showbackground": true,
            "ticks": "",
            "zerolinecolor": "white"
           }
          },
          "shapedefaults": {
           "line": {
            "color": "#2a3f5f"
           }
          },
          "ternary": {
           "aaxis": {
            "gridcolor": "white",
            "linecolor": "white",
            "ticks": ""
           },
           "baxis": {
            "gridcolor": "white",
            "linecolor": "white",
            "ticks": ""
           },
           "bgcolor": "#E5ECF6",
           "caxis": {
            "gridcolor": "white",
            "linecolor": "white",
            "ticks": ""
           }
          },
          "title": {
           "x": 0.05
          },
          "xaxis": {
           "automargin": true,
           "gridcolor": "white",
           "linecolor": "white",
           "ticks": "",
           "title": {
            "standoff": 15
           },
           "zerolinecolor": "white",
           "zerolinewidth": 2
          },
          "yaxis": {
           "automargin": true,
           "gridcolor": "white",
           "linecolor": "white",
           "ticks": "",
           "title": {
            "standoff": 15
           },
           "zerolinecolor": "white",
           "zerolinewidth": 2
          }
         }
        },
        "title": {
         "text": "PCA by patient characteristic : "
        }
       }
      },
      "text/html": [
       "<div>                            <div id=\"1af4c4ab-d3aa-4839-8ed1-a0ae4cae9633\" class=\"plotly-graph-div\" style=\"height:525px; width:100%;\"></div>            <script type=\"text/javascript\">                require([\"plotly\"], function(Plotly) {                    window.PLOTLYENV=window.PLOTLYENV || {};                                    if (document.getElementById(\"1af4c4ab-d3aa-4839-8ed1-a0ae4cae9633\")) {                    Plotly.newPlot(                        \"1af4c4ab-d3aa-4839-8ed1-a0ae4cae9633\",                        [{\"hovertemplate\":\"color=PY16N006<br>PC1=%{x}<br>PC2=%{y}<br>PC3=%{z}<extra></extra>\",\"legendgroup\":\"PY16N006\",\"marker\":{\"color\":\"#636efa\",\"symbol\":\"circle\"},\"mode\":\"markers\",\"name\":\"PY16N006\",\"scene\":\"scene\",\"showlegend\":true,\"x\":[-0.24440351244429886],\"y\":[-0.7672065139456655],\"z\":[-0.032091155024974664],\"type\":\"scatter3d\"},{\"hovertemplate\":\"color=PY16N008<br>PC1=%{x}<br>PC2=%{y}<br>PC3=%{z}<extra></extra>\",\"legendgroup\":\"PY16N008\",\"marker\":{\"color\":\"#EF553B\",\"symbol\":\"circle\"},\"mode\":\"markers\",\"name\":\"PY16N008\",\"scene\":\"scene\",\"showlegend\":true,\"x\":[-0.2509355158809545],\"y\":[-0.7413175464996321],\"z\":[-0.28072722746061823],\"type\":\"scatter3d\"},{\"hovertemplate\":\"color=PY16N013<br>PC1=%{x}<br>PC2=%{y}<br>PC3=%{z}<extra></extra>\",\"legendgroup\":\"PY16N013\",\"marker\":{\"color\":\"#00cc96\",\"symbol\":\"circle\"},\"mode\":\"markers\",\"name\":\"PY16N013\",\"scene\":\"scene\",\"showlegend\":true,\"x\":[0.679273246631644],\"y\":[-0.39118517824772103],\"z\":[0.4756109711018147],\"type\":\"scatter3d\"},{\"hovertemplate\":\"color=PY17N008<br>PC1=%{x}<br>PC2=%{y}<br>PC3=%{z}<extra></extra>\",\"legendgroup\":\"PY17N008\",\"marker\":{\"color\":\"#ab63fa\",\"symbol\":\"circle\"},\"mode\":\"markers\",\"name\":\"PY17N008\",\"scene\":\"scene\",\"showlegend\":true,\"x\":[-0.36876600828805733],\"y\":[-0.4813273699242059],\"z\":[0.47959478281630197],\"type\":\"scatter3d\"},{\"hovertemplate\":\"color=PY17N014<br>PC1=%{x}<br>PC2=%{y}<br>PC3=%{z}<extra></extra>\",\"legendgroup\":\"PY17N014\",\"marker\":{\"color\":\"#FFA15A\",\"symbol\":\"circle\"},\"mode\":\"markers\",\"name\":\"PY17N014\",\"scene\":\"scene\",\"showlegend\":true,\"x\":[0.6538060050949381],\"y\":[-0.29542544486985606],\"z\":[-0.018531083947842693],\"type\":\"scatter3d\"},{\"hovertemplate\":\"color=PY17N019<br>PC1=%{x}<br>PC2=%{y}<br>PC3=%{z}<extra></extra>\",\"legendgroup\":\"PY17N019\",\"marker\":{\"color\":\"#19d3f3\",\"symbol\":\"circle\"},\"mode\":\"markers\",\"name\":\"PY17N019\",\"scene\":\"scene\",\"showlegend\":true,\"x\":[0.6431395901038176],\"y\":[-0.25487587792855676],\"z\":[-0.26612379310960965],\"type\":\"scatter3d\"},{\"hovertemplate\":\"color=PY17N020<br>PC1=%{x}<br>PC2=%{y}<br>PC3=%{z}<extra></extra>\",\"legendgroup\":\"PY17N020\",\"marker\":{\"color\":\"#FF6692\",\"symbol\":\"circle\"},\"mode\":\"markers\",\"name\":\"PY17N020\",\"scene\":\"scene\",\"showlegend\":true,\"x\":[0.6390051785493528],\"y\":[-0.24021527843329055],\"z\":[-0.26508042983573316],\"type\":\"scatter3d\"},{\"hovertemplate\":\"color=PY18N003<br>PC1=%{x}<br>PC2=%{y}<br>PC3=%{z}<extra></extra>\",\"legendgroup\":\"PY18N003\",\"marker\":{\"color\":\"#B6E880\",\"symbol\":\"circle\"},\"mode\":\"markers\",\"name\":\"PY18N003\",\"scene\":\"scene\",\"showlegend\":true,\"x\":[0.6355315392048035],\"y\":[-0.23335081534429156],\"z\":[0.23636516813105993],\"type\":\"scatter3d\"},{\"hovertemplate\":\"color=PY18N013<br>PC1=%{x}<br>PC2=%{y}<br>PC3=%{z}<extra></extra>\",\"legendgroup\":\"PY18N013\",\"marker\":{\"color\":\"#FF97FF\",\"symbol\":\"circle\"},\"mode\":\"markers\",\"name\":\"PY18N013\",\"scene\":\"scene\",\"showlegend\":true,\"x\":[-0.5168589259962469],\"y\":[-0.10312072406938086],\"z\":[0.24641586662452478],\"type\":\"scatter3d\"},{\"hovertemplate\":\"color=PY18N015<br>PC1=%{x}<br>PC2=%{y}<br>PC3=%{z}<extra></extra>\",\"legendgroup\":\"PY18N015\",\"marker\":{\"color\":\"#FECB52\",\"symbol\":\"circle\"},\"mode\":\"markers\",\"name\":\"PY18N015\",\"scene\":\"scene\",\"showlegend\":true,\"x\":[-0.5233909294329026],\"y\":[-0.07723175662334784],\"z\":[-0.0022202058111188234],\"type\":\"scatter3d\"},{\"hovertemplate\":\"color=PY19N009<br>PC1=%{x}<br>PC2=%{y}<br>PC3=%{z}<extra></extra>\",\"legendgroup\":\"PY19N009\",\"marker\":{\"color\":\"#636efa\",\"symbol\":\"circle\"},\"mode\":\"markers\",\"name\":\"PY19N009\",\"scene\":\"scene\",\"showlegend\":true,\"x\":[-0.5447237594151435],\"y\":[0.003867377259250774],\"z\":[-0.4974056241346527],\"type\":\"scatter3d\"},{\"hovertemplate\":\"color=PY19N012<br>PC1=%{x}<br>PC2=%{y}<br>PC3=%{z}<extra></extra>\",\"legendgroup\":\"PY19N012\",\"marker\":{\"color\":\"#EF553B\",\"symbol\":\"circle\"},\"mode\":\"markers\",\"name\":\"PY19N012\",\"scene\":\"scene\",\"showlegend\":true,\"x\":[0.3848242308875391],\"y\":[0.3617958819174293],\"z\":[-0.24146966026513647],\"type\":\"scatter3d\"},{\"hovertemplate\":\"color=PY19N023<br>PC1=%{x}<br>PC2=%{y}<br>PC3=%{z}<extra></extra>\",\"legendgroup\":\"PY19N023\",\"marker\":{\"color\":\"#00cc96\",\"symbol\":\"circle\"},\"mode\":\"markers\",\"name\":\"PY19N023\",\"scene\":\"scene\",\"showlegend\":true,\"x\":[0.36654976499740455],\"y\":[0.4238705114429938],\"z\":[0.013426591813766214],\"type\":\"scatter3d\"},{\"hovertemplate\":\"color=PY19N026<br>PC1=%{x}<br>PC2=%{y}<br>PC3=%{z}<extra></extra>\",\"legendgroup\":\"PY19N026\",\"marker\":{\"color\":\"#ab63fa\",\"symbol\":\"circle\"},\"mode\":\"markers\",\"name\":\"PY19N026\",\"scene\":\"scene\",\"showlegend\":true,\"x\":[-0.5730038680864825],\"y\":[0.09869543731984735],\"z\":[0.01030015347539951],\"type\":\"scatter3d\"},{\"hovertemplate\":\"color=PY20N001<br>PC1=%{x}<br>PC2=%{y}<br>PC3=%{z}<extra></extra>\",\"legendgroup\":\"PY20N001\",\"marker\":{\"color\":\"#FFA15A\",\"symbol\":\"circle\"},\"mode\":\"markers\",\"name\":\"PY20N001\",\"scene\":\"scene\",\"showlegend\":true,\"x\":[0.34935134656962863],\"y\":[0.4903090458303262],\"z\":[-0.48280218978364436],\"type\":\"scatter3d\"},{\"hovertemplate\":\"color=PY21N002<br>PC1=%{x}<br>PC2=%{y}<br>PC3=%{z}<extra></extra>\",\"legendgroup\":\"PY21N002\",\"marker\":{\"color\":\"#19d3f3\",\"symbol\":\"circle\"},\"mode\":\"markers\",\"name\":\"PY21N002\",\"scene\":\"scene\",\"showlegend\":true,\"x\":[-0.6084767524043929],\"y\":[0.2272086012327443],\"z\":[-0.23103237604310828],\"type\":\"scatter3d\"},{\"hovertemplate\":\"color=PY21N004<br>PC1=%{x}<br>PC2=%{y}<br>PC3=%{z}<extra></extra>\",\"legendgroup\":\"PY21N004\",\"marker\":{\"color\":\"#FF6692\",\"symbol\":\"circle\"},\"mode\":\"markers\",\"name\":\"PY21N004\",\"scene\":\"scene\",\"showlegend\":true,\"x\":[0.2191176194991309],\"y\":[0.7942810208915514],\"z\":[0.2806499103149055],\"type\":\"scatter3d\"},{\"hovertemplate\":\"color=PY21N006<br>PC1=%{x}<br>PC2=%{y}<br>PC3=%{z}<extra></extra>\",\"legendgroup\":\"PY21N006\",\"marker\":{\"color\":\"#B6E880\",\"symbol\":\"circle\"},\"mode\":\"markers\",\"name\":\"PY21N006\",\"scene\":\"scene\",\"showlegend\":true,\"x\":[-0.616745575513323],\"y\":[0.2565298002232767],\"z\":[-0.22894564949535523],\"type\":\"scatter3d\"},{\"hovertemplate\":\"color=PY21N008<br>PC1=%{x}<br>PC2=%{y}<br>PC3=%{z}<extra></extra>\",\"legendgroup\":\"PY21N008\",\"marker\":{\"color\":\"#FF97FF\",\"symbol\":\"circle\"},\"mode\":\"markers\",\"name\":\"PY21N008\",\"scene\":\"scene\",\"showlegend\":true,\"x\":[0.3110655951170851],\"y\":[0.6178905364259548],\"z\":[0.27771311335755755],\"type\":\"scatter3d\"},{\"hovertemplate\":\"color=PY21N020<br>PC1=%{x}<br>PC2=%{y}<br>PC3=%{z}<extra></extra>\",\"legendgroup\":\"PY21N020\",\"marker\":{\"color\":\"#FECB52\",\"symbol\":\"circle\"},\"mode\":\"markers\",\"name\":\"PY21N020\",\"scene\":\"scene\",\"showlegend\":true,\"x\":[-0.6343592691935416],\"y\":[0.3108082933425742],\"z\":[0.526352837276464],\"type\":\"scatter3d\"}],                        {\"template\":{\"data\":{\"histogram2dcontour\":[{\"type\":\"histogram2dcontour\",\"colorbar\":{\"outlinewidth\":0,\"ticks\":\"\"},\"colorscale\":[[0.0,\"#0d0887\"],[0.1111111111111111,\"#46039f\"],[0.2222222222222222,\"#7201a8\"],[0.3333333333333333,\"#9c179e\"],[0.4444444444444444,\"#bd3786\"],[0.5555555555555556,\"#d8576b\"],[0.6666666666666666,\"#ed7953\"],[0.7777777777777778,\"#fb9f3a\"],[0.8888888888888888,\"#fdca26\"],[1.0,\"#f0f921\"]]}],\"choropleth\":[{\"type\":\"choropleth\",\"colorbar\":{\"outlinewidth\":0,\"ticks\":\"\"}}],\"histogram2d\":[{\"type\":\"histogram2d\",\"colorbar\":{\"outlinewidth\":0,\"ticks\":\"\"},\"colorscale\":[[0.0,\"#0d0887\"],[0.1111111111111111,\"#46039f\"],[0.2222222222222222,\"#7201a8\"],[0.3333333333333333,\"#9c179e\"],[0.4444444444444444,\"#bd3786\"],[0.5555555555555556,\"#d8576b\"],[0.6666666666666666,\"#ed7953\"],[0.7777777777777778,\"#fb9f3a\"],[0.8888888888888888,\"#fdca26\"],[1.0,\"#f0f921\"]]}],\"heatmap\":[{\"type\":\"heatmap\",\"colorbar\":{\"outlinewidth\":0,\"ticks\":\"\"},\"colorscale\":[[0.0,\"#0d0887\"],[0.1111111111111111,\"#46039f\"],[0.2222222222222222,\"#7201a8\"],[0.3333333333333333,\"#9c179e\"],[0.4444444444444444,\"#bd3786\"],[0.5555555555555556,\"#d8576b\"],[0.6666666666666666,\"#ed7953\"],[0.7777777777777778,\"#fb9f3a\"],[0.8888888888888888,\"#fdca26\"],[1.0,\"#f0f921\"]]}],\"heatmapgl\":[{\"type\":\"heatmapgl\",\"colorbar\":{\"outlinewidth\":0,\"ticks\":\"\"},\"colorscale\":[[0.0,\"#0d0887\"],[0.1111111111111111,\"#46039f\"],[0.2222222222222222,\"#7201a8\"],[0.3333333333333333,\"#9c179e\"],[0.4444444444444444,\"#bd3786\"],[0.5555555555555556,\"#d8576b\"],[0.6666666666666666,\"#ed7953\"],[0.7777777777777778,\"#fb9f3a\"],[0.8888888888888888,\"#fdca26\"],[1.0,\"#f0f921\"]]}],\"contourcarpet\":[{\"type\":\"contourcarpet\",\"colorbar\":{\"outlinewidth\":0,\"ticks\":\"\"}}],\"contour\":[{\"type\":\"contour\",\"colorbar\":{\"outlinewidth\":0,\"ticks\":\"\"},\"colorscale\":[[0.0,\"#0d0887\"],[0.1111111111111111,\"#46039f\"],[0.2222222222222222,\"#7201a8\"],[0.3333333333333333,\"#9c179e\"],[0.4444444444444444,\"#bd3786\"],[0.5555555555555556,\"#d8576b\"],[0.6666666666666666,\"#ed7953\"],[0.7777777777777778,\"#fb9f3a\"],[0.8888888888888888,\"#fdca26\"],[1.0,\"#f0f921\"]]}],\"surface\":[{\"type\":\"surface\",\"colorbar\":{\"outlinewidth\":0,\"ticks\":\"\"},\"colorscale\":[[0.0,\"#0d0887\"],[0.1111111111111111,\"#46039f\"],[0.2222222222222222,\"#7201a8\"],[0.3333333333333333,\"#9c179e\"],[0.4444444444444444,\"#bd3786\"],[0.5555555555555556,\"#d8576b\"],[0.6666666666666666,\"#ed7953\"],[0.7777777777777778,\"#fb9f3a\"],[0.8888888888888888,\"#fdca26\"],[1.0,\"#f0f921\"]]}],\"mesh3d\":[{\"type\":\"mesh3d\",\"colorbar\":{\"outlinewidth\":0,\"ticks\":\"\"}}],\"scatter\":[{\"fillpattern\":{\"fillmode\":\"overlay\",\"size\":10,\"solidity\":0.2},\"type\":\"scatter\"}],\"parcoords\":[{\"type\":\"parcoords\",\"line\":{\"colorbar\":{\"outlinewidth\":0,\"ticks\":\"\"}}}],\"scatterpolargl\":[{\"type\":\"scatterpolargl\",\"marker\":{\"colorbar\":{\"outlinewidth\":0,\"ticks\":\"\"}}}],\"bar\":[{\"error_x\":{\"color\":\"#2a3f5f\"},\"error_y\":{\"color\":\"#2a3f5f\"},\"marker\":{\"line\":{\"color\":\"#E5ECF6\",\"width\":0.5},\"pattern\":{\"fillmode\":\"overlay\",\"size\":10,\"solidity\":0.2}},\"type\":\"bar\"}],\"scattergeo\":[{\"type\":\"scattergeo\",\"marker\":{\"colorbar\":{\"outlinewidth\":0,\"ticks\":\"\"}}}],\"scatterpolar\":[{\"type\":\"scatterpolar\",\"marker\":{\"colorbar\":{\"outlinewidth\":0,\"ticks\":\"\"}}}],\"histogram\":[{\"marker\":{\"pattern\":{\"fillmode\":\"overlay\",\"size\":10,\"solidity\":0.2}},\"type\":\"histogram\"}],\"scattergl\":[{\"type\":\"scattergl\",\"marker\":{\"colorbar\":{\"outlinewidth\":0,\"ticks\":\"\"}}}],\"scatter3d\":[{\"type\":\"scatter3d\",\"line\":{\"colorbar\":{\"outlinewidth\":0,\"ticks\":\"\"}},\"marker\":{\"colorbar\":{\"outlinewidth\":0,\"ticks\":\"\"}}}],\"scattermapbox\":[{\"type\":\"scattermapbox\",\"marker\":{\"colorbar\":{\"outlinewidth\":0,\"ticks\":\"\"}}}],\"scatterternary\":[{\"type\":\"scatterternary\",\"marker\":{\"colorbar\":{\"outlinewidth\":0,\"ticks\":\"\"}}}],\"scattercarpet\":[{\"type\":\"scattercarpet\",\"marker\":{\"colorbar\":{\"outlinewidth\":0,\"ticks\":\"\"}}}],\"carpet\":[{\"aaxis\":{\"endlinecolor\":\"#2a3f5f\",\"gridcolor\":\"white\",\"linecolor\":\"white\",\"minorgridcolor\":\"white\",\"startlinecolor\":\"#2a3f5f\"},\"baxis\":{\"endlinecolor\":\"#2a3f5f\",\"gridcolor\":\"white\",\"linecolor\":\"white\",\"minorgridcolor\":\"white\",\"startlinecolor\":\"#2a3f5f\"},\"type\":\"carpet\"}],\"table\":[{\"cells\":{\"fill\":{\"color\":\"#EBF0F8\"},\"line\":{\"color\":\"white\"}},\"header\":{\"fill\":{\"color\":\"#C8D4E3\"},\"line\":{\"color\":\"white\"}},\"type\":\"table\"}],\"barpolar\":[{\"marker\":{\"line\":{\"color\":\"#E5ECF6\",\"width\":0.5},\"pattern\":{\"fillmode\":\"overlay\",\"size\":10,\"solidity\":0.2}},\"type\":\"barpolar\"}],\"pie\":[{\"automargin\":true,\"type\":\"pie\"}]},\"layout\":{\"autotypenumbers\":\"strict\",\"colorway\":[\"#636efa\",\"#EF553B\",\"#00cc96\",\"#ab63fa\",\"#FFA15A\",\"#19d3f3\",\"#FF6692\",\"#B6E880\",\"#FF97FF\",\"#FECB52\"],\"font\":{\"color\":\"#2a3f5f\"},\"hovermode\":\"closest\",\"hoverlabel\":{\"align\":\"left\"},\"paper_bgcolor\":\"white\",\"plot_bgcolor\":\"#E5ECF6\",\"polar\":{\"bgcolor\":\"#E5ECF6\",\"angularaxis\":{\"gridcolor\":\"white\",\"linecolor\":\"white\",\"ticks\":\"\"},\"radialaxis\":{\"gridcolor\":\"white\",\"linecolor\":\"white\",\"ticks\":\"\"}},\"ternary\":{\"bgcolor\":\"#E5ECF6\",\"aaxis\":{\"gridcolor\":\"white\",\"linecolor\":\"white\",\"ticks\":\"\"},\"baxis\":{\"gridcolor\":\"white\",\"linecolor\":\"white\",\"ticks\":\"\"},\"caxis\":{\"gridcolor\":\"white\",\"linecolor\":\"white\",\"ticks\":\"\"}},\"coloraxis\":{\"colorbar\":{\"outlinewidth\":0,\"ticks\":\"\"}},\"colorscale\":{\"sequential\":[[0.0,\"#0d0887\"],[0.1111111111111111,\"#46039f\"],[0.2222222222222222,\"#7201a8\"],[0.3333333333333333,\"#9c179e\"],[0.4444444444444444,\"#bd3786\"],[0.5555555555555556,\"#d8576b\"],[0.6666666666666666,\"#ed7953\"],[0.7777777777777778,\"#fb9f3a\"],[0.8888888888888888,\"#fdca26\"],[1.0,\"#f0f921\"]],\"sequentialminus\":[[0.0,\"#0d0887\"],[0.1111111111111111,\"#46039f\"],[0.2222222222222222,\"#7201a8\"],[0.3333333333333333,\"#9c179e\"],[0.4444444444444444,\"#bd3786\"],[0.5555555555555556,\"#d8576b\"],[0.6666666666666666,\"#ed7953\"],[0.7777777777777778,\"#fb9f3a\"],[0.8888888888888888,\"#fdca26\"],[1.0,\"#f0f921\"]],\"diverging\":[[0,\"#8e0152\"],[0.1,\"#c51b7d\"],[0.2,\"#de77ae\"],[0.3,\"#f1b6da\"],[0.4,\"#fde0ef\"],[0.5,\"#f7f7f7\"],[0.6,\"#e6f5d0\"],[0.7,\"#b8e186\"],[0.8,\"#7fbc41\"],[0.9,\"#4d9221\"],[1,\"#276419\"]]},\"xaxis\":{\"gridcolor\":\"white\",\"linecolor\":\"white\",\"ticks\":\"\",\"title\":{\"standoff\":15},\"zerolinecolor\":\"white\",\"automargin\":true,\"zerolinewidth\":2},\"yaxis\":{\"gridcolor\":\"white\",\"linecolor\":\"white\",\"ticks\":\"\",\"title\":{\"standoff\":15},\"zerolinecolor\":\"white\",\"automargin\":true,\"zerolinewidth\":2},\"scene\":{\"xaxis\":{\"backgroundcolor\":\"#E5ECF6\",\"gridcolor\":\"white\",\"linecolor\":\"white\",\"showbackground\":true,\"ticks\":\"\",\"zerolinecolor\":\"white\",\"gridwidth\":2},\"yaxis\":{\"backgroundcolor\":\"#E5ECF6\",\"gridcolor\":\"white\",\"linecolor\":\"white\",\"showbackground\":true,\"ticks\":\"\",\"zerolinecolor\":\"white\",\"gridwidth\":2},\"zaxis\":{\"backgroundcolor\":\"#E5ECF6\",\"gridcolor\":\"white\",\"linecolor\":\"white\",\"showbackground\":true,\"ticks\":\"\",\"zerolinecolor\":\"white\",\"gridwidth\":2}},\"shapedefaults\":{\"line\":{\"color\":\"#2a3f5f\"}},\"annotationdefaults\":{\"arrowcolor\":\"#2a3f5f\",\"arrowhead\":0,\"arrowwidth\":1},\"geo\":{\"bgcolor\":\"white\",\"landcolor\":\"#E5ECF6\",\"subunitcolor\":\"white\",\"showland\":true,\"showlakes\":true,\"lakecolor\":\"white\"},\"title\":{\"x\":0.05},\"mapbox\":{\"style\":\"light\"}}},\"scene\":{\"domain\":{\"x\":[0.0,1.0],\"y\":[0.0,1.0]},\"xaxis\":{\"title\":{\"text\":\"PC1\"}},\"yaxis\":{\"title\":{\"text\":\"PC2\"}},\"zaxis\":{\"title\":{\"text\":\"PC3\"}}},\"legend\":{\"title\":{\"text\":\"color\"},\"tracegroupgap\":0},\"title\":{\"text\":\"PCA by patient characteristic : \"}},                        {\"responsive\": true}                    ).then(function(){\n",
       "                            \n",
       "var gd = document.getElementById('1af4c4ab-d3aa-4839-8ed1-a0ae4cae9633');\n",
       "var x = new MutationObserver(function (mutations, observer) {{\n",
       "        var display = window.getComputedStyle(gd).display;\n",
       "        if (!display || display === 'none') {{\n",
       "            console.log([gd, 'removed!']);\n",
       "            Plotly.purge(gd);\n",
       "            observer.disconnect();\n",
       "        }}\n",
       "}});\n",
       "\n",
       "// Listen for the removal of the full notebook cells\n",
       "var notebookContainer = gd.closest('#notebook-container');\n",
       "if (notebookContainer) {{\n",
       "    x.observe(notebookContainer, {childList: true});\n",
       "}}\n",
       "\n",
       "// Listen for the clearing of the current output cell\n",
       "var outputEl = gd.closest('.output');\n",
       "if (outputEl) {{\n",
       "    x.observe(outputEl, {childList: true});\n",
       "}}\n",
       "\n",
       "                        })                };                });            </script>        </div>"
      ]
     },
     "metadata": {},
     "output_type": "display_data"
    }
   ],
   "source": [
    "fig = px.scatter_3d(\n",
    "    pca_df,\n",
    "    x = \"PC1\",\n",
    "    y = \"PC2\",\n",
    "    z = \"PC3\",\n",
    "    #labels=labels,\n",
    "    color=patient_chars_norm[\"patient\"],\n",
    "    title = \"PCA by patient characteristic : \"\n",
    ")\n",
    "\n",
    "fig.show()"
   ]
  },
  {
   "cell_type": "code",
   "execution_count": 282,
   "id": "65377a70",
   "metadata": {},
   "outputs": [
    {
     "data": {
      "image/png": "[encoded data removed]",
      "text/plain": [
       "<Figure size 432x288 with 1 Axes>"
      ]
     },
     "metadata": {
      "needs_background": "light"
     },
     "output_type": "display_data"
    }
   ],
   "source": [
    "# Plot the explained variances\n",
    "features = range(pca.n_components_)\n",
    "plt.bar(features, pca.explained_variance_ratio_, color='black')\n",
    "plt.xlabel('PCA features')\n",
    "plt.ylabel('variance %')\n",
    "plt.xticks(features)\n",
    "# Save components to a DataFrame\n",
    "PCA_components = pd.DataFrame(components)"
   ]
  },
  {
   "cell_type": "code",
   "execution_count": 283,
   "id": "383ae443",
   "metadata": {},
   "outputs": [
    {
     "data": {
      "image/png": "[encoded data removed]",
      "text/plain": [
       "<Figure size 432x288 with 1 Axes>"
      ]
     },
     "metadata": {
      "needs_background": "light"
     },
     "output_type": "display_data"
    }
   ],
   "source": [
    "# visualizing clusters from PCA by patient characteristic via kmeans\n",
    "\n",
    "from sklearn.cluster import KMeans\n",
    "\n",
    "ks = range(1, 4)\n",
    "inertias = []\n",
    "for k in ks:\n",
    "    # Create a KMeans instance with k clusters: model\n",
    "    model = KMeans(n_clusters=k)\n",
    "    \n",
    "    # Fit model to samples\n",
    "    model.fit(PCA_components.iloc[:,:3])\n",
    "    \n",
    "    # Append the inertia to the list of inertias\n",
    "    inertias.append(model.inertia_)\n",
    "    \n",
    "plt.plot(ks, inertias, '-o', color='black')\n",
    "plt.xlabel('number of clusters, k')\n",
    "plt.ylabel('inertia')\n",
    "plt.xticks(ks)\n",
    "plt.show()"
   ]
  },
  {
   "cell_type": "code",
   "execution_count": 285,
   "id": "59f249da",
   "metadata": {},
   "outputs": [
    {
     "data": {
      "text/html": [
       "<div>\n",
       "<style scoped>\n",
       "    .dataframe tbody tr th:only-of-type {\n",
       "        vertical-align: middle;\n",
       "    }\n",
       "\n",
       "    .dataframe tbody tr th {\n",
       "        vertical-align: top;\n",
       "    }\n",
       "\n",
       "    .dataframe thead th {\n",
       "        text-align: right;\n",
       "    }\n",
       "</style>\n",
       "<table border=\"1\" class=\"dataframe\">\n",
       "  <thead>\n",
       "    <tr style=\"text-align: right;\">\n",
       "      <th></th>\n",
       "      <th>index</th>\n",
       "      <th>patient</th>\n",
       "      <th>Gender</th>\n",
       "      <th>Age</th>\n",
       "      <th>MRI</th>\n",
       "      <th>Electrode Type</th>\n",
       "      <th>Outcome</th>\n",
       "      <th>cluster</th>\n",
       "    </tr>\n",
       "  </thead>\n",
       "  <tbody>\n",
       "    <tr>\n",
       "      <th>16</th>\n",
       "      <td>38</td>\n",
       "      <td>PY21N004</td>\n",
       "      <td>0</td>\n",
       "      <td>2</td>\n",
       "      <td>Previous left hippocampal LiTT</td>\n",
       "      <td>3</td>\n",
       "      <td>1</td>\n",
       "      <td>0</td>\n",
       "    </tr>\n",
       "    <tr>\n",
       "      <th>14</th>\n",
       "      <td>30</td>\n",
       "      <td>PY20N001</td>\n",
       "      <td>0</td>\n",
       "      <td>5</td>\n",
       "      <td>Non-lesional</td>\n",
       "      <td>2</td>\n",
       "      <td>1</td>\n",
       "      <td>0</td>\n",
       "    </tr>\n",
       "    <tr>\n",
       "      <th>12</th>\n",
       "      <td>27</td>\n",
       "      <td>PY19N023</td>\n",
       "      <td>0</td>\n",
       "      <td>3</td>\n",
       "      <td>Right parietal encephalomalacia</td>\n",
       "      <td>2</td>\n",
       "      <td>1</td>\n",
       "      <td>0</td>\n",
       "    </tr>\n",
       "    <tr>\n",
       "      <th>11</th>\n",
       "      <td>22</td>\n",
       "      <td>PY19N012</td>\n",
       "      <td>0</td>\n",
       "      <td>4</td>\n",
       "      <td>Periventricular bilateral nodular heterotopia ...</td>\n",
       "      <td>2</td>\n",
       "      <td>1</td>\n",
       "      <td>0</td>\n",
       "    </tr>\n",
       "    <tr>\n",
       "      <th>18</th>\n",
       "      <td>41</td>\n",
       "      <td>PY21N008</td>\n",
       "      <td>0</td>\n",
       "      <td>2</td>\n",
       "      <td>Non-lesional</td>\n",
       "      <td>2</td>\n",
       "      <td>1</td>\n",
       "      <td>0</td>\n",
       "    </tr>\n",
       "    <tr>\n",
       "      <th>0</th>\n",
       "      <td>0</td>\n",
       "      <td>PY16N006</td>\n",
       "      <td>1</td>\n",
       "      <td>3</td>\n",
       "      <td>Left middle temporal gyrus lesion- path + low ...</td>\n",
       "      <td>0</td>\n",
       "      <td>1</td>\n",
       "      <td>1</td>\n",
       "    </tr>\n",
       "    <tr>\n",
       "      <th>17</th>\n",
       "      <td>39</td>\n",
       "      <td>PY21N006</td>\n",
       "      <td>1</td>\n",
       "      <td>4</td>\n",
       "      <td>Focal left fronto-parietal operculum dysplasia</td>\n",
       "      <td>2</td>\n",
       "      <td>1</td>\n",
       "      <td>1</td>\n",
       "    </tr>\n",
       "    <tr>\n",
       "      <th>15</th>\n",
       "      <td>37</td>\n",
       "      <td>PY21N002</td>\n",
       "      <td>1</td>\n",
       "      <td>4</td>\n",
       "      <td>Prior left frontal resection</td>\n",
       "      <td>2</td>\n",
       "      <td>1</td>\n",
       "      <td>1</td>\n",
       "    </tr>\n",
       "    <tr>\n",
       "      <th>13</th>\n",
       "      <td>29</td>\n",
       "      <td>PY19N026</td>\n",
       "      <td>1</td>\n",
       "      <td>3</td>\n",
       "      <td>Right mesial temporal sclerosis</td>\n",
       "      <td>2</td>\n",
       "      <td>1</td>\n",
       "      <td>1</td>\n",
       "    </tr>\n",
       "    <tr>\n",
       "      <th>10</th>\n",
       "      <td>21</td>\n",
       "      <td>PY19N009</td>\n",
       "      <td>1</td>\n",
       "      <td>5</td>\n",
       "      <td>Right mesial temporal sclerosis</td>\n",
       "      <td>2</td>\n",
       "      <td>1</td>\n",
       "      <td>1</td>\n",
       "    </tr>\n",
       "    <tr>\n",
       "      <th>9</th>\n",
       "      <td>17</td>\n",
       "      <td>PY18N015</td>\n",
       "      <td>1</td>\n",
       "      <td>3</td>\n",
       "      <td>Right subfrontal epydymal cyst</td>\n",
       "      <td>2</td>\n",
       "      <td>1</td>\n",
       "      <td>1</td>\n",
       "    </tr>\n",
       "    <tr>\n",
       "      <th>3</th>\n",
       "      <td>6</td>\n",
       "      <td>PY17N008</td>\n",
       "      <td>1</td>\n",
       "      <td>1</td>\n",
       "      <td>Right middle frontal gyrus dysplasia</td>\n",
       "      <td>1</td>\n",
       "      <td>1</td>\n",
       "      <td>1</td>\n",
       "    </tr>\n",
       "    <tr>\n",
       "      <th>1</th>\n",
       "      <td>1</td>\n",
       "      <td>PY16N008</td>\n",
       "      <td>1</td>\n",
       "      <td>4</td>\n",
       "      <td>Previous right anterior temporal lobectomy wit...</td>\n",
       "      <td>0</td>\n",
       "      <td>1</td>\n",
       "      <td>1</td>\n",
       "    </tr>\n",
       "    <tr>\n",
       "      <th>8</th>\n",
       "      <td>16</td>\n",
       "      <td>PY18N013</td>\n",
       "      <td>1</td>\n",
       "      <td>2</td>\n",
       "      <td>Previous left temporal resection</td>\n",
       "      <td>2</td>\n",
       "      <td>1</td>\n",
       "      <td>1</td>\n",
       "    </tr>\n",
       "    <tr>\n",
       "      <th>19</th>\n",
       "      <td>45</td>\n",
       "      <td>PY21N020</td>\n",
       "      <td>1</td>\n",
       "      <td>1</td>\n",
       "      <td>Non-lesional</td>\n",
       "      <td>2</td>\n",
       "      <td>1</td>\n",
       "      <td>1</td>\n",
       "    </tr>\n",
       "    <tr>\n",
       "      <th>7</th>\n",
       "      <td>13</td>\n",
       "      <td>PY18N003</td>\n",
       "      <td>0</td>\n",
       "      <td>2</td>\n",
       "      <td>Non-lesional</td>\n",
       "      <td>0</td>\n",
       "      <td>1</td>\n",
       "      <td>2</td>\n",
       "    </tr>\n",
       "    <tr>\n",
       "      <th>6</th>\n",
       "      <td>11</td>\n",
       "      <td>PY17N020</td>\n",
       "      <td>0</td>\n",
       "      <td>4</td>\n",
       "      <td>Left mesial temporal sclerosis</td>\n",
       "      <td>0</td>\n",
       "      <td>1</td>\n",
       "      <td>2</td>\n",
       "    </tr>\n",
       "    <tr>\n",
       "      <th>5</th>\n",
       "      <td>10</td>\n",
       "      <td>PY17N019</td>\n",
       "      <td>0</td>\n",
       "      <td>4</td>\n",
       "      <td>Left mesial temporal sclerosis</td>\n",
       "      <td>0</td>\n",
       "      <td>1</td>\n",
       "      <td>2</td>\n",
       "    </tr>\n",
       "    <tr>\n",
       "      <th>4</th>\n",
       "      <td>8</td>\n",
       "      <td>PY17N014</td>\n",
       "      <td>0</td>\n",
       "      <td>3</td>\n",
       "      <td>Gliosis in posterior lateral superior left par...</td>\n",
       "      <td>0</td>\n",
       "      <td>1</td>\n",
       "      <td>2</td>\n",
       "    </tr>\n",
       "    <tr>\n",
       "      <th>2</th>\n",
       "      <td>3</td>\n",
       "      <td>PY16N013</td>\n",
       "      <td>0</td>\n",
       "      <td>1</td>\n",
       "      <td>Focal cortical dysplasia in the left anterior ...</td>\n",
       "      <td>0</td>\n",
       "      <td>1</td>\n",
       "      <td>2</td>\n",
       "    </tr>\n",
       "  </tbody>\n",
       "</table>\n",
       "</div>"
      ],
      "text/plain": [
       "    index   patient  Gender  Age  \\\n",
       "16     38  PY21N004       0    2   \n",
       "14     30  PY20N001       0    5   \n",
       "12     27  PY19N023       0    3   \n",
       "11     22  PY19N012       0    4   \n",
       "18     41  PY21N008       0    2   \n",
       "0       0  PY16N006       1    3   \n",
       "17     39  PY21N006       1    4   \n",
       "15     37  PY21N002       1    4   \n",
       "13     29  PY19N026       1    3   \n",
       "10     21  PY19N009       1    5   \n",
       "9      17  PY18N015       1    3   \n",
       "3       6  PY17N008       1    1   \n",
       "1       1  PY16N008       1    4   \n",
       "8      16  PY18N013       1    2   \n",
       "19     45  PY21N020       1    1   \n",
       "7      13  PY18N003       0    2   \n",
       "6      11  PY17N020       0    4   \n",
       "5      10  PY17N019       0    4   \n",
       "4       8  PY17N014       0    3   \n",
       "2       3  PY16N013       0    1   \n",
       "\n",
       "                                                  MRI  Electrode Type  \\\n",
       "16                     Previous left hippocampal LiTT               3   \n",
       "14                                       Non-lesional               2   \n",
       "12                    Right parietal encephalomalacia               2   \n",
       "11  Periventricular bilateral nodular heterotopia ...               2   \n",
       "18                                       Non-lesional               2   \n",
       "0   Left middle temporal gyrus lesion- path + low ...               0   \n",
       "17     Focal left fronto-parietal operculum dysplasia               2   \n",
       "15                       Prior left frontal resection               2   \n",
       "13                    Right mesial temporal sclerosis               2   \n",
       "10                    Right mesial temporal sclerosis               2   \n",
       "9                     Right subfrontal epydymal cyst                2   \n",
       "3                Right middle frontal gyrus dysplasia               1   \n",
       "1   Previous right anterior temporal lobectomy wit...               0   \n",
       "8                    Previous left temporal resection               2   \n",
       "19                                       Non-lesional               2   \n",
       "7                                        Non-lesional               0   \n",
       "6                      Left mesial temporal sclerosis               0   \n",
       "5                      Left mesial temporal sclerosis               0   \n",
       "4   Gliosis in posterior lateral superior left par...               0   \n",
       "2   Focal cortical dysplasia in the left anterior ...               0   \n",
       "\n",
       "    Outcome  cluster  \n",
       "16        1        0  \n",
       "14        1        0  \n",
       "12        1        0  \n",
       "11        1        0  \n",
       "18        1        0  \n",
       "0         1        1  \n",
       "17        1        1  \n",
       "15        1        1  \n",
       "13        1        1  \n",
       "10        1        1  \n",
       "9         1        1  \n",
       "3         1        1  \n",
       "1         1        1  \n",
       "8         1        1  \n",
       "19        1        1  \n",
       "7         1        2  \n",
       "6         1        2  \n",
       "5         1        2  \n",
       "4         1        2  \n",
       "2         1        2  "
      ]
     },
     "execution_count": 285,
     "metadata": {},
     "output_type": "execute_result"
    }
   ],
   "source": [
    "cluster_map = pd.DataFrame()\n",
    "cluster_map['patient'] = patient_chars_norm.patient\n",
    "cluster_map['cluster'] = model.labels_\n",
    "\n",
    "patient_chars_clusters = patient_chars.merge(cluster_map, on = \"patient\")\n",
    "patient_chars_clusters.sort_values(by = \"cluster\")"
   ]
  },
  {
   "cell_type": "markdown",
   "id": "8d55167a",
   "metadata": {},
   "source": [
    "## clustering with CCEP data + patient characteristics\n",
    "\n"
   ]
  },
  {
   "cell_type": "code",
   "execution_count": 315,
   "id": "e4539c64",
   "metadata": {},
   "outputs": [],
   "source": [
    "all_positive_patients = pd.read_csv(\"df_final.csv\", sep = ',', index_col = 0).reset_index(drop = True)\n",
    "patient_chars = pd.read_csv(\"patient_characteristics.csv\", sep = ',').reset_index(drop = True)\n",
    "\n",
    "mri_df = patient_chars_clusters[[\"patient\",\"MRI\", \"Age\", \"Gender\", \"Outcome\", \"Electrode Type\"]]\n",
    "\n",
    "combined_df = all_positive_patients.merge(patient_chars, on = \"patient\")"
   ]
  },
  {
   "cell_type": "code",
   "execution_count": 301,
   "id": "5627ba94",
   "metadata": {},
   "outputs": [
    {
     "data": {
      "text/plain": [
       "1    275\n",
       "2     40\n",
       "Name: Outcome, dtype: int64"
      ]
     },
     "execution_count": 301,
     "metadata": {},
     "output_type": "execute_result"
    }
   ],
   "source": [
    "combined_df[\"Outcome\"].value_counts()"
   ]
  },
  {
   "cell_type": "code",
   "execution_count": 302,
   "id": "da30fff9",
   "metadata": {},
   "outputs": [
    {
     "data": {
      "text/html": [
       "<div>\n",
       "<style scoped>\n",
       "    .dataframe tbody tr th:only-of-type {\n",
       "        vertical-align: middle;\n",
       "    }\n",
       "\n",
       "    .dataframe tbody tr th {\n",
       "        vertical-align: top;\n",
       "    }\n",
       "\n",
       "    .dataframe thead th {\n",
       "        text-align: right;\n",
       "    }\n",
       "</style>\n",
       "<table border=\"1\" class=\"dataframe\">\n",
       "  <thead>\n",
       "    <tr style=\"text-align: right;\">\n",
       "      <th></th>\n",
       "      <th>outcome</th>\n",
       "      <th>IZ</th>\n",
       "      <th>EP</th>\n",
       "      <th>SigResp</th>\n",
       "      <th>SigStim</th>\n",
       "      <th>N1RespAvg</th>\n",
       "      <th>N1RespSDV</th>\n",
       "      <th>N2RespAvg</th>\n",
       "      <th>N2RespSDV</th>\n",
       "      <th>P2RespAvg</th>\n",
       "      <th>P2RespSDV</th>\n",
       "      <th>N1StimAvg</th>\n",
       "      <th>N1StimSDV</th>\n",
       "      <th>N2StimAvg</th>\n",
       "      <th>N2StimSDV</th>\n",
       "      <th>P2StimAvg</th>\n",
       "      <th>P2StimSDV</th>\n",
       "      <th>InDegree</th>\n",
       "      <th>OutDegree</th>\n",
       "      <th>EV</th>\n",
       "      <th>Closeness</th>\n",
       "      <th>Gender</th>\n",
       "      <th>Age</th>\n",
       "      <th>Electrode Type</th>\n",
       "      <th>Outcome</th>\n",
       "    </tr>\n",
       "    <tr>\n",
       "      <th>patient</th>\n",
       "      <th></th>\n",
       "      <th></th>\n",
       "      <th></th>\n",
       "      <th></th>\n",
       "      <th></th>\n",
       "      <th></th>\n",
       "      <th></th>\n",
       "      <th></th>\n",
       "      <th></th>\n",
       "      <th></th>\n",
       "      <th></th>\n",
       "      <th></th>\n",
       "      <th></th>\n",
       "      <th></th>\n",
       "      <th></th>\n",
       "      <th></th>\n",
       "      <th></th>\n",
       "      <th></th>\n",
       "      <th></th>\n",
       "      <th></th>\n",
       "      <th></th>\n",
       "      <th></th>\n",
       "      <th></th>\n",
       "      <th></th>\n",
       "      <th></th>\n",
       "    </tr>\n",
       "  </thead>\n",
       "  <tbody>\n",
       "    <tr>\n",
       "      <th>PY16N008</th>\n",
       "      <td>0.333333</td>\n",
       "      <td>0.333333</td>\n",
       "      <td>0.00</td>\n",
       "      <td>0.195602</td>\n",
       "      <td>0.200617</td>\n",
       "      <td>0.164193</td>\n",
       "      <td>0.104672</td>\n",
       "      <td>0.109099</td>\n",
       "      <td>0.080189</td>\n",
       "      <td>0.214729</td>\n",
       "      <td>0.084016</td>\n",
       "      <td>0.167691</td>\n",
       "      <td>0.101105</td>\n",
       "      <td>0.115796</td>\n",
       "      <td>0.061533</td>\n",
       "      <td>0.168954</td>\n",
       "      <td>0.072589</td>\n",
       "      <td>0.240741</td>\n",
       "      <td>0.240741</td>\n",
       "      <td>0.405874</td>\n",
       "      <td>0.322986</td>\n",
       "      <td>1.0</td>\n",
       "      <td>0.6</td>\n",
       "      <td>0.000000</td>\n",
       "      <td>0.0</td>\n",
       "    </tr>\n",
       "    <tr>\n",
       "      <th>PY16N013</th>\n",
       "      <td>0.000000</td>\n",
       "      <td>0.333333</td>\n",
       "      <td>0.00</td>\n",
       "      <td>0.270833</td>\n",
       "      <td>0.277778</td>\n",
       "      <td>0.360883</td>\n",
       "      <td>0.189456</td>\n",
       "      <td>0.266252</td>\n",
       "      <td>0.249138</td>\n",
       "      <td>0.087595</td>\n",
       "      <td>0.023845</td>\n",
       "      <td>0.368573</td>\n",
       "      <td>0.195130</td>\n",
       "      <td>0.340871</td>\n",
       "      <td>0.235600</td>\n",
       "      <td>0.059010</td>\n",
       "      <td>0.018300</td>\n",
       "      <td>0.666667</td>\n",
       "      <td>0.666667</td>\n",
       "      <td>0.666667</td>\n",
       "      <td>0.666667</td>\n",
       "      <td>0.0</td>\n",
       "      <td>0.0</td>\n",
       "      <td>0.000000</td>\n",
       "      <td>0.0</td>\n",
       "    </tr>\n",
       "    <tr>\n",
       "      <th>PY17N005</th>\n",
       "      <td>0.200000</td>\n",
       "      <td>0.000000</td>\n",
       "      <td>0.00</td>\n",
       "      <td>0.487500</td>\n",
       "      <td>0.500000</td>\n",
       "      <td>0.277625</td>\n",
       "      <td>0.161090</td>\n",
       "      <td>0.219309</td>\n",
       "      <td>0.208649</td>\n",
       "      <td>0.358159</td>\n",
       "      <td>0.113957</td>\n",
       "      <td>0.283540</td>\n",
       "      <td>0.152627</td>\n",
       "      <td>0.273639</td>\n",
       "      <td>0.141840</td>\n",
       "      <td>0.292992</td>\n",
       "      <td>0.099758</td>\n",
       "      <td>0.500000</td>\n",
       "      <td>0.500000</td>\n",
       "      <td>0.601284</td>\n",
       "      <td>0.564286</td>\n",
       "      <td>1.0</td>\n",
       "      <td>0.4</td>\n",
       "      <td>0.000000</td>\n",
       "      <td>1.0</td>\n",
       "    </tr>\n",
       "    <tr>\n",
       "      <th>PY17N008</th>\n",
       "      <td>0.000000</td>\n",
       "      <td>0.750000</td>\n",
       "      <td>0.75</td>\n",
       "      <td>0.130580</td>\n",
       "      <td>0.117188</td>\n",
       "      <td>0.046634</td>\n",
       "      <td>0.020204</td>\n",
       "      <td>0.051603</td>\n",
       "      <td>0.048049</td>\n",
       "      <td>0.078397</td>\n",
       "      <td>0.027655</td>\n",
       "      <td>0.045184</td>\n",
       "      <td>0.018858</td>\n",
       "      <td>0.029611</td>\n",
       "      <td>0.032682</td>\n",
       "      <td>0.045048</td>\n",
       "      <td>0.013629</td>\n",
       "      <td>0.500000</td>\n",
       "      <td>0.500000</td>\n",
       "      <td>0.500000</td>\n",
       "      <td>0.500000</td>\n",
       "      <td>1.0</td>\n",
       "      <td>0.0</td>\n",
       "      <td>0.333333</td>\n",
       "      <td>0.0</td>\n",
       "    </tr>\n",
       "    <tr>\n",
       "      <th>PY18N002</th>\n",
       "      <td>0.312500</td>\n",
       "      <td>0.187500</td>\n",
       "      <td>0.25</td>\n",
       "      <td>0.069643</td>\n",
       "      <td>0.087484</td>\n",
       "      <td>0.081150</td>\n",
       "      <td>0.086667</td>\n",
       "      <td>0.084885</td>\n",
       "      <td>0.095804</td>\n",
       "      <td>0.078026</td>\n",
       "      <td>0.040817</td>\n",
       "      <td>0.084327</td>\n",
       "      <td>0.083009</td>\n",
       "      <td>0.085656</td>\n",
       "      <td>0.086904</td>\n",
       "      <td>0.052315</td>\n",
       "      <td>0.033880</td>\n",
       "      <td>0.104167</td>\n",
       "      <td>0.104167</td>\n",
       "      <td>0.168034</td>\n",
       "      <td>0.121466</td>\n",
       "      <td>0.0</td>\n",
       "      <td>1.0</td>\n",
       "      <td>0.666667</td>\n",
       "      <td>1.0</td>\n",
       "    </tr>\n",
       "  </tbody>\n",
       "</table>\n",
       "</div>"
      ],
      "text/plain": [
       "           outcome        IZ    EP   SigResp   SigStim  N1RespAvg  N1RespSDV  \\\n",
       "patient                                                                        \n",
       "PY16N008  0.333333  0.333333  0.00  0.195602  0.200617   0.164193   0.104672   \n",
       "PY16N013  0.000000  0.333333  0.00  0.270833  0.277778   0.360883   0.189456   \n",
       "PY17N005  0.200000  0.000000  0.00  0.487500  0.500000   0.277625   0.161090   \n",
       "PY17N008  0.000000  0.750000  0.75  0.130580  0.117188   0.046634   0.020204   \n",
       "PY18N002  0.312500  0.187500  0.25  0.069643  0.087484   0.081150   0.086667   \n",
       "\n",
       "          N2RespAvg  N2RespSDV  P2RespAvg  P2RespSDV  N1StimAvg  N1StimSDV  \\\n",
       "patient                                                                      \n",
       "PY16N008   0.109099   0.080189   0.214729   0.084016   0.167691   0.101105   \n",
       "PY16N013   0.266252   0.249138   0.087595   0.023845   0.368573   0.195130   \n",
       "PY17N005   0.219309   0.208649   0.358159   0.113957   0.283540   0.152627   \n",
       "PY17N008   0.051603   0.048049   0.078397   0.027655   0.045184   0.018858   \n",
       "PY18N002   0.084885   0.095804   0.078026   0.040817   0.084327   0.083009   \n",
       "\n",
       "          N2StimAvg  N2StimSDV  P2StimAvg  P2StimSDV  InDegree  OutDegree  \\\n",
       "patient                                                                     \n",
       "PY16N008   0.115796   0.061533   0.168954   0.072589  0.240741   0.240741   \n",
       "PY16N013   0.340871   0.235600   0.059010   0.018300  0.666667   0.666667   \n",
       "PY17N005   0.273639   0.141840   0.292992   0.099758  0.500000   0.500000   \n",
       "PY17N008   0.029611   0.032682   0.045048   0.013629  0.500000   0.500000   \n",
       "PY18N002   0.085656   0.086904   0.052315   0.033880  0.104167   0.104167   \n",
       "\n",
       "                EV  Closeness  Gender  Age  Electrode Type  Outcome  \n",
       "patient                                                              \n",
       "PY16N008  0.405874   0.322986     1.0  0.6        0.000000      0.0  \n",
       "PY16N013  0.666667   0.666667     0.0  0.0        0.000000      0.0  \n",
       "PY17N005  0.601284   0.564286     1.0  0.4        0.000000      1.0  \n",
       "PY17N008  0.500000   0.500000     1.0  0.0        0.333333      0.0  \n",
       "PY18N002  0.168034   0.121466     0.0  1.0        0.666667      1.0  "
      ]
     },
     "execution_count": 302,
     "metadata": {},
     "output_type": "execute_result"
    }
   ],
   "source": [
    "#scaling original data\n",
    "from sklearn.preprocessing import MinMaxScaler\n",
    "scaler = MinMaxScaler()\n",
    "\n",
    "combined_df_norm = combined_df\n",
    "\n",
    "patient_list = combined_df[\"patient\"]\n",
    "\n",
    "combined_df_norm = combined_df_norm.drop(['Channels', \"patient\", \"MRI\"], axis = 1)\n",
    "col_names = combined_df_norm.columns\n",
    "combined_df_norm =  pd.DataFrame(scaler.fit_transform(combined_df_norm.to_numpy()))\n",
    "\n",
    "combined_df_norm[\"patient\"] = patient_list\n",
    "\n",
    "combined_patient_df = combined_df_norm.groupby(by = [\"patient\"]).mean()\n",
    "combined_patient_df.columns = col_names\n",
    "combined_patient_df.head()"
   ]
  },
  {
   "cell_type": "code",
   "execution_count": 303,
   "id": "c53d8b62",
   "metadata": {},
   "outputs": [],
   "source": [
    "import numpy as np\n",
    "from sklearn.decomposition import PCA\n",
    "\n",
    "pca = PCA(n_components = 10)\n",
    "components = pca.fit_transform(combined_patient_df)\n",
    "labels = {\n",
    "    str(i): f\"PC {i+1} ({var:.1f}%)\"\n",
    "    for i, var in enumerate(pca.explained_variance_ratio_ * 100)\n",
    "}\n",
    "\n",
    "combined_patient_df = combined_patient_df.reset_index()"
   ]
  },
  {
   "cell_type": "code",
   "execution_count": 304,
   "id": "f1c03b20",
   "metadata": {},
   "outputs": [
    {
     "name": "stdout",
     "output_type": "stream",
     "text": [
      "[0.32241674 0.16302545 0.14525747 0.09479655 0.0631005  0.03922855\n",
      " 0.01809023 0.00724112 0.00556498 0.00376508]\n"
     ]
    }
   ],
   "source": [
    "pca_df = pd.DataFrame(components)\n",
    "pca_df.columns = [\"PC1\", \"PC2\", \"PC3\", \"PC4\", \"PC5\", \"PC6\", \"PC7\", \"PC8\", \"PC9\", \"PC10\"]\n",
    "\n",
    "print(pca.explained_variance_)"
   ]
  },
  {
   "cell_type": "code",
   "execution_count": 305,
   "id": "7040ed7a",
   "metadata": {
    "scrolled": false
   },
   "outputs": [
    {
     "data": {
      "application/vnd.plotly.v1+json": {
       "config": {
        "plotlyServerURL": "https://plot.ly"
       },
       "data": [
        {
         "hovertemplate": "color=PY16N008<br>PC1=%{x}<br>PC2=%{y}<br>PC3=%{z}<extra></extra>",
         "legendgroup": "PY16N008",
         "marker": {
          "color": "#636efa",
          "symbol": "circle"
         },
         "mode": "markers",
         "name": "PY16N008",
         "scene": "scene",
         "showlegend": true,
         "type": "scatter3d",
         "x": [
          0.3641960685869213
         ],
         "y": [
          -0.0875799324210011
         ],
         "z": [
          -0.005785514726287062
         ]
        },
        {
         "hovertemplate": "color=PY16N013<br>PC1=%{x}<br>PC2=%{y}<br>PC3=%{z}<extra></extra>",
         "legendgroup": "PY16N013",
         "marker": {
          "color": "#EF553B",
          "symbol": "circle"
         },
         "mode": "markers",
         "name": "PY16N013",
         "scene": "scene",
         "showlegend": true,
         "type": "scatter3d",
         "x": [
          -0.0485598368606274
         ],
         "y": [
          -0.39679435216943665
         ],
         "z": [
          1.1456799849856591
         ]
        },
        {
         "hovertemplate": "color=PY17N005<br>PC1=%{x}<br>PC2=%{y}<br>PC3=%{z}<extra></extra>",
         "legendgroup": "PY17N005",
         "marker": {
          "color": "#00cc96",
          "symbol": "circle"
         },
         "mode": "markers",
         "name": "PY17N005",
         "scene": "scene",
         "showlegend": true,
         "type": "scatter3d",
         "x": [
          0.83099738094836
         ],
         "y": [
          0.736838447561661
         ],
         "z": [
          0.4829188527641865
         ]
        },
        {
         "hovertemplate": "color=PY17N008<br>PC1=%{x}<br>PC2=%{y}<br>PC3=%{z}<extra></extra>",
         "legendgroup": "PY17N008",
         "marker": {
          "color": "#ab63fa",
          "symbol": "circle"
         },
         "mode": "markers",
         "name": "PY17N008",
         "scene": "scene",
         "showlegend": true,
         "type": "scatter3d",
         "x": [
          0.5131206598269488
         ],
         "y": [
          -0.482409087183745
         ],
         "z": [
          0.3237379005908763
         ]
        },
        {
         "hovertemplate": "color=PY18N002<br>PC1=%{x}<br>PC2=%{y}<br>PC3=%{z}<extra></extra>",
         "legendgroup": "PY18N002",
         "marker": {
          "color": "#FFA15A",
          "symbol": "circle"
         },
         "mode": "markers",
         "name": "PY18N002",
         "scene": "scene",
         "showlegend": true,
         "type": "scatter3d",
         "x": [
          -0.7241802137851643
         ],
         "y": [
          1.0086764803239499
         ],
         "z": [
          -0.050117122197949095
         ]
        },
        {
         "hovertemplate": "color=PY18N013<br>PC1=%{x}<br>PC2=%{y}<br>PC3=%{z}<extra></extra>",
         "legendgroup": "PY18N013",
         "marker": {
          "color": "#19d3f3",
          "symbol": "circle"
         },
         "mode": "markers",
         "name": "PY18N013",
         "scene": "scene",
         "showlegend": true,
         "type": "scatter3d",
         "x": [
          0.32701658278375223
         ],
         "y": [
          -0.25170218357973884
         ],
         "z": [
          -0.22739889333481925
         ]
        },
        {
         "hovertemplate": "color=PY18N015<br>PC1=%{x}<br>PC2=%{y}<br>PC3=%{z}<extra></extra>",
         "legendgroup": "PY18N015",
         "marker": {
          "color": "#FF6692",
          "symbol": "circle"
         },
         "mode": "markers",
         "name": "PY18N015",
         "scene": "scene",
         "showlegend": true,
         "type": "scatter3d",
         "x": [
          0.22105646794152728
         ],
         "y": [
          -0.1438929401694049
         ],
         "z": [
          -0.4407263048486683
         ]
        },
        {
         "hovertemplate": "color=PY18N016<br>PC1=%{x}<br>PC2=%{y}<br>PC3=%{z}<extra></extra>",
         "legendgroup": "PY18N016",
         "marker": {
          "color": "#B6E880",
          "symbol": "circle"
         },
         "mode": "markers",
         "name": "PY18N016",
         "scene": "scene",
         "showlegend": true,
         "type": "scatter3d",
         "x": [
          0.5103665317822546
         ],
         "y": [
          0.6447737780902115
         ],
         "z": [
          0.06531890316007397
         ]
        },
        {
         "hovertemplate": "color=PY19N009<br>PC1=%{x}<br>PC2=%{y}<br>PC3=%{z}<extra></extra>",
         "legendgroup": "PY19N009",
         "marker": {
          "color": "#FF97FF",
          "symbol": "circle"
         },
         "mode": "markers",
         "name": "PY19N009",
         "scene": "scene",
         "showlegend": true,
         "type": "scatter3d",
         "x": [
          0.31997524645108916
         ],
         "y": [
          -0.08284145016740749
         ],
         "z": [
          -0.3488260982963792
         ]
        },
        {
         "hovertemplate": "color=PY19N012<br>PC1=%{x}<br>PC2=%{y}<br>PC3=%{z}<extra></extra>",
         "legendgroup": "PY19N012",
         "marker": {
          "color": "#FECB52",
          "symbol": "circle"
         },
         "mode": "markers",
         "name": "PY19N012",
         "scene": "scene",
         "showlegend": true,
         "type": "scatter3d",
         "x": [
          -0.7271131598130486
         ],
         "y": [
          -0.04146431096050315
         ],
         "z": [
          -0.05998160520660411
         ]
        },
        {
         "hovertemplate": "color=PY19N023<br>PC1=%{x}<br>PC2=%{y}<br>PC3=%{z}<extra></extra>",
         "legendgroup": "PY19N023",
         "marker": {
          "color": "#636efa",
          "symbol": "circle"
         },
         "mode": "markers",
         "name": "PY19N023",
         "scene": "scene",
         "showlegend": true,
         "type": "scatter3d",
         "x": [
          -0.7459668331458481
         ],
         "y": [
          -0.08368817998610795
         ],
         "z": [
          -0.02560436277248252
         ]
        },
        {
         "hovertemplate": "color=PY19N026<br>PC1=%{x}<br>PC2=%{y}<br>PC3=%{z}<extra></extra>",
         "legendgroup": "PY19N026",
         "marker": {
          "color": "#EF553B",
          "symbol": "circle"
         },
         "mode": "markers",
         "name": "PY19N026",
         "scene": "scene",
         "showlegend": true,
         "type": "scatter3d",
         "x": [
          0.2731545646199734
         ],
         "y": [
          -0.12698395007533195
         ],
         "z": [
          -0.36048002405551327
         ]
        },
        {
         "hovertemplate": "color=PY20N001<br>PC1=%{x}<br>PC2=%{y}<br>PC3=%{z}<extra></extra>",
         "legendgroup": "PY20N001",
         "marker": {
          "color": "#00cc96",
          "symbol": "circle"
         },
         "mode": "markers",
         "name": "PY20N001",
         "scene": "scene",
         "showlegend": true,
         "type": "scatter3d",
         "x": [
          -0.6595678548782322
         ],
         "y": [
          -0.010556620834386153
         ],
         "z": [
          -0.060185641800953774
         ]
        },
        {
         "hovertemplate": "color=PY21N002<br>PC1=%{x}<br>PC2=%{y}<br>PC3=%{z}<extra></extra>",
         "legendgroup": "PY21N002",
         "marker": {
          "color": "#ab63fa",
          "symbol": "circle"
         },
         "mode": "markers",
         "name": "PY21N002",
         "scene": "scene",
         "showlegend": true,
         "type": "scatter3d",
         "x": [
          0.4428643107457381
         ],
         "y": [
          -0.13478061431260374
         ],
         "z": [
          -0.29102073357183694
         ]
        },
        {
         "hovertemplate": "color=PY21N004<br>PC1=%{x}<br>PC2=%{y}<br>PC3=%{z}<extra></extra>",
         "legendgroup": "PY21N004",
         "marker": {
          "color": "#FFA15A",
          "symbol": "circle"
         },
         "mode": "markers",
         "name": "PY21N004",
         "scene": "scene",
         "showlegend": true,
         "type": "scatter3d",
         "x": [
          -0.7409911750078726
         ],
         "y": [
          -0.19568313268390458
         ],
         "z": [
          -0.050854970486089716
         ]
        },
        {
         "hovertemplate": "color=PY21N006<br>PC1=%{x}<br>PC2=%{y}<br>PC3=%{z}<extra></extra>",
         "legendgroup": "PY21N006",
         "marker": {
          "color": "#19d3f3",
          "symbol": "circle"
         },
         "mode": "markers",
         "name": "PY21N006",
         "scene": "scene",
         "showlegend": true,
         "type": "scatter3d",
         "x": [
          0.5025458013238797
         ],
         "y": [
          -0.16545890951511327
         ],
         "z": [
          -0.23448893858151829
         ]
        },
        {
         "hovertemplate": "color=PY21N008<br>PC1=%{x}<br>PC2=%{y}<br>PC3=%{z}<extra></extra>",
         "legendgroup": "PY21N008",
         "marker": {
          "color": "#FF6692",
          "symbol": "circle"
         },
         "mode": "markers",
         "name": "PY21N008",
         "scene": "scene",
         "showlegend": true,
         "type": "scatter3d",
         "x": [
          -0.6589145415196519
         ],
         "y": [
          -0.18645304191713866
         ],
         "z": [
          0.13781456837830475
         ]
        }
       ],
       "layout": {
        "legend": {
         "title": {
          "text": "color"
         },
         "tracegroupgap": 0
        },
        "scene": {
         "domain": {
          "x": [
           0,
           1
          ],
          "y": [
           0,
           1
          ]
         },
         "xaxis": {
          "title": {
           "text": "PC1"
          }
         },
         "yaxis": {
          "title": {
           "text": "PC2"
          }
         },
         "zaxis": {
          "title": {
           "text": "PC3"
          }
         }
        },
        "template": {
         "data": {
          "bar": [
           {
            "error_x": {
             "color": "#2a3f5f"
            },
            "error_y": {
             "color": "#2a3f5f"
            },
            "marker": {
             "line": {
              "color": "#E5ECF6",
              "width": 0.5
             },
             "pattern": {
              "fillmode": "overlay",
              "size": 10,
              "solidity": 0.2
             }
            },
            "type": "bar"
           }
          ],
          "barpolar": [
           {
            "marker": {
             "line": {
              "color": "#E5ECF6",
              "width": 0.5
             },
             "pattern": {
              "fillmode": "overlay",
              "size": 10,
              "solidity": 0.2
             }
            },
            "type": "barpolar"
           }
          ],
          "carpet": [
           {
            "aaxis": {
             "endlinecolor": "#2a3f5f",
             "gridcolor": "white",
             "linecolor": "white",
             "minorgridcolor": "white",
             "startlinecolor": "#2a3f5f"
            },
            "baxis": {
             "endlinecolor": "#2a3f5f",
             "gridcolor": "white",
             "linecolor": "white",
             "minorgridcolor": "white",
             "startlinecolor": "#2a3f5f"
            },
            "type": "carpet"
           }
          ],
          "choropleth": [
           {
            "colorbar": {
             "outlinewidth": 0,
             "ticks": ""
            },
            "type": "choropleth"
           }
          ],
          "contour": [
           {
            "colorbar": {
             "outlinewidth": 0,
             "ticks": ""
            },
            "colorscale": [
             [
              0,
              "#0d0887"
             ],
             [
              0.1111111111111111,
              "#46039f"
             ],
             [
              0.2222222222222222,
              "#7201a8"
             ],
             [
              0.3333333333333333,
              "#9c179e"
             ],
             [
              0.4444444444444444,
              "#bd3786"
             ],
             [
              0.5555555555555556,
              "#d8576b"
             ],
             [
              0.6666666666666666,
              "#ed7953"
             ],
             [
              0.7777777777777778,
              "#fb9f3a"
             ],
             [
              0.8888888888888888,
              "#fdca26"
             ],
             [
              1,
              "#f0f921"
             ]
            ],
            "type": "contour"
           }
          ],
          "contourcarpet": [
           {
            "colorbar": {
             "outlinewidth": 0,
             "ticks": ""
            },
            "type": "contourcarpet"
           }
          ],
          "heatmap": [
           {
            "colorbar": {
             "outlinewidth": 0,
             "ticks": ""
            },
            "colorscale": [
             [
              0,
              "#0d0887"
             ],
             [
              0.1111111111111111,
              "#46039f"
             ],
             [
              0.2222222222222222,
              "#7201a8"
             ],
             [
              0.3333333333333333,
              "#9c179e"
             ],
             [
              0.4444444444444444,
              "#bd3786"
             ],
             [
              0.5555555555555556,
              "#d8576b"
             ],
             [
              0.6666666666666666,
              "#ed7953"
             ],
             [
              0.7777777777777778,
              "#fb9f3a"
             ],
             [
              0.8888888888888888,
              "#fdca26"
             ],
             [
              1,
              "#f0f921"
             ]
            ],
            "type": "heatmap"
           }
          ],
          "heatmapgl": [
           {
            "colorbar": {
             "outlinewidth": 0,
             "ticks": ""
            },
            "colorscale": [
             [
              0,
              "#0d0887"
             ],
             [
              0.1111111111111111,
              "#46039f"
             ],
             [
              0.2222222222222222,
              "#7201a8"
             ],
             [
              0.3333333333333333,
              "#9c179e"
             ],
             [
              0.4444444444444444,
              "#bd3786"
             ],
             [
              0.5555555555555556,
              "#d8576b"
             ],
             [
              0.6666666666666666,
              "#ed7953"
             ],
             [
              0.7777777777777778,
              "#fb9f3a"
             ],
             [
              0.8888888888888888,
              "#fdca26"
             ],
             [
              1,
              "#f0f921"
             ]
            ],
            "type": "heatmapgl"
           }
          ],
          "histogram": [
           {
            "marker": {
             "pattern": {
              "fillmode": "overlay",
              "size": 10,
              "solidity": 0.2
             }
            },
            "type": "histogram"
           }
          ],
          "histogram2d": [
           {
            "colorbar": {
             "outlinewidth": 0,
             "ticks": ""
            },
            "colorscale": [
             [
              0,
              "#0d0887"
             ],
             [
              0.1111111111111111,
              "#46039f"
             ],
             [
              0.2222222222222222,
              "#7201a8"
             ],
             [
              0.3333333333333333,
              "#9c179e"
             ],
             [
              0.4444444444444444,
              "#bd3786"
             ],
             [
              0.5555555555555556,
              "#d8576b"
             ],
             [
              0.6666666666666666,
              "#ed7953"
             ],
             [
              0.7777777777777778,
              "#fb9f3a"
             ],
             [
              0.8888888888888888,
              "#fdca26"
             ],
             [
              1,
              "#f0f921"
             ]
            ],
            "type": "histogram2d"
           }
          ],
          "histogram2dcontour": [
           {
            "colorbar": {
             "outlinewidth": 0,
             "ticks": ""
            },
            "colorscale": [
             [
              0,
              "#0d0887"
             ],
             [
              0.1111111111111111,
              "#46039f"
             ],
             [
              0.2222222222222222,
              "#7201a8"
             ],
             [
              0.3333333333333333,
              "#9c179e"
             ],
             [
              0.4444444444444444,
              "#bd3786"
             ],
             [
              0.5555555555555556,
              "#d8576b"
             ],
             [
              0.6666666666666666,
              "#ed7953"
             ],
             [
              0.7777777777777778,
              "#fb9f3a"
             ],
             [
              0.8888888888888888,
              "#fdca26"
             ],
             [
              1,
              "#f0f921"
             ]
            ],
            "type": "histogram2dcontour"
           }
          ],
          "mesh3d": [
           {
            "colorbar": {
             "outlinewidth": 0,
             "ticks": ""
            },
            "type": "mesh3d"
           }
          ],
          "parcoords": [
           {
            "line": {
             "colorbar": {
              "outlinewidth": 0,
              "ticks": ""
             }
            },
            "type": "parcoords"
           }
          ],
          "pie": [
           {
            "automargin": true,
            "type": "pie"
           }
          ],
          "scatter": [
           {
            "fillpattern": {
             "fillmode": "overlay",
             "size": 10,
             "solidity": 0.2
            },
            "type": "scatter"
           }
          ],
          "scatter3d": [
           {
            "line": {
             "colorbar": {
              "outlinewidth": 0,
              "ticks": ""
             }
            },
            "marker": {
             "colorbar": {
              "outlinewidth": 0,
              "ticks": ""
             }
            },
            "type": "scatter3d"
           }
          ],
          "scattercarpet": [
           {
            "marker": {
             "colorbar": {
              "outlinewidth": 0,
              "ticks": ""
             }
            },
            "type": "scattercarpet"
           }
          ],
          "scattergeo": [
           {
            "marker": {
             "colorbar": {
              "outlinewidth": 0,
              "ticks": ""
             }
            },
            "type": "scattergeo"
           }
          ],
          "scattergl": [
           {
            "marker": {
             "colorbar": {
              "outlinewidth": 0,
              "ticks": ""
             }
            },
            "type": "scattergl"
           }
          ],
          "scattermapbox": [
           {
            "marker": {
             "colorbar": {
              "outlinewidth": 0,
              "ticks": ""
             }
            },
            "type": "scattermapbox"
           }
          ],
          "scatterpolar": [
           {
            "marker": {
             "colorbar": {
              "outlinewidth": 0,
              "ticks": ""
             }
            },
            "type": "scatterpolar"
           }
          ],
          "scatterpolargl": [
           {
            "marker": {
             "colorbar": {
              "outlinewidth": 0,
              "ticks": ""
             }
            },
            "type": "scatterpolargl"
           }
          ],
          "scatterternary": [
           {
            "marker": {
             "colorbar": {
              "outlinewidth": 0,
              "ticks": ""
             }
            },
            "type": "scatterternary"
           }
          ],
          "surface": [
           {
            "colorbar": {
             "outlinewidth": 0,
             "ticks": ""
            },
            "colorscale": [
             [
              0,
              "#0d0887"
             ],
             [
              0.1111111111111111,
              "#46039f"
             ],
             [
              0.2222222222222222,
              "#7201a8"
             ],
             [
              0.3333333333333333,
              "#9c179e"
             ],
             [
              0.4444444444444444,
              "#bd3786"
             ],
             [
              0.5555555555555556,
              "#d8576b"
             ],
             [
              0.6666666666666666,
              "#ed7953"
             ],
             [
              0.7777777777777778,
              "#fb9f3a"
             ],
             [
              0.8888888888888888,
              "#fdca26"
             ],
             [
              1,
              "#f0f921"
             ]
            ],
            "type": "surface"
           }
          ],
          "table": [
           {
            "cells": {
             "fill": {
              "color": "#EBF0F8"
             },
             "line": {
              "color": "white"
             }
            },
            "header": {
             "fill": {
              "color": "#C8D4E3"
             },
             "line": {
              "color": "white"
             }
            },
            "type": "table"
           }
          ]
         },
         "layout": {
          "annotationdefaults": {
           "arrowcolor": "#2a3f5f",
           "arrowhead": 0,
           "arrowwidth": 1
          },
          "autotypenumbers": "strict",
          "coloraxis": {
           "colorbar": {
            "outlinewidth": 0,
            "ticks": ""
           }
          },
          "colorscale": {
           "diverging": [
            [
             0,
             "#8e0152"
            ],
            [
             0.1,
             "#c51b7d"
            ],
            [
             0.2,
             "#de77ae"
            ],
            [
             0.3,
             "#f1b6da"
            ],
            [
             0.4,
             "#fde0ef"
            ],
            [
             0.5,
             "#f7f7f7"
            ],
            [
             0.6,
             "#e6f5d0"
            ],
            [
             0.7,
             "#b8e186"
            ],
            [
             0.8,
             "#7fbc41"
            ],
            [
             0.9,
             "#4d9221"
            ],
            [
             1,
             "#276419"
            ]
           ],
           "sequential": [
            [
             0,
             "#0d0887"
            ],
            [
             0.1111111111111111,
             "#46039f"
            ],
            [
             0.2222222222222222,
             "#7201a8"
            ],
            [
             0.3333333333333333,
             "#9c179e"
            ],
            [
             0.4444444444444444,
             "#bd3786"
            ],
            [
             0.5555555555555556,
             "#d8576b"
            ],
            [
             0.6666666666666666,
             "#ed7953"
            ],
            [
             0.7777777777777778,
             "#fb9f3a"
            ],
            [
             0.8888888888888888,
             "#fdca26"
            ],
            [
             1,
             "#f0f921"
            ]
           ],
           "sequentialminus": [
            [
             0,
             "#0d0887"
            ],
            [
             0.1111111111111111,
             "#46039f"
            ],
            [
             0.2222222222222222,
             "#7201a8"
            ],
            [
             0.3333333333333333,
             "#9c179e"
            ],
            [
             0.4444444444444444,
             "#bd3786"
            ],
            [
             0.5555555555555556,
             "#d8576b"
            ],
            [
             0.6666666666666666,
             "#ed7953"
            ],
            [
             0.7777777777777778,
             "#fb9f3a"
            ],
            [
             0.8888888888888888,
             "#fdca26"
            ],
            [
             1,
             "#f0f921"
            ]
           ]
          },
          "colorway": [
           "#636efa",
           "#EF553B",
           "#00cc96",
           "#ab63fa",
           "#FFA15A",
           "#19d3f3",
           "#FF6692",
           "#B6E880",
           "#FF97FF",
           "#FECB52"
          ],
          "font": {
           "color": "#2a3f5f"
          },
          "geo": {
           "bgcolor": "white",
           "lakecolor": "white",
           "landcolor": "#E5ECF6",
           "showlakes": true,
           "showland": true,
           "subunitcolor": "white"
          },
          "hoverlabel": {
           "align": "left"
          },
          "hovermode": "closest",
          "mapbox": {
           "style": "light"
          },
          "paper_bgcolor": "white",
          "plot_bgcolor": "#E5ECF6",
          "polar": {
           "angularaxis": {
            "gridcolor": "white",
            "linecolor": "white",
            "ticks": ""
           },
           "bgcolor": "#E5ECF6",
           "radialaxis": {
            "gridcolor": "white",
            "linecolor": "white",
            "ticks": ""
           }
          },
          "scene": {
           "xaxis": {
            "backgroundcolor": "#E5ECF6",
            "gridcolor": "white",
            "gridwidth": 2,
            "linecolor": "white",
            "showbackground": true,
            "ticks": "",
            "zerolinecolor": "white"
           },
           "yaxis": {
            "backgroundcolor": "#E5ECF6",
            "gridcolor": "white",
            "gridwidth": 2,
            "linecolor": "white",
            "showbackground": true,
            "ticks": "",
            "zerolinecolor": "white"
           },
           "zaxis": {
            "backgroundcolor": "#E5ECF6",
            "gridcolor": "white",
            "gridwidth": 2,
            "linecolor": "white",
            "showbackground": true,
            "ticks": "",
            "zerolinecolor": "white"
           }
          },
          "shapedefaults": {
           "line": {
            "color": "#2a3f5f"
           }
          },
          "ternary": {
           "aaxis": {
            "gridcolor": "white",
            "linecolor": "white",
            "ticks": ""
           },
           "baxis": {
            "gridcolor": "white",
            "linecolor": "white",
            "ticks": ""
           },
           "bgcolor": "#E5ECF6",
           "caxis": {
            "gridcolor": "white",
            "linecolor": "white",
            "ticks": ""
           }
          },
          "title": {
           "x": 0.05
          },
          "xaxis": {
           "automargin": true,
           "gridcolor": "white",
           "linecolor": "white",
           "ticks": "",
           "title": {
            "standoff": 15
           },
           "zerolinecolor": "white",
           "zerolinewidth": 2
          },
          "yaxis": {
           "automargin": true,
           "gridcolor": "white",
           "linecolor": "white",
           "ticks": "",
           "title": {
            "standoff": 15
           },
           "zerolinecolor": "white",
           "zerolinewidth": 2
          }
         }
        },
        "title": {
         "text": "PCA by CCEP AND patient characteristics : "
        }
       }
      },
      "text/html": [
       "<div>                            <div id=\"fa55e22a-1b54-4cab-a8f6-1e4aa8693d57\" class=\"plotly-graph-div\" style=\"height:525px; width:100%;\"></div>            <script type=\"text/javascript\">                require([\"plotly\"], function(Plotly) {                    window.PLOTLYENV=window.PLOTLYENV || {};                                    if (document.getElementById(\"fa55e22a-1b54-4cab-a8f6-1e4aa8693d57\")) {                    Plotly.newPlot(                        \"fa55e22a-1b54-4cab-a8f6-1e4aa8693d57\",                        [{\"hovertemplate\":\"color=PY16N008<br>PC1=%{x}<br>PC2=%{y}<br>PC3=%{z}<extra></extra>\",\"legendgroup\":\"PY16N008\",\"marker\":{\"color\":\"#636efa\",\"symbol\":\"circle\"},\"mode\":\"markers\",\"name\":\"PY16N008\",\"scene\":\"scene\",\"showlegend\":true,\"x\":[0.3641960685869213],\"y\":[-0.0875799324210011],\"z\":[-0.005785514726287062],\"type\":\"scatter3d\"},{\"hovertemplate\":\"color=PY16N013<br>PC1=%{x}<br>PC2=%{y}<br>PC3=%{z}<extra></extra>\",\"legendgroup\":\"PY16N013\",\"marker\":{\"color\":\"#EF553B\",\"symbol\":\"circle\"},\"mode\":\"markers\",\"name\":\"PY16N013\",\"scene\":\"scene\",\"showlegend\":true,\"x\":[-0.0485598368606274],\"y\":[-0.39679435216943665],\"z\":[1.1456799849856591],\"type\":\"scatter3d\"},{\"hovertemplate\":\"color=PY17N005<br>PC1=%{x}<br>PC2=%{y}<br>PC3=%{z}<extra></extra>\",\"legendgroup\":\"PY17N005\",\"marker\":{\"color\":\"#00cc96\",\"symbol\":\"circle\"},\"mode\":\"markers\",\"name\":\"PY17N005\",\"scene\":\"scene\",\"showlegend\":true,\"x\":[0.83099738094836],\"y\":[0.736838447561661],\"z\":[0.4829188527641865],\"type\":\"scatter3d\"},{\"hovertemplate\":\"color=PY17N008<br>PC1=%{x}<br>PC2=%{y}<br>PC3=%{z}<extra></extra>\",\"legendgroup\":\"PY17N008\",\"marker\":{\"color\":\"#ab63fa\",\"symbol\":\"circle\"},\"mode\":\"markers\",\"name\":\"PY17N008\",\"scene\":\"scene\",\"showlegend\":true,\"x\":[0.5131206598269488],\"y\":[-0.482409087183745],\"z\":[0.3237379005908763],\"type\":\"scatter3d\"},{\"hovertemplate\":\"color=PY18N002<br>PC1=%{x}<br>PC2=%{y}<br>PC3=%{z}<extra></extra>\",\"legendgroup\":\"PY18N002\",\"marker\":{\"color\":\"#FFA15A\",\"symbol\":\"circle\"},\"mode\":\"markers\",\"name\":\"PY18N002\",\"scene\":\"scene\",\"showlegend\":true,\"x\":[-0.7241802137851643],\"y\":[1.0086764803239499],\"z\":[-0.050117122197949095],\"type\":\"scatter3d\"},{\"hovertemplate\":\"color=PY18N013<br>PC1=%{x}<br>PC2=%{y}<br>PC3=%{z}<extra></extra>\",\"legendgroup\":\"PY18N013\",\"marker\":{\"color\":\"#19d3f3\",\"symbol\":\"circle\"},\"mode\":\"markers\",\"name\":\"PY18N013\",\"scene\":\"scene\",\"showlegend\":true,\"x\":[0.32701658278375223],\"y\":[-0.25170218357973884],\"z\":[-0.22739889333481925],\"type\":\"scatter3d\"},{\"hovertemplate\":\"color=PY18N015<br>PC1=%{x}<br>PC2=%{y}<br>PC3=%{z}<extra></extra>\",\"legendgroup\":\"PY18N015\",\"marker\":{\"color\":\"#FF6692\",\"symbol\":\"circle\"},\"mode\":\"markers\",\"name\":\"PY18N015\",\"scene\":\"scene\",\"showlegend\":true,\"x\":[0.22105646794152728],\"y\":[-0.1438929401694049],\"z\":[-0.4407263048486683],\"type\":\"scatter3d\"},{\"hovertemplate\":\"color=PY18N016<br>PC1=%{x}<br>PC2=%{y}<br>PC3=%{z}<extra></extra>\",\"legendgroup\":\"PY18N016\",\"marker\":{\"color\":\"#B6E880\",\"symbol\":\"circle\"},\"mode\":\"markers\",\"name\":\"PY18N016\",\"scene\":\"scene\",\"showlegend\":true,\"x\":[0.5103665317822546],\"y\":[0.6447737780902115],\"z\":[0.06531890316007397],\"type\":\"scatter3d\"},{\"hovertemplate\":\"color=PY19N009<br>PC1=%{x}<br>PC2=%{y}<br>PC3=%{z}<extra></extra>\",\"legendgroup\":\"PY19N009\",\"marker\":{\"color\":\"#FF97FF\",\"symbol\":\"circle\"},\"mode\":\"markers\",\"name\":\"PY19N009\",\"scene\":\"scene\",\"showlegend\":true,\"x\":[0.31997524645108916],\"y\":[-0.08284145016740749],\"z\":[-0.3488260982963792],\"type\":\"scatter3d\"},{\"hovertemplate\":\"color=PY19N012<br>PC1=%{x}<br>PC2=%{y}<br>PC3=%{z}<extra></extra>\",\"legendgroup\":\"PY19N012\",\"marker\":{\"color\":\"#FECB52\",\"symbol\":\"circle\"},\"mode\":\"markers\",\"name\":\"PY19N012\",\"scene\":\"scene\",\"showlegend\":true,\"x\":[-0.7271131598130486],\"y\":[-0.04146431096050315],\"z\":[-0.05998160520660411],\"type\":\"scatter3d\"},{\"hovertemplate\":\"color=PY19N023<br>PC1=%{x}<br>PC2=%{y}<br>PC3=%{z}<extra></extra>\",\"legendgroup\":\"PY19N023\",\"marker\":{\"color\":\"#636efa\",\"symbol\":\"circle\"},\"mode\":\"markers\",\"name\":\"PY19N023\",\"scene\":\"scene\",\"showlegend\":true,\"x\":[-0.7459668331458481],\"y\":[-0.08368817998610795],\"z\":[-0.02560436277248252],\"type\":\"scatter3d\"},{\"hovertemplate\":\"color=PY19N026<br>PC1=%{x}<br>PC2=%{y}<br>PC3=%{z}<extra></extra>\",\"legendgroup\":\"PY19N026\",\"marker\":{\"color\":\"#EF553B\",\"symbol\":\"circle\"},\"mode\":\"markers\",\"name\":\"PY19N026\",\"scene\":\"scene\",\"showlegend\":true,\"x\":[0.2731545646199734],\"y\":[-0.12698395007533195],\"z\":[-0.36048002405551327],\"type\":\"scatter3d\"},{\"hovertemplate\":\"color=PY20N001<br>PC1=%{x}<br>PC2=%{y}<br>PC3=%{z}<extra></extra>\",\"legendgroup\":\"PY20N001\",\"marker\":{\"color\":\"#00cc96\",\"symbol\":\"circle\"},\"mode\":\"markers\",\"name\":\"PY20N001\",\"scene\":\"scene\",\"showlegend\":true,\"x\":[-0.6595678548782322],\"y\":[-0.010556620834386153],\"z\":[-0.060185641800953774],\"type\":\"scatter3d\"},{\"hovertemplate\":\"color=PY21N002<br>PC1=%{x}<br>PC2=%{y}<br>PC3=%{z}<extra></extra>\",\"legendgroup\":\"PY21N002\",\"marker\":{\"color\":\"#ab63fa\",\"symbol\":\"circle\"},\"mode\":\"markers\",\"name\":\"PY21N002\",\"scene\":\"scene\",\"showlegend\":true,\"x\":[0.4428643107457381],\"y\":[-0.13478061431260374],\"z\":[-0.29102073357183694],\"type\":\"scatter3d\"},{\"hovertemplate\":\"color=PY21N004<br>PC1=%{x}<br>PC2=%{y}<br>PC3=%{z}<extra></extra>\",\"legendgroup\":\"PY21N004\",\"marker\":{\"color\":\"#FFA15A\",\"symbol\":\"circle\"},\"mode\":\"markers\",\"name\":\"PY21N004\",\"scene\":\"scene\",\"showlegend\":true,\"x\":[-0.7409911750078726],\"y\":[-0.19568313268390458],\"z\":[-0.050854970486089716],\"type\":\"scatter3d\"},{\"hovertemplate\":\"color=PY21N006<br>PC1=%{x}<br>PC2=%{y}<br>PC3=%{z}<extra></extra>\",\"legendgroup\":\"PY21N006\",\"marker\":{\"color\":\"#19d3f3\",\"symbol\":\"circle\"},\"mode\":\"markers\",\"name\":\"PY21N006\",\"scene\":\"scene\",\"showlegend\":true,\"x\":[0.5025458013238797],\"y\":[-0.16545890951511327],\"z\":[-0.23448893858151829],\"type\":\"scatter3d\"},{\"hovertemplate\":\"color=PY21N008<br>PC1=%{x}<br>PC2=%{y}<br>PC3=%{z}<extra></extra>\",\"legendgroup\":\"PY21N008\",\"marker\":{\"color\":\"#FF6692\",\"symbol\":\"circle\"},\"mode\":\"markers\",\"name\":\"PY21N008\",\"scene\":\"scene\",\"showlegend\":true,\"x\":[-0.6589145415196519],\"y\":[-0.18645304191713866],\"z\":[0.13781456837830475],\"type\":\"scatter3d\"}],                        {\"template\":{\"data\":{\"histogram2dcontour\":[{\"type\":\"histogram2dcontour\",\"colorbar\":{\"outlinewidth\":0,\"ticks\":\"\"},\"colorscale\":[[0.0,\"#0d0887\"],[0.1111111111111111,\"#46039f\"],[0.2222222222222222,\"#7201a8\"],[0.3333333333333333,\"#9c179e\"],[0.4444444444444444,\"#bd3786\"],[0.5555555555555556,\"#d8576b\"],[0.6666666666666666,\"#ed7953\"],[0.7777777777777778,\"#fb9f3a\"],[0.8888888888888888,\"#fdca26\"],[1.0,\"#f0f921\"]]}],\"choropleth\":[{\"type\":\"choropleth\",\"colorbar\":{\"outlinewidth\":0,\"ticks\":\"\"}}],\"histogram2d\":[{\"type\":\"histogram2d\",\"colorbar\":{\"outlinewidth\":0,\"ticks\":\"\"},\"colorscale\":[[0.0,\"#0d0887\"],[0.1111111111111111,\"#46039f\"],[0.2222222222222222,\"#7201a8\"],[0.3333333333333333,\"#9c179e\"],[0.4444444444444444,\"#bd3786\"],[0.5555555555555556,\"#d8576b\"],[0.6666666666666666,\"#ed7953\"],[0.7777777777777778,\"#fb9f3a\"],[0.8888888888888888,\"#fdca26\"],[1.0,\"#f0f921\"]]}],\"heatmap\":[{\"type\":\"heatmap\",\"colorbar\":{\"outlinewidth\":0,\"ticks\":\"\"},\"colorscale\":[[0.0,\"#0d0887\"],[0.1111111111111111,\"#46039f\"],[0.2222222222222222,\"#7201a8\"],[0.3333333333333333,\"#9c179e\"],[0.4444444444444444,\"#bd3786\"],[0.5555555555555556,\"#d8576b\"],[0.6666666666666666,\"#ed7953\"],[0.7777777777777778,\"#fb9f3a\"],[0.8888888888888888,\"#fdca26\"],[1.0,\"#f0f921\"]]}],\"heatmapgl\":[{\"type\":\"heatmapgl\",\"colorbar\":{\"outlinewidth\":0,\"ticks\":\"\"},\"colorscale\":[[0.0,\"#0d0887\"],[0.1111111111111111,\"#46039f\"],[0.2222222222222222,\"#7201a8\"],[0.3333333333333333,\"#9c179e\"],[0.4444444444444444,\"#bd3786\"],[0.5555555555555556,\"#d8576b\"],[0.6666666666666666,\"#ed7953\"],[0.7777777777777778,\"#fb9f3a\"],[0.8888888888888888,\"#fdca26\"],[1.0,\"#f0f921\"]]}],\"contourcarpet\":[{\"type\":\"contourcarpet\",\"colorbar\":{\"outlinewidth\":0,\"ticks\":\"\"}}],\"contour\":[{\"type\":\"contour\",\"colorbar\":{\"outlinewidth\":0,\"ticks\":\"\"},\"colorscale\":[[0.0,\"#0d0887\"],[0.1111111111111111,\"#46039f\"],[0.2222222222222222,\"#7201a8\"],[0.3333333333333333,\"#9c179e\"],[0.4444444444444444,\"#bd3786\"],[0.5555555555555556,\"#d8576b\"],[0.6666666666666666,\"#ed7953\"],[0.7777777777777778,\"#fb9f3a\"],[0.8888888888888888,\"#fdca26\"],[1.0,\"#f0f921\"]]}],\"surface\":[{\"type\":\"surface\",\"colorbar\":{\"outlinewidth\":0,\"ticks\":\"\"},\"colorscale\":[[0.0,\"#0d0887\"],[0.1111111111111111,\"#46039f\"],[0.2222222222222222,\"#7201a8\"],[0.3333333333333333,\"#9c179e\"],[0.4444444444444444,\"#bd3786\"],[0.5555555555555556,\"#d8576b\"],[0.6666666666666666,\"#ed7953\"],[0.7777777777777778,\"#fb9f3a\"],[0.8888888888888888,\"#fdca26\"],[1.0,\"#f0f921\"]]}],\"mesh3d\":[{\"type\":\"mesh3d\",\"colorbar\":{\"outlinewidth\":0,\"ticks\":\"\"}}],\"scatter\":[{\"fillpattern\":{\"fillmode\":\"overlay\",\"size\":10,\"solidity\":0.2},\"type\":\"scatter\"}],\"parcoords\":[{\"type\":\"parcoords\",\"line\":{\"colorbar\":{\"outlinewidth\":0,\"ticks\":\"\"}}}],\"scatterpolargl\":[{\"type\":\"scatterpolargl\",\"marker\":{\"colorbar\":{\"outlinewidth\":0,\"ticks\":\"\"}}}],\"bar\":[{\"error_x\":{\"color\":\"#2a3f5f\"},\"error_y\":{\"color\":\"#2a3f5f\"},\"marker\":{\"line\":{\"color\":\"#E5ECF6\",\"width\":0.5},\"pattern\":{\"fillmode\":\"overlay\",\"size\":10,\"solidity\":0.2}},\"type\":\"bar\"}],\"scattergeo\":[{\"type\":\"scattergeo\",\"marker\":{\"colorbar\":{\"outlinewidth\":0,\"ticks\":\"\"}}}],\"scatterpolar\":[{\"type\":\"scatterpolar\",\"marker\":{\"colorbar\":{\"outlinewidth\":0,\"ticks\":\"\"}}}],\"histogram\":[{\"marker\":{\"pattern\":{\"fillmode\":\"overlay\",\"size\":10,\"solidity\":0.2}},\"type\":\"histogram\"}],\"scattergl\":[{\"type\":\"scattergl\",\"marker\":{\"colorbar\":{\"outlinewidth\":0,\"ticks\":\"\"}}}],\"scatter3d\":[{\"type\":\"scatter3d\",\"line\":{\"colorbar\":{\"outlinewidth\":0,\"ticks\":\"\"}},\"marker\":{\"colorbar\":{\"outlinewidth\":0,\"ticks\":\"\"}}}],\"scattermapbox\":[{\"type\":\"scattermapbox\",\"marker\":{\"colorbar\":{\"outlinewidth\":0,\"ticks\":\"\"}}}],\"scatterternary\":[{\"type\":\"scatterternary\",\"marker\":{\"colorbar\":{\"outlinewidth\":0,\"ticks\":\"\"}}}],\"scattercarpet\":[{\"type\":\"scattercarpet\",\"marker\":{\"colorbar\":{\"outlinewidth\":0,\"ticks\":\"\"}}}],\"carpet\":[{\"aaxis\":{\"endlinecolor\":\"#2a3f5f\",\"gridcolor\":\"white\",\"linecolor\":\"white\",\"minorgridcolor\":\"white\",\"startlinecolor\":\"#2a3f5f\"},\"baxis\":{\"endlinecolor\":\"#2a3f5f\",\"gridcolor\":\"white\",\"linecolor\":\"white\",\"minorgridcolor\":\"white\",\"startlinecolor\":\"#2a3f5f\"},\"type\":\"carpet\"}],\"table\":[{\"cells\":{\"fill\":{\"color\":\"#EBF0F8\"},\"line\":{\"color\":\"white\"}},\"header\":{\"fill\":{\"color\":\"#C8D4E3\"},\"line\":{\"color\":\"white\"}},\"type\":\"table\"}],\"barpolar\":[{\"marker\":{\"line\":{\"color\":\"#E5ECF6\",\"width\":0.5},\"pattern\":{\"fillmode\":\"overlay\",\"size\":10,\"solidity\":0.2}},\"type\":\"barpolar\"}],\"pie\":[{\"automargin\":true,\"type\":\"pie\"}]},\"layout\":{\"autotypenumbers\":\"strict\",\"colorway\":[\"#636efa\",\"#EF553B\",\"#00cc96\",\"#ab63fa\",\"#FFA15A\",\"#19d3f3\",\"#FF6692\",\"#B6E880\",\"#FF97FF\",\"#FECB52\"],\"font\":{\"color\":\"#2a3f5f\"},\"hovermode\":\"closest\",\"hoverlabel\":{\"align\":\"left\"},\"paper_bgcolor\":\"white\",\"plot_bgcolor\":\"#E5ECF6\",\"polar\":{\"bgcolor\":\"#E5ECF6\",\"angularaxis\":{\"gridcolor\":\"white\",\"linecolor\":\"white\",\"ticks\":\"\"},\"radialaxis\":{\"gridcolor\":\"white\",\"linecolor\":\"white\",\"ticks\":\"\"}},\"ternary\":{\"bgcolor\":\"#E5ECF6\",\"aaxis\":{\"gridcolor\":\"white\",\"linecolor\":\"white\",\"ticks\":\"\"},\"baxis\":{\"gridcolor\":\"white\",\"linecolor\":\"white\",\"ticks\":\"\"},\"caxis\":{\"gridcolor\":\"white\",\"linecolor\":\"white\",\"ticks\":\"\"}},\"coloraxis\":{\"colorbar\":{\"outlinewidth\":0,\"ticks\":\"\"}},\"colorscale\":{\"sequential\":[[0.0,\"#0d0887\"],[0.1111111111111111,\"#46039f\"],[0.2222222222222222,\"#7201a8\"],[0.3333333333333333,\"#9c179e\"],[0.4444444444444444,\"#bd3786\"],[0.5555555555555556,\"#d8576b\"],[0.6666666666666666,\"#ed7953\"],[0.7777777777777778,\"#fb9f3a\"],[0.8888888888888888,\"#fdca26\"],[1.0,\"#f0f921\"]],\"sequentialminus\":[[0.0,\"#0d0887\"],[0.1111111111111111,\"#46039f\"],[0.2222222222222222,\"#7201a8\"],[0.3333333333333333,\"#9c179e\"],[0.4444444444444444,\"#bd3786\"],[0.5555555555555556,\"#d8576b\"],[0.6666666666666666,\"#ed7953\"],[0.7777777777777778,\"#fb9f3a\"],[0.8888888888888888,\"#fdca26\"],[1.0,\"#f0f921\"]],\"diverging\":[[0,\"#8e0152\"],[0.1,\"#c51b7d\"],[0.2,\"#de77ae\"],[0.3,\"#f1b6da\"],[0.4,\"#fde0ef\"],[0.5,\"#f7f7f7\"],[0.6,\"#e6f5d0\"],[0.7,\"#b8e186\"],[0.8,\"#7fbc41\"],[0.9,\"#4d9221\"],[1,\"#276419\"]]},\"xaxis\":{\"gridcolor\":\"white\",\"linecolor\":\"white\",\"ticks\":\"\",\"title\":{\"standoff\":15},\"zerolinecolor\":\"white\",\"automargin\":true,\"zerolinewidth\":2},\"yaxis\":{\"gridcolor\":\"white\",\"linecolor\":\"white\",\"ticks\":\"\",\"title\":{\"standoff\":15},\"zerolinecolor\":\"white\",\"automargin\":true,\"zerolinewidth\":2},\"scene\":{\"xaxis\":{\"backgroundcolor\":\"#E5ECF6\",\"gridcolor\":\"white\",\"linecolor\":\"white\",\"showbackground\":true,\"ticks\":\"\",\"zerolinecolor\":\"white\",\"gridwidth\":2},\"yaxis\":{\"backgroundcolor\":\"#E5ECF6\",\"gridcolor\":\"white\",\"linecolor\":\"white\",\"showbackground\":true,\"ticks\":\"\",\"zerolinecolor\":\"white\",\"gridwidth\":2},\"zaxis\":{\"backgroundcolor\":\"#E5ECF6\",\"gridcolor\":\"white\",\"linecolor\":\"white\",\"showbackground\":true,\"ticks\":\"\",\"zerolinecolor\":\"white\",\"gridwidth\":2}},\"shapedefaults\":{\"line\":{\"color\":\"#2a3f5f\"}},\"annotationdefaults\":{\"arrowcolor\":\"#2a3f5f\",\"arrowhead\":0,\"arrowwidth\":1},\"geo\":{\"bgcolor\":\"white\",\"landcolor\":\"#E5ECF6\",\"subunitcolor\":\"white\",\"showland\":true,\"showlakes\":true,\"lakecolor\":\"white\"},\"title\":{\"x\":0.05},\"mapbox\":{\"style\":\"light\"}}},\"scene\":{\"domain\":{\"x\":[0.0,1.0],\"y\":[0.0,1.0]},\"xaxis\":{\"title\":{\"text\":\"PC1\"}},\"yaxis\":{\"title\":{\"text\":\"PC2\"}},\"zaxis\":{\"title\":{\"text\":\"PC3\"}}},\"legend\":{\"title\":{\"text\":\"color\"},\"tracegroupgap\":0},\"title\":{\"text\":\"PCA by CCEP AND patient characteristics : \"}},                        {\"responsive\": true}                    ).then(function(){\n",
       "                            \n",
       "var gd = document.getElementById('fa55e22a-1b54-4cab-a8f6-1e4aa8693d57');\n",
       "var x = new MutationObserver(function (mutations, observer) {{\n",
       "        var display = window.getComputedStyle(gd).display;\n",
       "        if (!display || display === 'none') {{\n",
       "            console.log([gd, 'removed!']);\n",
       "            Plotly.purge(gd);\n",
       "            observer.disconnect();\n",
       "        }}\n",
       "}});\n",
       "\n",
       "// Listen for the removal of the full notebook cells\n",
       "var notebookContainer = gd.closest('#notebook-container');\n",
       "if (notebookContainer) {{\n",
       "    x.observe(notebookContainer, {childList: true});\n",
       "}}\n",
       "\n",
       "// Listen for the clearing of the current output cell\n",
       "var outputEl = gd.closest('.output');\n",
       "if (outputEl) {{\n",
       "    x.observe(outputEl, {childList: true});\n",
       "}}\n",
       "\n",
       "                        })                };                });            </script>        </div>"
      ]
     },
     "metadata": {},
     "output_type": "display_data"
    }
   ],
   "source": [
    "fig = px.scatter_3d(\n",
    "    pca_df,\n",
    "    x = \"PC1\",\n",
    "    y = \"PC2\",\n",
    "    z = \"PC3\",\n",
    "    #labels=labels,\n",
    "    color = combined_patient_df[\"patient\"],\n",
    "    title = \"PCA by CCEP AND patient characteristics : \"\n",
    ")\n",
    "\n",
    "fig.show()"
   ]
  },
  {
   "cell_type": "code",
   "execution_count": 306,
   "id": "798caf7e",
   "metadata": {},
   "outputs": [
    {
     "data": {
      "image/png": "[encoded data removed]",
      "text/plain": [
       "<Figure size 432x288 with 1 Axes>"
      ]
     },
     "metadata": {
      "needs_background": "light"
     },
     "output_type": "display_data"
    }
   ],
   "source": [
    "# Plot the explained variances\n",
    "features = range(pca.n_components_)\n",
    "plt.bar(features, pca.explained_variance_ratio_, color='black')\n",
    "plt.xlabel('PCA features')\n",
    "plt.ylabel('variance %')\n",
    "plt.xticks(features)\n",
    "# Save components to a DataFrame\n",
    "PCA_components = pd.DataFrame(components)"
   ]
  },
  {
   "cell_type": "code",
   "execution_count": 307,
   "id": "65d7e180",
   "metadata": {},
   "outputs": [
    {
     "data": {
      "image/png": "[encoded data removed]",
      "text/plain": [
       "<Figure size 432x288 with 1 Axes>"
      ]
     },
     "metadata": {
      "needs_background": "light"
     },
     "output_type": "display_data"
    }
   ],
   "source": [
    "# visualizing clusters from PCA by patient characteristic via kmeans\n",
    "\n",
    "from sklearn.cluster import KMeans\n",
    "\n",
    "ks = range(1, 5)\n",
    "inertias = []\n",
    "for k in ks:\n",
    "    # Create a KMeans instance with k clusters: model\n",
    "    model = KMeans(n_clusters=k)\n",
    "    \n",
    "    # Fit model to samples\n",
    "    model.fit(PCA_components.iloc[:,:3])\n",
    "    \n",
    "    # Append the inertia to the list of inertias\n",
    "    inertias.append(model.inertia_)\n",
    "    \n",
    "plt.plot(ks, inertias, '-o', color='black')\n",
    "plt.xlabel('number of clusters, k')\n",
    "plt.ylabel('inertia')\n",
    "plt.xticks(ks)\n",
    "plt.show()"
   ]
  },
  {
   "cell_type": "code",
   "execution_count": 314,
   "id": "8b825fce",
   "metadata": {},
   "outputs": [
    {
     "name": "stdout",
     "output_type": "stream",
     "text": [
      "(17, 27)\n"
     ]
    }
   ],
   "source": [
    "cluster_map = pd.DataFrame()\n",
    "cluster_map['patient'] = patient_df.patient\n",
    "cluster_map['cluster'] = model.labels_\n",
    "\n",
    "combined_df_clusters = combined_patient_df.merge(cluster_map, on = \"patient\")\n",
    "combined_df_clusters.sort_values(by = \"cluster\", inplace = True)\n",
    "\n",
    "combined_df_clusters = combined_df_clusters.merge(mri_df, on = \"patient\")"
   ]
  },
  {
   "cell_type": "code",
   "execution_count": 313,
   "id": "f02a57ab",
   "metadata": {},
   "outputs": [
    {
     "data": {
      "text/plain": [
       "(14, 32)"
      ]
     },
     "execution_count": 313,
     "metadata": {},
     "output_type": "execute_result"
    }
   ],
   "source": []
  },
  {
   "cell_type": "code",
   "execution_count": 312,
   "id": "7dfa09bf",
   "metadata": {},
   "outputs": [
    {
     "data": {
      "text/html": [
       "<div>\n",
       "<style scoped>\n",
       "    .dataframe tbody tr th:only-of-type {\n",
       "        vertical-align: middle;\n",
       "    }\n",
       "\n",
       "    .dataframe tbody tr th {\n",
       "        vertical-align: top;\n",
       "    }\n",
       "\n",
       "    .dataframe thead th {\n",
       "        text-align: right;\n",
       "    }\n",
       "</style>\n",
       "<table border=\"1\" class=\"dataframe\">\n",
       "  <thead>\n",
       "    <tr style=\"text-align: right;\">\n",
       "      <th></th>\n",
       "      <th>cluster</th>\n",
       "      <th>patient</th>\n",
       "      <th>Electrode Type_y</th>\n",
       "      <th>MRI</th>\n",
       "      <th>Age_y</th>\n",
       "      <th>Gender_y</th>\n",
       "    </tr>\n",
       "  </thead>\n",
       "  <tbody>\n",
       "    <tr>\n",
       "      <th>0</th>\n",
       "      <td>0</td>\n",
       "      <td>PY16N008</td>\n",
       "      <td>0</td>\n",
       "      <td>Previous right anterior temporal lobectomy wit...</td>\n",
       "      <td>4</td>\n",
       "      <td>1</td>\n",
       "    </tr>\n",
       "    <tr>\n",
       "      <th>1</th>\n",
       "      <td>0</td>\n",
       "      <td>PY21N002</td>\n",
       "      <td>2</td>\n",
       "      <td>Prior left frontal resection</td>\n",
       "      <td>4</td>\n",
       "      <td>1</td>\n",
       "    </tr>\n",
       "    <tr>\n",
       "      <th>2</th>\n",
       "      <td>0</td>\n",
       "      <td>PY19N026</td>\n",
       "      <td>2</td>\n",
       "      <td>Right mesial temporal sclerosis</td>\n",
       "      <td>3</td>\n",
       "      <td>1</td>\n",
       "    </tr>\n",
       "    <tr>\n",
       "      <th>3</th>\n",
       "      <td>0</td>\n",
       "      <td>PY21N006</td>\n",
       "      <td>2</td>\n",
       "      <td>Focal left fronto-parietal operculum dysplasia</td>\n",
       "      <td>4</td>\n",
       "      <td>1</td>\n",
       "    </tr>\n",
       "    <tr>\n",
       "      <th>4</th>\n",
       "      <td>0</td>\n",
       "      <td>PY18N015</td>\n",
       "      <td>2</td>\n",
       "      <td>Right subfrontal epydymal cyst</td>\n",
       "      <td>3</td>\n",
       "      <td>1</td>\n",
       "    </tr>\n",
       "    <tr>\n",
       "      <th>5</th>\n",
       "      <td>0</td>\n",
       "      <td>PY19N009</td>\n",
       "      <td>2</td>\n",
       "      <td>Right mesial temporal sclerosis</td>\n",
       "      <td>5</td>\n",
       "      <td>1</td>\n",
       "    </tr>\n",
       "    <tr>\n",
       "      <th>6</th>\n",
       "      <td>0</td>\n",
       "      <td>PY17N008</td>\n",
       "      <td>1</td>\n",
       "      <td>Right middle frontal gyrus dysplasia</td>\n",
       "      <td>1</td>\n",
       "      <td>1</td>\n",
       "    </tr>\n",
       "    <tr>\n",
       "      <th>7</th>\n",
       "      <td>0</td>\n",
       "      <td>PY18N013</td>\n",
       "      <td>2</td>\n",
       "      <td>Previous left temporal resection</td>\n",
       "      <td>2</td>\n",
       "      <td>1</td>\n",
       "    </tr>\n",
       "    <tr>\n",
       "      <th>8</th>\n",
       "      <td>1</td>\n",
       "      <td>PY19N012</td>\n",
       "      <td>2</td>\n",
       "      <td>Periventricular bilateral nodular heterotopia ...</td>\n",
       "      <td>4</td>\n",
       "      <td>0</td>\n",
       "    </tr>\n",
       "    <tr>\n",
       "      <th>9</th>\n",
       "      <td>1</td>\n",
       "      <td>PY19N023</td>\n",
       "      <td>2</td>\n",
       "      <td>Right parietal encephalomalacia</td>\n",
       "      <td>3</td>\n",
       "      <td>0</td>\n",
       "    </tr>\n",
       "    <tr>\n",
       "      <th>10</th>\n",
       "      <td>1</td>\n",
       "      <td>PY20N001</td>\n",
       "      <td>2</td>\n",
       "      <td>Non-lesional</td>\n",
       "      <td>5</td>\n",
       "      <td>0</td>\n",
       "    </tr>\n",
       "    <tr>\n",
       "      <th>11</th>\n",
       "      <td>1</td>\n",
       "      <td>PY21N004</td>\n",
       "      <td>3</td>\n",
       "      <td>Previous left hippocampal LiTT</td>\n",
       "      <td>2</td>\n",
       "      <td>0</td>\n",
       "    </tr>\n",
       "    <tr>\n",
       "      <th>12</th>\n",
       "      <td>1</td>\n",
       "      <td>PY21N008</td>\n",
       "      <td>2</td>\n",
       "      <td>Non-lesional</td>\n",
       "      <td>2</td>\n",
       "      <td>0</td>\n",
       "    </tr>\n",
       "    <tr>\n",
       "      <th>13</th>\n",
       "      <td>3</td>\n",
       "      <td>PY16N013</td>\n",
       "      <td>0</td>\n",
       "      <td>Focal cortical dysplasia in the left anterior ...</td>\n",
       "      <td>1</td>\n",
       "      <td>0</td>\n",
       "    </tr>\n",
       "  </tbody>\n",
       "</table>\n",
       "</div>"
      ],
      "text/plain": [
       "    cluster   patient  Electrode Type_y  \\\n",
       "0         0  PY16N008                 0   \n",
       "1         0  PY21N002                 2   \n",
       "2         0  PY19N026                 2   \n",
       "3         0  PY21N006                 2   \n",
       "4         0  PY18N015                 2   \n",
       "5         0  PY19N009                 2   \n",
       "6         0  PY17N008                 1   \n",
       "7         0  PY18N013                 2   \n",
       "8         1  PY19N012                 2   \n",
       "9         1  PY19N023                 2   \n",
       "10        1  PY20N001                 2   \n",
       "11        1  PY21N004                 3   \n",
       "12        1  PY21N008                 2   \n",
       "13        3  PY16N013                 0   \n",
       "\n",
       "                                                  MRI  Age_y  Gender_y  \n",
       "0   Previous right anterior temporal lobectomy wit...      4         1  \n",
       "1                        Prior left frontal resection      4         1  \n",
       "2                     Right mesial temporal sclerosis      3         1  \n",
       "3      Focal left fronto-parietal operculum dysplasia      4         1  \n",
       "4                     Right subfrontal epydymal cyst       3         1  \n",
       "5                     Right mesial temporal sclerosis      5         1  \n",
       "6                Right middle frontal gyrus dysplasia      1         1  \n",
       "7                    Previous left temporal resection      2         1  \n",
       "8   Periventricular bilateral nodular heterotopia ...      4         0  \n",
       "9                     Right parietal encephalomalacia      3         0  \n",
       "10                                       Non-lesional      5         0  \n",
       "11                     Previous left hippocampal LiTT      2         0  \n",
       "12                                       Non-lesional      2         0  \n",
       "13  Focal cortical dysplasia in the left anterior ...      1         0  "
      ]
     },
     "execution_count": 312,
     "metadata": {},
     "output_type": "execute_result"
    }
   ],
   "source": [
    "combined_df_clusters[[\"cluster\", \"patient\", \"Electrode Type_y\", \"MRI\", \"Age_y\", \"Gender_y\"]]\n"
   ]
  },
  {
   "cell_type": "code",
   "execution_count": null,
   "id": "37d44bb0",
   "metadata": {},
   "outputs": [],
   "source": []
  }
 ],
 "metadata": {
  "kernelspec": {
   "display_name": "Python 3 (ipykernel)",
   "language": "python",
   "name": "python3"
  },
  "language_info": {
   "codemirror_mode": {
    "name": "ipython",
    "version": 3
   },
   "file_extension": ".py",
   "mimetype": "text/x-python",
   "name": "python",
   "nbconvert_exporter": "python",
   "pygments_lexer": "ipython3",
   "version": "3.9.7"
  }
 },
 "nbformat": 4,
 "nbformat_minor": 5
}
