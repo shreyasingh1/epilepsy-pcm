{
 "cells": [
  {
   "cell_type": "code",
   "execution_count": 50,
   "id": "e1bcfbac",
   "metadata": {},
   "outputs": [
    {
     "name": "stdout",
     "output_type": "stream",
     "text": [
      "0.0    259\n",
      "1.0     56\n",
      "Name: outcome, dtype: int64\n"
     ]
    }
   ],
   "source": [
    "import numpy as np\n",
    "import pandas as pd\n",
    "import json\n",
    "from epilepsypcm.utils.outcome_params import node_location, early_propogation, irritative_zone\n",
    "\n",
    "from epilepsypcm.utils.make_df import make_df, get_df_list, concat_dfs\n",
    "from epilepsypcm.models.base_models import *\n",
    "from sklearn.metrics import auc\n",
    "\n",
    "\n",
    "all_positive_patients = pd.read_csv(\"df_final.csv\", sep = ',').reset_index(drop = True)\n",
    "print(all_positive_patients[\"outcome\"].value_counts())\n"
   ]
  },
  {
   "cell_type": "code",
   "execution_count": 2,
   "id": "1331267a",
   "metadata": {},
   "outputs": [
    {
     "data": {
      "text/html": [
       "<div>\n",
       "<style scoped>\n",
       "    .dataframe tbody tr th:only-of-type {\n",
       "        vertical-align: middle;\n",
       "    }\n",
       "\n",
       "    .dataframe tbody tr th {\n",
       "        vertical-align: top;\n",
       "    }\n",
       "\n",
       "    .dataframe thead th {\n",
       "        text-align: right;\n",
       "    }\n",
       "</style>\n",
       "<table border=\"1\" class=\"dataframe\">\n",
       "  <thead>\n",
       "    <tr style=\"text-align: right;\">\n",
       "      <th></th>\n",
       "      <th>Unnamed: 0</th>\n",
       "      <th>Channels</th>\n",
       "      <th>outcome</th>\n",
       "      <th>IZ</th>\n",
       "      <th>EP</th>\n",
       "      <th>SigResp</th>\n",
       "      <th>SigStim</th>\n",
       "      <th>N1RespAvg</th>\n",
       "      <th>N1RespSDV</th>\n",
       "      <th>N2RespAvg</th>\n",
       "      <th>...</th>\n",
       "      <th>N1StimSDV</th>\n",
       "      <th>N2StimAvg</th>\n",
       "      <th>N2StimSDV</th>\n",
       "      <th>P2StimAvg</th>\n",
       "      <th>P2StimSDV</th>\n",
       "      <th>patient</th>\n",
       "      <th>InDegree</th>\n",
       "      <th>OutDegree</th>\n",
       "      <th>EV</th>\n",
       "      <th>Closeness</th>\n",
       "    </tr>\n",
       "  </thead>\n",
       "  <tbody>\n",
       "    <tr>\n",
       "      <th>0</th>\n",
       "      <td>0</td>\n",
       "      <td>LA1_LA2</td>\n",
       "      <td>1.0</td>\n",
       "      <td>0.0</td>\n",
       "      <td>0.0</td>\n",
       "      <td>0.000000</td>\n",
       "      <td>0.064516</td>\n",
       "      <td>0.000000</td>\n",
       "      <td>0.000000</td>\n",
       "      <td>0.000000</td>\n",
       "      <td>...</td>\n",
       "      <td>2.011706</td>\n",
       "      <td>3.724259</td>\n",
       "      <td>3.460362</td>\n",
       "      <td>2.796966</td>\n",
       "      <td>3.000218</td>\n",
       "      <td>PY21N008</td>\n",
       "      <td>0.000000</td>\n",
       "      <td>0.071429</td>\n",
       "      <td>4.993936e-14</td>\n",
       "      <td>0.000000</td>\n",
       "    </tr>\n",
       "    <tr>\n",
       "      <th>1</th>\n",
       "      <td>1</td>\n",
       "      <td>LA9_LA10</td>\n",
       "      <td>0.0</td>\n",
       "      <td>1.0</td>\n",
       "      <td>0.0</td>\n",
       "      <td>0.000000</td>\n",
       "      <td>0.193548</td>\n",
       "      <td>1.808045</td>\n",
       "      <td>1.676081</td>\n",
       "      <td>2.493333</td>\n",
       "      <td>...</td>\n",
       "      <td>9.957544</td>\n",
       "      <td>5.060794</td>\n",
       "      <td>6.246739</td>\n",
       "      <td>4.478926</td>\n",
       "      <td>6.889325</td>\n",
       "      <td>PY21N008</td>\n",
       "      <td>0.000000</td>\n",
       "      <td>0.214286</td>\n",
       "      <td>4.993936e-14</td>\n",
       "      <td>0.000000</td>\n",
       "    </tr>\n",
       "    <tr>\n",
       "      <th>2</th>\n",
       "      <td>2</td>\n",
       "      <td>LAH1_LAH2</td>\n",
       "      <td>1.0</td>\n",
       "      <td>1.0</td>\n",
       "      <td>0.0</td>\n",
       "      <td>0.064516</td>\n",
       "      <td>0.193548</td>\n",
       "      <td>7.116911</td>\n",
       "      <td>19.154270</td>\n",
       "      <td>4.252294</td>\n",
       "      <td>...</td>\n",
       "      <td>14.745868</td>\n",
       "      <td>3.809967</td>\n",
       "      <td>3.367630</td>\n",
       "      <td>1.821021</td>\n",
       "      <td>1.867067</td>\n",
       "      <td>PY21N008</td>\n",
       "      <td>0.071429</td>\n",
       "      <td>0.214286</td>\n",
       "      <td>7.960633e-04</td>\n",
       "      <td>0.174603</td>\n",
       "    </tr>\n",
       "    <tr>\n",
       "      <th>3</th>\n",
       "      <td>3</td>\n",
       "      <td>LAH8_LAH9</td>\n",
       "      <td>0.0</td>\n",
       "      <td>0.0</td>\n",
       "      <td>0.0</td>\n",
       "      <td>0.290323</td>\n",
       "      <td>0.096774</td>\n",
       "      <td>4.306443</td>\n",
       "      <td>3.856300</td>\n",
       "      <td>4.059026</td>\n",
       "      <td>...</td>\n",
       "      <td>2.173960</td>\n",
       "      <td>1.695722</td>\n",
       "      <td>1.598789</td>\n",
       "      <td>1.574253</td>\n",
       "      <td>2.044144</td>\n",
       "      <td>PY21N008</td>\n",
       "      <td>0.321429</td>\n",
       "      <td>0.107143</td>\n",
       "      <td>1.590588e-01</td>\n",
       "      <td>0.480159</td>\n",
       "    </tr>\n",
       "    <tr>\n",
       "      <th>4</th>\n",
       "      <td>4</td>\n",
       "      <td>LPH1_LPH2</td>\n",
       "      <td>0.0</td>\n",
       "      <td>1.0</td>\n",
       "      <td>0.0</td>\n",
       "      <td>0.096774</td>\n",
       "      <td>0.258065</td>\n",
       "      <td>5.792531</td>\n",
       "      <td>15.863221</td>\n",
       "      <td>3.143365</td>\n",
       "      <td>...</td>\n",
       "      <td>7.764073</td>\n",
       "      <td>3.585250</td>\n",
       "      <td>3.693649</td>\n",
       "      <td>3.242192</td>\n",
       "      <td>3.639533</td>\n",
       "      <td>PY21N008</td>\n",
       "      <td>0.107143</td>\n",
       "      <td>0.285714</td>\n",
       "      <td>4.743272e-03</td>\n",
       "      <td>0.218807</td>\n",
       "    </tr>\n",
       "  </tbody>\n",
       "</table>\n",
       "<p>5 rows × 24 columns</p>\n",
       "</div>"
      ],
      "text/plain": [
       "   Unnamed: 0   Channels  outcome   IZ   EP   SigResp   SigStim  N1RespAvg  \\\n",
       "0           0    LA1_LA2      1.0  0.0  0.0  0.000000  0.064516   0.000000   \n",
       "1           1   LA9_LA10      0.0  1.0  0.0  0.000000  0.193548   1.808045   \n",
       "2           2  LAH1_LAH2      1.0  1.0  0.0  0.064516  0.193548   7.116911   \n",
       "3           3  LAH8_LAH9      0.0  0.0  0.0  0.290323  0.096774   4.306443   \n",
       "4           4  LPH1_LPH2      0.0  1.0  0.0  0.096774  0.258065   5.792531   \n",
       "\n",
       "   N1RespSDV  N2RespAvg  ...  N1StimSDV  N2StimAvg  N2StimSDV  P2StimAvg  \\\n",
       "0   0.000000   0.000000  ...   2.011706   3.724259   3.460362   2.796966   \n",
       "1   1.676081   2.493333  ...   9.957544   5.060794   6.246739   4.478926   \n",
       "2  19.154270   4.252294  ...  14.745868   3.809967   3.367630   1.821021   \n",
       "3   3.856300   4.059026  ...   2.173960   1.695722   1.598789   1.574253   \n",
       "4  15.863221   3.143365  ...   7.764073   3.585250   3.693649   3.242192   \n",
       "\n",
       "   P2StimSDV   patient  InDegree  OutDegree            EV Closeness  \n",
       "0   3.000218  PY21N008  0.000000   0.071429  4.993936e-14  0.000000  \n",
       "1   6.889325  PY21N008  0.000000   0.214286  4.993936e-14  0.000000  \n",
       "2   1.867067  PY21N008  0.071429   0.214286  7.960633e-04  0.174603  \n",
       "3   2.044144  PY21N008  0.321429   0.107143  1.590588e-01  0.480159  \n",
       "4   3.639533  PY21N008  0.107143   0.285714  4.743272e-03  0.218807  \n",
       "\n",
       "[5 rows x 24 columns]"
      ]
     },
     "execution_count": 2,
     "metadata": {},
     "output_type": "execute_result"
    }
   ],
   "source": [
    "all_positive_patients.head()"
   ]
  },
  {
   "cell_type": "code",
   "execution_count": 3,
   "id": "ff73a90f",
   "metadata": {},
   "outputs": [
    {
     "data": {
      "text/plain": [
       "PY21N004    46\n",
       "PY21N002    39\n",
       "PY21N008    31\n",
       "PY18N015    24\n",
       "PY19N026    23\n",
       "PY18N013    20\n",
       "PY21N006    20\n",
       "PY18N016    19\n",
       "PY20N001    17\n",
       "PY19N012    17\n",
       "PY18N002    16\n",
       "PY19N023    14\n",
       "PY16N008     9\n",
       "PY19N009     8\n",
       "PY17N005     5\n",
       "PY17N008     4\n",
       "PY16N013     3\n",
       "Name: patient, dtype: int64"
      ]
     },
     "execution_count": 3,
     "metadata": {},
     "output_type": "execute_result"
    }
   ],
   "source": [
    "all_positive_patients[\"patient\"].value_counts()"
   ]
  },
  {
   "cell_type": "code",
   "execution_count": 13,
   "id": "01548c37",
   "metadata": {},
   "outputs": [],
   "source": [
    "#scaling original data\n",
    "from sklearn.preprocessing import MinMaxScaler\n",
    "scaler = MinMaxScaler()\n",
    "\n",
    "all_positive_patients_norm = all_positive_patients\n",
    "\n",
    "patient_list = all_positive_patients[\"patient\"]\n",
    "all_positive_patients_norm = all_positive_patients_norm.drop(['Channels', \"patient\"], axis = 1)\n",
    "all_positive_patients_norm =  pd.DataFrame(scaler.fit_transform(all_positive_patients_norm.to_numpy()))\n",
    "all_positive_patients_norm[\"patient\"] = patient_list"
   ]
  },
  {
   "cell_type": "code",
   "execution_count": 44,
   "id": "840ed5ab",
   "metadata": {},
   "outputs": [
    {
     "data": {
      "text/html": [
       "<div>\n",
       "<style scoped>\n",
       "    .dataframe tbody tr th:only-of-type {\n",
       "        vertical-align: middle;\n",
       "    }\n",
       "\n",
       "    .dataframe tbody tr th {\n",
       "        vertical-align: top;\n",
       "    }\n",
       "\n",
       "    .dataframe thead th {\n",
       "        text-align: right;\n",
       "    }\n",
       "</style>\n",
       "<table border=\"1\" class=\"dataframe\">\n",
       "  <thead>\n",
       "    <tr style=\"text-align: right;\">\n",
       "      <th></th>\n",
       "      <th>0</th>\n",
       "      <th>1</th>\n",
       "      <th>2</th>\n",
       "      <th>3</th>\n",
       "      <th>4</th>\n",
       "      <th>5</th>\n",
       "      <th>6</th>\n",
       "      <th>7</th>\n",
       "      <th>8</th>\n",
       "      <th>9</th>\n",
       "      <th>...</th>\n",
       "      <th>12</th>\n",
       "      <th>13</th>\n",
       "      <th>14</th>\n",
       "      <th>15</th>\n",
       "      <th>16</th>\n",
       "      <th>17</th>\n",
       "      <th>18</th>\n",
       "      <th>19</th>\n",
       "      <th>20</th>\n",
       "      <th>21</th>\n",
       "    </tr>\n",
       "    <tr>\n",
       "      <th>patient</th>\n",
       "      <th></th>\n",
       "      <th></th>\n",
       "      <th></th>\n",
       "      <th></th>\n",
       "      <th></th>\n",
       "      <th></th>\n",
       "      <th></th>\n",
       "      <th></th>\n",
       "      <th></th>\n",
       "      <th></th>\n",
       "      <th></th>\n",
       "      <th></th>\n",
       "      <th></th>\n",
       "      <th></th>\n",
       "      <th></th>\n",
       "      <th></th>\n",
       "      <th></th>\n",
       "      <th></th>\n",
       "      <th></th>\n",
       "      <th></th>\n",
       "      <th></th>\n",
       "    </tr>\n",
       "  </thead>\n",
       "  <tbody>\n",
       "    <tr>\n",
       "      <th>PY16N008</th>\n",
       "      <td>0.987261</td>\n",
       "      <td>0.333333</td>\n",
       "      <td>0.333333</td>\n",
       "      <td>0.000000</td>\n",
       "      <td>0.195602</td>\n",
       "      <td>0.200617</td>\n",
       "      <td>0.164193</td>\n",
       "      <td>0.104672</td>\n",
       "      <td>0.109099</td>\n",
       "      <td>0.080189</td>\n",
       "      <td>...</td>\n",
       "      <td>0.167691</td>\n",
       "      <td>0.101105</td>\n",
       "      <td>0.115796</td>\n",
       "      <td>0.061533</td>\n",
       "      <td>0.168954</td>\n",
       "      <td>0.072589</td>\n",
       "      <td>0.240741</td>\n",
       "      <td>0.240741</td>\n",
       "      <td>0.405874</td>\n",
       "      <td>0.322986</td>\n",
       "    </tr>\n",
       "    <tr>\n",
       "      <th>PY16N013</th>\n",
       "      <td>0.770701</td>\n",
       "      <td>0.000000</td>\n",
       "      <td>0.333333</td>\n",
       "      <td>0.000000</td>\n",
       "      <td>0.270833</td>\n",
       "      <td>0.277778</td>\n",
       "      <td>0.360883</td>\n",
       "      <td>0.189456</td>\n",
       "      <td>0.266252</td>\n",
       "      <td>0.249138</td>\n",
       "      <td>...</td>\n",
       "      <td>0.368573</td>\n",
       "      <td>0.195130</td>\n",
       "      <td>0.340871</td>\n",
       "      <td>0.235600</td>\n",
       "      <td>0.059010</td>\n",
       "      <td>0.018300</td>\n",
       "      <td>0.666667</td>\n",
       "      <td>0.666667</td>\n",
       "      <td>0.666667</td>\n",
       "      <td>0.666667</td>\n",
       "    </tr>\n",
       "    <tr>\n",
       "      <th>PY17N005</th>\n",
       "      <td>0.487261</td>\n",
       "      <td>0.200000</td>\n",
       "      <td>0.000000</td>\n",
       "      <td>0.000000</td>\n",
       "      <td>0.487500</td>\n",
       "      <td>0.500000</td>\n",
       "      <td>0.277625</td>\n",
       "      <td>0.161090</td>\n",
       "      <td>0.219309</td>\n",
       "      <td>0.208649</td>\n",
       "      <td>...</td>\n",
       "      <td>0.283540</td>\n",
       "      <td>0.152627</td>\n",
       "      <td>0.273639</td>\n",
       "      <td>0.141840</td>\n",
       "      <td>0.292992</td>\n",
       "      <td>0.099758</td>\n",
       "      <td>0.500000</td>\n",
       "      <td>0.500000</td>\n",
       "      <td>0.601284</td>\n",
       "      <td>0.564286</td>\n",
       "    </tr>\n",
       "    <tr>\n",
       "      <th>PY17N008</th>\n",
       "      <td>0.893312</td>\n",
       "      <td>0.000000</td>\n",
       "      <td>0.750000</td>\n",
       "      <td>0.750000</td>\n",
       "      <td>0.130580</td>\n",
       "      <td>0.117188</td>\n",
       "      <td>0.046634</td>\n",
       "      <td>0.020204</td>\n",
       "      <td>0.051603</td>\n",
       "      <td>0.048049</td>\n",
       "      <td>...</td>\n",
       "      <td>0.045184</td>\n",
       "      <td>0.018858</td>\n",
       "      <td>0.029611</td>\n",
       "      <td>0.032682</td>\n",
       "      <td>0.045048</td>\n",
       "      <td>0.013629</td>\n",
       "      <td>0.500000</td>\n",
       "      <td>0.500000</td>\n",
       "      <td>0.500000</td>\n",
       "      <td>0.500000</td>\n",
       "    </tr>\n",
       "    <tr>\n",
       "      <th>PY18N002</th>\n",
       "      <td>0.800955</td>\n",
       "      <td>0.312500</td>\n",
       "      <td>0.187500</td>\n",
       "      <td>0.250000</td>\n",
       "      <td>0.069643</td>\n",
       "      <td>0.087484</td>\n",
       "      <td>0.081150</td>\n",
       "      <td>0.086667</td>\n",
       "      <td>0.084885</td>\n",
       "      <td>0.095804</td>\n",
       "      <td>...</td>\n",
       "      <td>0.084327</td>\n",
       "      <td>0.083009</td>\n",
       "      <td>0.085656</td>\n",
       "      <td>0.086904</td>\n",
       "      <td>0.052315</td>\n",
       "      <td>0.033880</td>\n",
       "      <td>0.104167</td>\n",
       "      <td>0.104167</td>\n",
       "      <td>0.168034</td>\n",
       "      <td>0.121466</td>\n",
       "    </tr>\n",
       "    <tr>\n",
       "      <th>PY18N013</th>\n",
       "      <td>0.447452</td>\n",
       "      <td>0.000000</td>\n",
       "      <td>0.000000</td>\n",
       "      <td>0.000000</td>\n",
       "      <td>0.246652</td>\n",
       "      <td>0.246875</td>\n",
       "      <td>0.152019</td>\n",
       "      <td>0.098721</td>\n",
       "      <td>0.210023</td>\n",
       "      <td>0.233996</td>\n",
       "      <td>...</td>\n",
       "      <td>0.154037</td>\n",
       "      <td>0.097446</td>\n",
       "      <td>0.258714</td>\n",
       "      <td>0.232430</td>\n",
       "      <td>0.183782</td>\n",
       "      <td>0.084382</td>\n",
       "      <td>0.307692</td>\n",
       "      <td>0.307692</td>\n",
       "      <td>0.240715</td>\n",
       "      <td>0.389389</td>\n",
       "    </tr>\n",
       "    <tr>\n",
       "      <th>PY18N015</th>\n",
       "      <td>0.377389</td>\n",
       "      <td>0.208333</td>\n",
       "      <td>0.000000</td>\n",
       "      <td>0.416667</td>\n",
       "      <td>0.170625</td>\n",
       "      <td>0.170356</td>\n",
       "      <td>0.152704</td>\n",
       "      <td>0.145168</td>\n",
       "      <td>0.167845</td>\n",
       "      <td>0.241276</td>\n",
       "      <td>...</td>\n",
       "      <td>0.157576</td>\n",
       "      <td>0.142686</td>\n",
       "      <td>0.205918</td>\n",
       "      <td>0.207137</td>\n",
       "      <td>0.168822</td>\n",
       "      <td>0.114612</td>\n",
       "      <td>0.150362</td>\n",
       "      <td>0.150362</td>\n",
       "      <td>0.228299</td>\n",
       "      <td>0.296006</td>\n",
       "    </tr>\n",
       "    <tr>\n",
       "      <th>PY18N016</th>\n",
       "      <td>0.856688</td>\n",
       "      <td>0.210526</td>\n",
       "      <td>0.421053</td>\n",
       "      <td>0.210526</td>\n",
       "      <td>0.320724</td>\n",
       "      <td>0.328947</td>\n",
       "      <td>0.203026</td>\n",
       "      <td>0.106426</td>\n",
       "      <td>0.245223</td>\n",
       "      <td>0.207945</td>\n",
       "      <td>...</td>\n",
       "      <td>0.207352</td>\n",
       "      <td>0.109398</td>\n",
       "      <td>0.310754</td>\n",
       "      <td>0.189003</td>\n",
       "      <td>0.170511</td>\n",
       "      <td>0.071483</td>\n",
       "      <td>0.277778</td>\n",
       "      <td>0.277778</td>\n",
       "      <td>0.251017</td>\n",
       "      <td>0.509004</td>\n",
       "    </tr>\n",
       "    <tr>\n",
       "      <th>PY19N009</th>\n",
       "      <td>0.227707</td>\n",
       "      <td>0.250000</td>\n",
       "      <td>0.500000</td>\n",
       "      <td>0.250000</td>\n",
       "      <td>0.323730</td>\n",
       "      <td>0.332031</td>\n",
       "      <td>0.174030</td>\n",
       "      <td>0.096421</td>\n",
       "      <td>0.126919</td>\n",
       "      <td>0.115013</td>\n",
       "      <td>...</td>\n",
       "      <td>0.177738</td>\n",
       "      <td>0.087405</td>\n",
       "      <td>0.141318</td>\n",
       "      <td>0.093857</td>\n",
       "      <td>0.216665</td>\n",
       "      <td>0.098211</td>\n",
       "      <td>0.303571</td>\n",
       "      <td>0.303571</td>\n",
       "      <td>0.481218</td>\n",
       "      <td>0.334821</td>\n",
       "    </tr>\n",
       "    <tr>\n",
       "      <th>PY19N012</th>\n",
       "      <td>0.267516</td>\n",
       "      <td>0.117647</td>\n",
       "      <td>0.000000</td>\n",
       "      <td>0.000000</td>\n",
       "      <td>0.147599</td>\n",
       "      <td>0.151384</td>\n",
       "      <td>0.135733</td>\n",
       "      <td>0.127919</td>\n",
       "      <td>0.097323</td>\n",
       "      <td>0.095757</td>\n",
       "      <td>...</td>\n",
       "      <td>0.138625</td>\n",
       "      <td>0.115790</td>\n",
       "      <td>0.098930</td>\n",
       "      <td>0.068972</td>\n",
       "      <td>0.115155</td>\n",
       "      <td>0.052646</td>\n",
       "      <td>0.137255</td>\n",
       "      <td>0.137255</td>\n",
       "      <td>0.244720</td>\n",
       "      <td>0.238131</td>\n",
       "    </tr>\n",
       "    <tr>\n",
       "      <th>PY19N023</th>\n",
       "      <td>0.316879</td>\n",
       "      <td>0.357143</td>\n",
       "      <td>0.142857</td>\n",
       "      <td>0.000000</td>\n",
       "      <td>0.155453</td>\n",
       "      <td>0.159439</td>\n",
       "      <td>0.055974</td>\n",
       "      <td>0.021123</td>\n",
       "      <td>0.129123</td>\n",
       "      <td>0.089582</td>\n",
       "      <td>...</td>\n",
       "      <td>0.057166</td>\n",
       "      <td>0.025042</td>\n",
       "      <td>0.144475</td>\n",
       "      <td>0.079619</td>\n",
       "      <td>0.123687</td>\n",
       "      <td>0.045853</td>\n",
       "      <td>0.137363</td>\n",
       "      <td>0.137363</td>\n",
       "      <td>0.174964</td>\n",
       "      <td>0.195921</td>\n",
       "    </tr>\n",
       "    <tr>\n",
       "      <th>PY19N026</th>\n",
       "      <td>0.936306</td>\n",
       "      <td>0.347826</td>\n",
       "      <td>0.000000</td>\n",
       "      <td>0.000000</td>\n",
       "      <td>0.285681</td>\n",
       "      <td>0.293006</td>\n",
       "      <td>0.178847</td>\n",
       "      <td>0.132051</td>\n",
       "      <td>0.199279</td>\n",
       "      <td>0.203986</td>\n",
       "      <td>...</td>\n",
       "      <td>0.182658</td>\n",
       "      <td>0.113465</td>\n",
       "      <td>0.244953</td>\n",
       "      <td>0.159462</td>\n",
       "      <td>0.194252</td>\n",
       "      <td>0.089636</td>\n",
       "      <td>0.245059</td>\n",
       "      <td>0.245059</td>\n",
       "      <td>0.258557</td>\n",
       "      <td>0.393288</td>\n",
       "    </tr>\n",
       "    <tr>\n",
       "      <th>PY20N001</th>\n",
       "      <td>0.187898</td>\n",
       "      <td>0.176471</td>\n",
       "      <td>0.176471</td>\n",
       "      <td>0.176471</td>\n",
       "      <td>0.223508</td>\n",
       "      <td>0.229239</td>\n",
       "      <td>0.111838</td>\n",
       "      <td>0.078222</td>\n",
       "      <td>0.143269</td>\n",
       "      <td>0.124439</td>\n",
       "      <td>...</td>\n",
       "      <td>0.114221</td>\n",
       "      <td>0.074167</td>\n",
       "      <td>0.164735</td>\n",
       "      <td>0.110480</td>\n",
       "      <td>0.109584</td>\n",
       "      <td>0.043157</td>\n",
       "      <td>0.207843</td>\n",
       "      <td>0.207843</td>\n",
       "      <td>0.248217</td>\n",
       "      <td>0.329954</td>\n",
       "    </tr>\n",
       "    <tr>\n",
       "      <th>PY21N002</th>\n",
       "      <td>0.557325</td>\n",
       "      <td>0.000000</td>\n",
       "      <td>0.000000</td>\n",
       "      <td>0.000000</td>\n",
       "      <td>0.477564</td>\n",
       "      <td>0.489809</td>\n",
       "      <td>0.245835</td>\n",
       "      <td>0.139733</td>\n",
       "      <td>0.234865</td>\n",
       "      <td>0.186846</td>\n",
       "      <td>...</td>\n",
       "      <td>0.251072</td>\n",
       "      <td>0.136579</td>\n",
       "      <td>0.295919</td>\n",
       "      <td>0.177983</td>\n",
       "      <td>0.229007</td>\n",
       "      <td>0.074360</td>\n",
       "      <td>0.402159</td>\n",
       "      <td>0.402159</td>\n",
       "      <td>0.204773</td>\n",
       "      <td>0.574060</td>\n",
       "    </tr>\n",
       "    <tr>\n",
       "      <th>PY21N004</th>\n",
       "      <td>0.692675</td>\n",
       "      <td>0.217391</td>\n",
       "      <td>0.217391</td>\n",
       "      <td>0.000000</td>\n",
       "      <td>0.179702</td>\n",
       "      <td>0.184310</td>\n",
       "      <td>0.090829</td>\n",
       "      <td>0.053847</td>\n",
       "      <td>0.129107</td>\n",
       "      <td>0.107408</td>\n",
       "      <td>...</td>\n",
       "      <td>0.092764</td>\n",
       "      <td>0.051627</td>\n",
       "      <td>0.144451</td>\n",
       "      <td>0.089704</td>\n",
       "      <td>0.112308</td>\n",
       "      <td>0.044227</td>\n",
       "      <td>0.154150</td>\n",
       "      <td>0.154150</td>\n",
       "      <td>0.159910</td>\n",
       "      <td>0.355359</td>\n",
       "    </tr>\n",
       "    <tr>\n",
       "      <th>PY21N006</th>\n",
       "      <td>0.128981</td>\n",
       "      <td>0.000000</td>\n",
       "      <td>0.200000</td>\n",
       "      <td>0.200000</td>\n",
       "      <td>0.493594</td>\n",
       "      <td>0.506250</td>\n",
       "      <td>0.215317</td>\n",
       "      <td>0.122893</td>\n",
       "      <td>0.270126</td>\n",
       "      <td>0.238108</td>\n",
       "      <td>...</td>\n",
       "      <td>0.219905</td>\n",
       "      <td>0.120804</td>\n",
       "      <td>0.346419</td>\n",
       "      <td>0.195485</td>\n",
       "      <td>0.254485</td>\n",
       "      <td>0.081552</td>\n",
       "      <td>0.426316</td>\n",
       "      <td>0.426316</td>\n",
       "      <td>0.292985</td>\n",
       "      <td>0.556116</td>\n",
       "    </tr>\n",
       "    <tr>\n",
       "      <th>PY21N008</th>\n",
       "      <td>0.047771</td>\n",
       "      <td>0.258065</td>\n",
       "      <td>0.322581</td>\n",
       "      <td>0.032258</td>\n",
       "      <td>0.176281</td>\n",
       "      <td>0.180801</td>\n",
       "      <td>0.119473</td>\n",
       "      <td>0.099120</td>\n",
       "      <td>0.120073</td>\n",
       "      <td>0.112455</td>\n",
       "      <td>...</td>\n",
       "      <td>0.122019</td>\n",
       "      <td>0.097832</td>\n",
       "      <td>0.131514</td>\n",
       "      <td>0.096213</td>\n",
       "      <td>0.128161</td>\n",
       "      <td>0.054084</td>\n",
       "      <td>0.160138</td>\n",
       "      <td>0.160138</td>\n",
       "      <td>0.181128</td>\n",
       "      <td>0.286438</td>\n",
       "    </tr>\n",
       "  </tbody>\n",
       "</table>\n",
       "<p>17 rows × 22 columns</p>\n",
       "</div>"
      ],
      "text/plain": [
       "                0         1         2         3         4         5   \\\n",
       "patient                                                                \n",
       "PY16N008  0.987261  0.333333  0.333333  0.000000  0.195602  0.200617   \n",
       "PY16N013  0.770701  0.000000  0.333333  0.000000  0.270833  0.277778   \n",
       "PY17N005  0.487261  0.200000  0.000000  0.000000  0.487500  0.500000   \n",
       "PY17N008  0.893312  0.000000  0.750000  0.750000  0.130580  0.117188   \n",
       "PY18N002  0.800955  0.312500  0.187500  0.250000  0.069643  0.087484   \n",
       "PY18N013  0.447452  0.000000  0.000000  0.000000  0.246652  0.246875   \n",
       "PY18N015  0.377389  0.208333  0.000000  0.416667  0.170625  0.170356   \n",
       "PY18N016  0.856688  0.210526  0.421053  0.210526  0.320724  0.328947   \n",
       "PY19N009  0.227707  0.250000  0.500000  0.250000  0.323730  0.332031   \n",
       "PY19N012  0.267516  0.117647  0.000000  0.000000  0.147599  0.151384   \n",
       "PY19N023  0.316879  0.357143  0.142857  0.000000  0.155453  0.159439   \n",
       "PY19N026  0.936306  0.347826  0.000000  0.000000  0.285681  0.293006   \n",
       "PY20N001  0.187898  0.176471  0.176471  0.176471  0.223508  0.229239   \n",
       "PY21N002  0.557325  0.000000  0.000000  0.000000  0.477564  0.489809   \n",
       "PY21N004  0.692675  0.217391  0.217391  0.000000  0.179702  0.184310   \n",
       "PY21N006  0.128981  0.000000  0.200000  0.200000  0.493594  0.506250   \n",
       "PY21N008  0.047771  0.258065  0.322581  0.032258  0.176281  0.180801   \n",
       "\n",
       "                6         7         8         9   ...        12        13  \\\n",
       "patient                                           ...                       \n",
       "PY16N008  0.164193  0.104672  0.109099  0.080189  ...  0.167691  0.101105   \n",
       "PY16N013  0.360883  0.189456  0.266252  0.249138  ...  0.368573  0.195130   \n",
       "PY17N005  0.277625  0.161090  0.219309  0.208649  ...  0.283540  0.152627   \n",
       "PY17N008  0.046634  0.020204  0.051603  0.048049  ...  0.045184  0.018858   \n",
       "PY18N002  0.081150  0.086667  0.084885  0.095804  ...  0.084327  0.083009   \n",
       "PY18N013  0.152019  0.098721  0.210023  0.233996  ...  0.154037  0.097446   \n",
       "PY18N015  0.152704  0.145168  0.167845  0.241276  ...  0.157576  0.142686   \n",
       "PY18N016  0.203026  0.106426  0.245223  0.207945  ...  0.207352  0.109398   \n",
       "PY19N009  0.174030  0.096421  0.126919  0.115013  ...  0.177738  0.087405   \n",
       "PY19N012  0.135733  0.127919  0.097323  0.095757  ...  0.138625  0.115790   \n",
       "PY19N023  0.055974  0.021123  0.129123  0.089582  ...  0.057166  0.025042   \n",
       "PY19N026  0.178847  0.132051  0.199279  0.203986  ...  0.182658  0.113465   \n",
       "PY20N001  0.111838  0.078222  0.143269  0.124439  ...  0.114221  0.074167   \n",
       "PY21N002  0.245835  0.139733  0.234865  0.186846  ...  0.251072  0.136579   \n",
       "PY21N004  0.090829  0.053847  0.129107  0.107408  ...  0.092764  0.051627   \n",
       "PY21N006  0.215317  0.122893  0.270126  0.238108  ...  0.219905  0.120804   \n",
       "PY21N008  0.119473  0.099120  0.120073  0.112455  ...  0.122019  0.097832   \n",
       "\n",
       "                14        15        16        17        18        19  \\\n",
       "patient                                                                \n",
       "PY16N008  0.115796  0.061533  0.168954  0.072589  0.240741  0.240741   \n",
       "PY16N013  0.340871  0.235600  0.059010  0.018300  0.666667  0.666667   \n",
       "PY17N005  0.273639  0.141840  0.292992  0.099758  0.500000  0.500000   \n",
       "PY17N008  0.029611  0.032682  0.045048  0.013629  0.500000  0.500000   \n",
       "PY18N002  0.085656  0.086904  0.052315  0.033880  0.104167  0.104167   \n",
       "PY18N013  0.258714  0.232430  0.183782  0.084382  0.307692  0.307692   \n",
       "PY18N015  0.205918  0.207137  0.168822  0.114612  0.150362  0.150362   \n",
       "PY18N016  0.310754  0.189003  0.170511  0.071483  0.277778  0.277778   \n",
       "PY19N009  0.141318  0.093857  0.216665  0.098211  0.303571  0.303571   \n",
       "PY19N012  0.098930  0.068972  0.115155  0.052646  0.137255  0.137255   \n",
       "PY19N023  0.144475  0.079619  0.123687  0.045853  0.137363  0.137363   \n",
       "PY19N026  0.244953  0.159462  0.194252  0.089636  0.245059  0.245059   \n",
       "PY20N001  0.164735  0.110480  0.109584  0.043157  0.207843  0.207843   \n",
       "PY21N002  0.295919  0.177983  0.229007  0.074360  0.402159  0.402159   \n",
       "PY21N004  0.144451  0.089704  0.112308  0.044227  0.154150  0.154150   \n",
       "PY21N006  0.346419  0.195485  0.254485  0.081552  0.426316  0.426316   \n",
       "PY21N008  0.131514  0.096213  0.128161  0.054084  0.160138  0.160138   \n",
       "\n",
       "                20        21  \n",
       "patient                       \n",
       "PY16N008  0.405874  0.322986  \n",
       "PY16N013  0.666667  0.666667  \n",
       "PY17N005  0.601284  0.564286  \n",
       "PY17N008  0.500000  0.500000  \n",
       "PY18N002  0.168034  0.121466  \n",
       "PY18N013  0.240715  0.389389  \n",
       "PY18N015  0.228299  0.296006  \n",
       "PY18N016  0.251017  0.509004  \n",
       "PY19N009  0.481218  0.334821  \n",
       "PY19N012  0.244720  0.238131  \n",
       "PY19N023  0.174964  0.195921  \n",
       "PY19N026  0.258557  0.393288  \n",
       "PY20N001  0.248217  0.329954  \n",
       "PY21N002  0.204773  0.574060  \n",
       "PY21N004  0.159910  0.355359  \n",
       "PY21N006  0.292985  0.556116  \n",
       "PY21N008  0.181128  0.286438  \n",
       "\n",
       "[17 rows x 22 columns]"
      ]
     },
     "execution_count": 44,
     "metadata": {},
     "output_type": "execute_result"
    }
   ],
   "source": [
    "patient_df = all_positive_patients_norm.groupby(by = [\"patient\"]).mean()\n",
    "patient_df"
   ]
  },
  {
   "cell_type": "code",
   "execution_count": 45,
   "id": "5a1472ec",
   "metadata": {},
   "outputs": [],
   "source": [
    "import numpy as np\n",
    "from sklearn.decomposition import PCA\n",
    "\n",
    "pca = PCA(n_components = 3)\n",
    "components = pca.fit_transform(patient_df)\n",
    "labels = {\n",
    "    str(i): f\"PC {i+1} ({var:.1f}%)\"\n",
    "    for i, var in enumerate(pca.explained_variance_ratio_ * 100)\n",
    "}\n",
    "\n",
    "patient_df = patient_df.reset_index()"
   ]
  },
  {
   "cell_type": "code",
   "execution_count": 46,
   "id": "f9a62c9a",
   "metadata": {},
   "outputs": [],
   "source": [
    "pca_df = pd.DataFrame(components)\n",
    "pca_df.columns = [\"PC1\", \"PC2\", \"PC3\"]"
   ]
  },
  {
   "cell_type": "code",
   "execution_count": 49,
   "id": "f06ab85c",
   "metadata": {},
   "outputs": [
    {
     "data": {
      "application/vnd.plotly.v1+json": {
       "config": {
        "plotlyServerURL": "https://plot.ly"
       },
       "data": [
        {
         "hovertemplate": "color=PY16N008<br>PC1=%{x}<br>PC2=%{y}<br>PC3=%{z}<extra></extra>",
         "legendgroup": "PY16N008",
         "marker": {
          "color": "#636efa",
          "symbol": "circle"
         },
         "mode": "markers",
         "name": "PY16N008",
         "scene": "scene",
         "showlegend": true,
         "type": "scatter3d",
         "x": [
          0.06490196907664374
         ],
         "y": [
          0.39300259645158625
         ],
         "z": [
          -0.31100750288948203
         ]
        },
        {
         "hovertemplate": "color=PY16N013<br>PC1=%{x}<br>PC2=%{y}<br>PC3=%{z}<extra></extra>",
         "legendgroup": "PY16N013",
         "marker": {
          "color": "#EF553B",
          "symbol": "circle"
         },
         "mode": "markers",
         "name": "PY16N013",
         "scene": "scene",
         "showlegend": true,
         "type": "scatter3d",
         "x": [
          0.7923353118839981
         ],
         "y": [
          -0.00862223460618887
         ],
         "z": [
          -0.029808192124677883
         ]
        },
        {
         "hovertemplate": "color=PY17N005<br>PC1=%{x}<br>PC2=%{y}<br>PC3=%{z}<extra></extra>",
         "legendgroup": "PY17N005",
         "marker": {
          "color": "#00cc96",
          "symbol": "circle"
         },
         "mode": "markers",
         "name": "PY17N005",
         "scene": "scene",
         "showlegend": true,
         "type": "scatter3d",
         "x": [
          0.4527946167916682
         ],
         "y": [
          -0.4183196101256479
         ],
         "z": [
          -0.10321734203186932
         ]
        },
        {
         "hovertemplate": "color=PY17N008<br>PC1=%{x}<br>PC2=%{y}<br>PC3=%{z}<extra></extra>",
         "legendgroup": "PY17N008",
         "marker": {
          "color": "#ab63fa",
          "symbol": "circle"
         },
         "mode": "markers",
         "name": "PY17N008",
         "scene": "scene",
         "showlegend": true,
         "type": "scatter3d",
         "x": [
          0.3995490718382767
         ],
         "y": [
          0.8205996319445689
         ],
         "z": [
          0.5236096450241396
         ]
        },
        {
         "hovertemplate": "color=PY18N002<br>PC1=%{x}<br>PC2=%{y}<br>PC3=%{z}<extra></extra>",
         "legendgroup": "PY18N002",
         "marker": {
          "color": "#FFA15A",
          "symbol": "circle"
         },
         "mode": "markers",
         "name": "PY18N002",
         "scene": "scene",
         "showlegend": true,
         "type": "scatter3d",
         "x": [
          -0.3732110011172084
         ],
         "y": [
          0.4550193228640924
         ],
         "z": [
          -0.17786209320491855
         ]
        },
        {
         "hovertemplate": "color=PY18N013<br>PC1=%{x}<br>PC2=%{y}<br>PC3=%{z}<extra></extra>",
         "legendgroup": "PY18N013",
         "marker": {
          "color": "#19d3f3",
          "symbol": "circle"
         },
         "mode": "markers",
         "name": "PY18N013",
         "scene": "scene",
         "showlegend": true,
         "type": "scatter3d",
         "x": [
          -0.023939294608103828
         ],
         "y": [
          -0.2410506811587707
         ],
         "z": [
          -0.10728743974608404
         ]
        },
        {
         "hovertemplate": "color=PY18N015<br>PC1=%{x}<br>PC2=%{y}<br>PC3=%{z}<extra></extra>",
         "legendgroup": "PY18N015",
         "marker": {
          "color": "#FF6692",
          "symbol": "circle"
         },
         "mode": "markers",
         "name": "PY18N015",
         "scene": "scene",
         "showlegend": true,
         "type": "scatter3d",
         "x": [
          -0.2784784029552532
         ],
         "y": [
          -0.04809380067674551
         ],
         "z": [
          0.06579969711432959
         ]
        },
        {
         "hovertemplate": "color=PY18N016<br>PC1=%{x}<br>PC2=%{y}<br>PC3=%{z}<extra></extra>",
         "legendgroup": "PY18N016",
         "marker": {
          "color": "#B6E880",
          "symbol": "circle"
         },
         "mode": "markers",
         "name": "PY18N016",
         "scene": "scene",
         "showlegend": true,
         "type": "scatter3d",
         "x": [
          0.24646214594106952
         ],
         "y": [
          0.21729455860257962
         ],
         "z": [
          -0.11697365015898395
         ]
        },
        {
         "hovertemplate": "color=PY19N009<br>PC1=%{x}<br>PC2=%{y}<br>PC3=%{z}<extra></extra>",
         "legendgroup": "PY19N009",
         "marker": {
          "color": "#FF97FF",
          "symbol": "circle"
         },
         "mode": "markers",
         "name": "PY19N009",
         "scene": "scene",
         "showlegend": true,
         "type": "scatter3d",
         "x": [
          -0.008153803028207184
         ],
         "y": [
          -0.05856016340961435
         ],
         "z": [
          0.3973272356568544
         ]
        },
        {
         "hovertemplate": "color=PY19N012<br>PC1=%{x}<br>PC2=%{y}<br>PC3=%{z}<extra></extra>",
         "legendgroup": "PY19N012",
         "marker": {
          "color": "#FECB52",
          "symbol": "circle"
         },
         "mode": "markers",
         "name": "PY19N012",
         "scene": "scene",
         "showlegend": true,
         "type": "scatter3d",
         "x": [
          -0.42110916865400094
         ],
         "y": [
          -0.15713804265742595
         ],
         "z": [
          -0.01365401769756245
         ]
        },
        {
         "hovertemplate": "color=PY19N023<br>PC1=%{x}<br>PC2=%{y}<br>PC3=%{z}<extra></extra>",
         "legendgroup": "PY19N023",
         "marker": {
          "color": "#636efa",
          "symbol": "circle"
         },
         "mode": "markers",
         "name": "PY19N023",
         "scene": "scene",
         "showlegend": true,
         "type": "scatter3d",
         "x": [
          -0.48944042396638154
         ],
         "y": [
          -0.02747336497393901
         ],
         "z": [
          -0.019783813904212258
         ]
        },
        {
         "hovertemplate": "color=PY19N026<br>PC1=%{x}<br>PC2=%{y}<br>PC3=%{z}<extra></extra>",
         "legendgroup": "PY19N026",
         "marker": {
          "color": "#EF553B",
          "symbol": "circle"
         },
         "mode": "markers",
         "name": "PY19N026",
         "scene": "scene",
         "showlegend": true,
         "type": "scatter3d",
         "x": [
          0.06494134666722116
         ],
         "y": [
          0.09300920068943606
         ],
         "z": [
          -0.4975256458024545
         ]
        },
        {
         "hovertemplate": "color=PY20N001<br>PC1=%{x}<br>PC2=%{y}<br>PC3=%{z}<extra></extra>",
         "legendgroup": "PY20N001",
         "marker": {
          "color": "#00cc96",
          "symbol": "circle"
         },
         "mode": "markers",
         "name": "PY20N001",
         "scene": "scene",
         "showlegend": true,
         "type": "scatter3d",
         "x": [
          -0.29163816977364787
         ],
         "y": [
          -0.14069804696525579
         ],
         "z": [
          0.21162673943493465
         ]
        },
        {
         "hovertemplate": "color=PY21N002<br>PC1=%{x}<br>PC2=%{y}<br>PC3=%{z}<extra></extra>",
         "legendgroup": "PY21N002",
         "marker": {
          "color": "#ab63fa",
          "symbol": "circle"
         },
         "mode": "markers",
         "name": "PY21N002",
         "scene": "scene",
         "showlegend": true,
         "type": "scatter3d",
         "x": [
          0.29177328736274444
         ],
         "y": [
          -0.3648763360621
         ],
         "z": [
          -0.18019271225904432
         ]
        },
        {
         "hovertemplate": "color=PY21N004<br>PC1=%{x}<br>PC2=%{y}<br>PC3=%{z}<extra></extra>",
         "legendgroup": "PY21N004",
         "marker": {
          "color": "#FFA15A",
          "symbol": "circle"
         },
         "mode": "markers",
         "name": "PY21N004",
         "scene": "scene",
         "showlegend": true,
         "type": "scatter3d",
         "x": [
          -0.21400157783753204
         ],
         "y": [
          0.18482998202573234
         ],
         "z": [
          -0.19729686596572998
         ]
        },
        {
         "hovertemplate": "color=PY21N006<br>PC1=%{x}<br>PC2=%{y}<br>PC3=%{z}<extra></extra>",
         "legendgroup": "PY21N006",
         "marker": {
          "color": "#19d3f3",
          "symbol": "circle"
         },
         "mode": "markers",
         "name": "PY21N006",
         "scene": "scene",
         "showlegend": true,
         "type": "scatter3d",
         "x": [
          0.232152755216599
         ],
         "y": [
          -0.5201135506280042
         ],
         "z": [
          0.29423016274096203
         ]
        },
        {
         "hovertemplate": "color=PY21N008<br>PC1=%{x}<br>PC2=%{y}<br>PC3=%{z}<extra></extra>",
         "legendgroup": "PY21N008",
         "marker": {
          "color": "#FF6692",
          "symbol": "circle"
         },
         "mode": "markers",
         "name": "PY21N008",
         "scene": "scene",
         "showlegend": true,
         "type": "scatter3d",
         "x": [
          -0.4449386628378849
         ],
         "y": [
          -0.17880946131430284
         ],
         "z": [
          0.26201579581379864
         ]
        }
       ],
       "layout": {
        "legend": {
         "title": {
          "text": "color"
         },
         "tracegroupgap": 0
        },
        "margin": {
         "t": 60
        },
        "scene": {
         "domain": {
          "x": [
           0,
           1
          ],
          "y": [
           0,
           1
          ]
         },
         "xaxis": {
          "title": {
           "text": "PC1"
          }
         },
         "yaxis": {
          "title": {
           "text": "PC2"
          }
         },
         "zaxis": {
          "title": {
           "text": "PC3"
          }
         }
        },
        "template": {
         "data": {
          "bar": [
           {
            "error_x": {
             "color": "#2a3f5f"
            },
            "error_y": {
             "color": "#2a3f5f"
            },
            "marker": {
             "line": {
              "color": "#E5ECF6",
              "width": 0.5
             },
             "pattern": {
              "fillmode": "overlay",
              "size": 10,
              "solidity": 0.2
             }
            },
            "type": "bar"
           }
          ],
          "barpolar": [
           {
            "marker": {
             "line": {
              "color": "#E5ECF6",
              "width": 0.5
             },
             "pattern": {
              "fillmode": "overlay",
              "size": 10,
              "solidity": 0.2
             }
            },
            "type": "barpolar"
           }
          ],
          "carpet": [
           {
            "aaxis": {
             "endlinecolor": "#2a3f5f",
             "gridcolor": "white",
             "linecolor": "white",
             "minorgridcolor": "white",
             "startlinecolor": "#2a3f5f"
            },
            "baxis": {
             "endlinecolor": "#2a3f5f",
             "gridcolor": "white",
             "linecolor": "white",
             "minorgridcolor": "white",
             "startlinecolor": "#2a3f5f"
            },
            "type": "carpet"
           }
          ],
          "choropleth": [
           {
            "colorbar": {
             "outlinewidth": 0,
             "ticks": ""
            },
            "type": "choropleth"
           }
          ],
          "contour": [
           {
            "colorbar": {
             "outlinewidth": 0,
             "ticks": ""
            },
            "colorscale": [
             [
              0,
              "#0d0887"
             ],
             [
              0.1111111111111111,
              "#46039f"
             ],
             [
              0.2222222222222222,
              "#7201a8"
             ],
             [
              0.3333333333333333,
              "#9c179e"
             ],
             [
              0.4444444444444444,
              "#bd3786"
             ],
             [
              0.5555555555555556,
              "#d8576b"
             ],
             [
              0.6666666666666666,
              "#ed7953"
             ],
             [
              0.7777777777777778,
              "#fb9f3a"
             ],
             [
              0.8888888888888888,
              "#fdca26"
             ],
             [
              1,
              "#f0f921"
             ]
            ],
            "type": "contour"
           }
          ],
          "contourcarpet": [
           {
            "colorbar": {
             "outlinewidth": 0,
             "ticks": ""
            },
            "type": "contourcarpet"
           }
          ],
          "heatmap": [
           {
            "colorbar": {
             "outlinewidth": 0,
             "ticks": ""
            },
            "colorscale": [
             [
              0,
              "#0d0887"
             ],
             [
              0.1111111111111111,
              "#46039f"
             ],
             [
              0.2222222222222222,
              "#7201a8"
             ],
             [
              0.3333333333333333,
              "#9c179e"
             ],
             [
              0.4444444444444444,
              "#bd3786"
             ],
             [
              0.5555555555555556,
              "#d8576b"
             ],
             [
              0.6666666666666666,
              "#ed7953"
             ],
             [
              0.7777777777777778,
              "#fb9f3a"
             ],
             [
              0.8888888888888888,
              "#fdca26"
             ],
             [
              1,
              "#f0f921"
             ]
            ],
            "type": "heatmap"
           }
          ],
          "heatmapgl": [
           {
            "colorbar": {
             "outlinewidth": 0,
             "ticks": ""
            },
            "colorscale": [
             [
              0,
              "#0d0887"
             ],
             [
              0.1111111111111111,
              "#46039f"
             ],
             [
              0.2222222222222222,
              "#7201a8"
             ],
             [
              0.3333333333333333,
              "#9c179e"
             ],
             [
              0.4444444444444444,
              "#bd3786"
             ],
             [
              0.5555555555555556,
              "#d8576b"
             ],
             [
              0.6666666666666666,
              "#ed7953"
             ],
             [
              0.7777777777777778,
              "#fb9f3a"
             ],
             [
              0.8888888888888888,
              "#fdca26"
             ],
             [
              1,
              "#f0f921"
             ]
            ],
            "type": "heatmapgl"
           }
          ],
          "histogram": [
           {
            "marker": {
             "pattern": {
              "fillmode": "overlay",
              "size": 10,
              "solidity": 0.2
             }
            },
            "type": "histogram"
           }
          ],
          "histogram2d": [
           {
            "colorbar": {
             "outlinewidth": 0,
             "ticks": ""
            },
            "colorscale": [
             [
              0,
              "#0d0887"
             ],
             [
              0.1111111111111111,
              "#46039f"
             ],
             [
              0.2222222222222222,
              "#7201a8"
             ],
             [
              0.3333333333333333,
              "#9c179e"
             ],
             [
              0.4444444444444444,
              "#bd3786"
             ],
             [
              0.5555555555555556,
              "#d8576b"
             ],
             [
              0.6666666666666666,
              "#ed7953"
             ],
             [
              0.7777777777777778,
              "#fb9f3a"
             ],
             [
              0.8888888888888888,
              "#fdca26"
             ],
             [
              1,
              "#f0f921"
             ]
            ],
            "type": "histogram2d"
           }
          ],
          "histogram2dcontour": [
           {
            "colorbar": {
             "outlinewidth": 0,
             "ticks": ""
            },
            "colorscale": [
             [
              0,
              "#0d0887"
             ],
             [
              0.1111111111111111,
              "#46039f"
             ],
             [
              0.2222222222222222,
              "#7201a8"
             ],
             [
              0.3333333333333333,
              "#9c179e"
             ],
             [
              0.4444444444444444,
              "#bd3786"
             ],
             [
              0.5555555555555556,
              "#d8576b"
             ],
             [
              0.6666666666666666,
              "#ed7953"
             ],
             [
              0.7777777777777778,
              "#fb9f3a"
             ],
             [
              0.8888888888888888,
              "#fdca26"
             ],
             [
              1,
              "#f0f921"
             ]
            ],
            "type": "histogram2dcontour"
           }
          ],
          "mesh3d": [
           {
            "colorbar": {
             "outlinewidth": 0,
             "ticks": ""
            },
            "type": "mesh3d"
           }
          ],
          "parcoords": [
           {
            "line": {
             "colorbar": {
              "outlinewidth": 0,
              "ticks": ""
             }
            },
            "type": "parcoords"
           }
          ],
          "pie": [
           {
            "automargin": true,
            "type": "pie"
           }
          ],
          "scatter": [
           {
            "fillpattern": {
             "fillmode": "overlay",
             "size": 10,
             "solidity": 0.2
            },
            "type": "scatter"
           }
          ],
          "scatter3d": [
           {
            "line": {
             "colorbar": {
              "outlinewidth": 0,
              "ticks": ""
             }
            },
            "marker": {
             "colorbar": {
              "outlinewidth": 0,
              "ticks": ""
             }
            },
            "type": "scatter3d"
           }
          ],
          "scattercarpet": [
           {
            "marker": {
             "colorbar": {
              "outlinewidth": 0,
              "ticks": ""
             }
            },
            "type": "scattercarpet"
           }
          ],
          "scattergeo": [
           {
            "marker": {
             "colorbar": {
              "outlinewidth": 0,
              "ticks": ""
             }
            },
            "type": "scattergeo"
           }
          ],
          "scattergl": [
           {
            "marker": {
             "colorbar": {
              "outlinewidth": 0,
              "ticks": ""
             }
            },
            "type": "scattergl"
           }
          ],
          "scattermapbox": [
           {
            "marker": {
             "colorbar": {
              "outlinewidth": 0,
              "ticks": ""
             }
            },
            "type": "scattermapbox"
           }
          ],
          "scatterpolar": [
           {
            "marker": {
             "colorbar": {
              "outlinewidth": 0,
              "ticks": ""
             }
            },
            "type": "scatterpolar"
           }
          ],
          "scatterpolargl": [
           {
            "marker": {
             "colorbar": {
              "outlinewidth": 0,
              "ticks": ""
             }
            },
            "type": "scatterpolargl"
           }
          ],
          "scatterternary": [
           {
            "marker": {
             "colorbar": {
              "outlinewidth": 0,
              "ticks": ""
             }
            },
            "type": "scatterternary"
           }
          ],
          "surface": [
           {
            "colorbar": {
             "outlinewidth": 0,
             "ticks": ""
            },
            "colorscale": [
             [
              0,
              "#0d0887"
             ],
             [
              0.1111111111111111,
              "#46039f"
             ],
             [
              0.2222222222222222,
              "#7201a8"
             ],
             [
              0.3333333333333333,
              "#9c179e"
             ],
             [
              0.4444444444444444,
              "#bd3786"
             ],
             [
              0.5555555555555556,
              "#d8576b"
             ],
             [
              0.6666666666666666,
              "#ed7953"
             ],
             [
              0.7777777777777778,
              "#fb9f3a"
             ],
             [
              0.8888888888888888,
              "#fdca26"
             ],
             [
              1,
              "#f0f921"
             ]
            ],
            "type": "surface"
           }
          ],
          "table": [
           {
            "cells": {
             "fill": {
              "color": "#EBF0F8"
             },
             "line": {
              "color": "white"
             }
            },
            "header": {
             "fill": {
              "color": "#C8D4E3"
             },
             "line": {
              "color": "white"
             }
            },
            "type": "table"
           }
          ]
         },
         "layout": {
          "annotationdefaults": {
           "arrowcolor": "#2a3f5f",
           "arrowhead": 0,
           "arrowwidth": 1
          },
          "autotypenumbers": "strict",
          "coloraxis": {
           "colorbar": {
            "outlinewidth": 0,
            "ticks": ""
           }
          },
          "colorscale": {
           "diverging": [
            [
             0,
             "#8e0152"
            ],
            [
             0.1,
             "#c51b7d"
            ],
            [
             0.2,
             "#de77ae"
            ],
            [
             0.3,
             "#f1b6da"
            ],
            [
             0.4,
             "#fde0ef"
            ],
            [
             0.5,
             "#f7f7f7"
            ],
            [
             0.6,
             "#e6f5d0"
            ],
            [
             0.7,
             "#b8e186"
            ],
            [
             0.8,
             "#7fbc41"
            ],
            [
             0.9,
             "#4d9221"
            ],
            [
             1,
             "#276419"
            ]
           ],
           "sequential": [
            [
             0,
             "#0d0887"
            ],
            [
             0.1111111111111111,
             "#46039f"
            ],
            [
             0.2222222222222222,
             "#7201a8"
            ],
            [
             0.3333333333333333,
             "#9c179e"
            ],
            [
             0.4444444444444444,
             "#bd3786"
            ],
            [
             0.5555555555555556,
             "#d8576b"
            ],
            [
             0.6666666666666666,
             "#ed7953"
            ],
            [
             0.7777777777777778,
             "#fb9f3a"
            ],
            [
             0.8888888888888888,
             "#fdca26"
            ],
            [
             1,
             "#f0f921"
            ]
           ],
           "sequentialminus": [
            [
             0,
             "#0d0887"
            ],
            [
             0.1111111111111111,
             "#46039f"
            ],
            [
             0.2222222222222222,
             "#7201a8"
            ],
            [
             0.3333333333333333,
             "#9c179e"
            ],
            [
             0.4444444444444444,
             "#bd3786"
            ],
            [
             0.5555555555555556,
             "#d8576b"
            ],
            [
             0.6666666666666666,
             "#ed7953"
            ],
            [
             0.7777777777777778,
             "#fb9f3a"
            ],
            [
             0.8888888888888888,
             "#fdca26"
            ],
            [
             1,
             "#f0f921"
            ]
           ]
          },
          "colorway": [
           "#636efa",
           "#EF553B",
           "#00cc96",
           "#ab63fa",
           "#FFA15A",
           "#19d3f3",
           "#FF6692",
           "#B6E880",
           "#FF97FF",
           "#FECB52"
          ],
          "font": {
           "color": "#2a3f5f"
          },
          "geo": {
           "bgcolor": "white",
           "lakecolor": "white",
           "landcolor": "#E5ECF6",
           "showlakes": true,
           "showland": true,
           "subunitcolor": "white"
          },
          "hoverlabel": {
           "align": "left"
          },
          "hovermode": "closest",
          "mapbox": {
           "style": "light"
          },
          "paper_bgcolor": "white",
          "plot_bgcolor": "#E5ECF6",
          "polar": {
           "angularaxis": {
            "gridcolor": "white",
            "linecolor": "white",
            "ticks": ""
           },
           "bgcolor": "#E5ECF6",
           "radialaxis": {
            "gridcolor": "white",
            "linecolor": "white",
            "ticks": ""
           }
          },
          "scene": {
           "xaxis": {
            "backgroundcolor": "#E5ECF6",
            "gridcolor": "white",
            "gridwidth": 2,
            "linecolor": "white",
            "showbackground": true,
            "ticks": "",
            "zerolinecolor": "white"
           },
           "yaxis": {
            "backgroundcolor": "#E5ECF6",
            "gridcolor": "white",
            "gridwidth": 2,
            "linecolor": "white",
            "showbackground": true,
            "ticks": "",
            "zerolinecolor": "white"
           },
           "zaxis": {
            "backgroundcolor": "#E5ECF6",
            "gridcolor": "white",
            "gridwidth": 2,
            "linecolor": "white",
            "showbackground": true,
            "ticks": "",
            "zerolinecolor": "white"
           }
          },
          "shapedefaults": {
           "line": {
            "color": "#2a3f5f"
           }
          },
          "ternary": {
           "aaxis": {
            "gridcolor": "white",
            "linecolor": "white",
            "ticks": ""
           },
           "baxis": {
            "gridcolor": "white",
            "linecolor": "white",
            "ticks": ""
           },
           "bgcolor": "#E5ECF6",
           "caxis": {
            "gridcolor": "white",
            "linecolor": "white",
            "ticks": ""
           }
          },
          "title": {
           "x": 0.05
          },
          "xaxis": {
           "automargin": true,
           "gridcolor": "white",
           "linecolor": "white",
           "ticks": "",
           "title": {
            "standoff": 15
           },
           "zerolinecolor": "white",
           "zerolinewidth": 2
          },
          "yaxis": {
           "automargin": true,
           "gridcolor": "white",
           "linecolor": "white",
           "ticks": "",
           "title": {
            "standoff": 15
           },
           "zerolinecolor": "white",
           "zerolinewidth": 2
          }
         }
        }
       }
      },
      "text/html": [
       "<div>                            <div id=\"d80de31b-f62f-4eb3-894f-d7b8c9b79e40\" class=\"plotly-graph-div\" style=\"height:525px; width:100%;\"></div>            <script type=\"text/javascript\">                require([\"plotly\"], function(Plotly) {                    window.PLOTLYENV=window.PLOTLYENV || {};                                    if (document.getElementById(\"d80de31b-f62f-4eb3-894f-d7b8c9b79e40\")) {                    Plotly.newPlot(                        \"d80de31b-f62f-4eb3-894f-d7b8c9b79e40\",                        [{\"hovertemplate\":\"color=PY16N008<br>PC1=%{x}<br>PC2=%{y}<br>PC3=%{z}<extra></extra>\",\"legendgroup\":\"PY16N008\",\"marker\":{\"color\":\"#636efa\",\"symbol\":\"circle\"},\"mode\":\"markers\",\"name\":\"PY16N008\",\"scene\":\"scene\",\"showlegend\":true,\"x\":[0.06490196907664374],\"y\":[0.39300259645158625],\"z\":[-0.31100750288948203],\"type\":\"scatter3d\"},{\"hovertemplate\":\"color=PY16N013<br>PC1=%{x}<br>PC2=%{y}<br>PC3=%{z}<extra></extra>\",\"legendgroup\":\"PY16N013\",\"marker\":{\"color\":\"#EF553B\",\"symbol\":\"circle\"},\"mode\":\"markers\",\"name\":\"PY16N013\",\"scene\":\"scene\",\"showlegend\":true,\"x\":[0.7923353118839981],\"y\":[-0.00862223460618887],\"z\":[-0.029808192124677883],\"type\":\"scatter3d\"},{\"hovertemplate\":\"color=PY17N005<br>PC1=%{x}<br>PC2=%{y}<br>PC3=%{z}<extra></extra>\",\"legendgroup\":\"PY17N005\",\"marker\":{\"color\":\"#00cc96\",\"symbol\":\"circle\"},\"mode\":\"markers\",\"name\":\"PY17N005\",\"scene\":\"scene\",\"showlegend\":true,\"x\":[0.4527946167916682],\"y\":[-0.4183196101256479],\"z\":[-0.10321734203186932],\"type\":\"scatter3d\"},{\"hovertemplate\":\"color=PY17N008<br>PC1=%{x}<br>PC2=%{y}<br>PC3=%{z}<extra></extra>\",\"legendgroup\":\"PY17N008\",\"marker\":{\"color\":\"#ab63fa\",\"symbol\":\"circle\"},\"mode\":\"markers\",\"name\":\"PY17N008\",\"scene\":\"scene\",\"showlegend\":true,\"x\":[0.3995490718382767],\"y\":[0.8205996319445689],\"z\":[0.5236096450241396],\"type\":\"scatter3d\"},{\"hovertemplate\":\"color=PY18N002<br>PC1=%{x}<br>PC2=%{y}<br>PC3=%{z}<extra></extra>\",\"legendgroup\":\"PY18N002\",\"marker\":{\"color\":\"#FFA15A\",\"symbol\":\"circle\"},\"mode\":\"markers\",\"name\":\"PY18N002\",\"scene\":\"scene\",\"showlegend\":true,\"x\":[-0.3732110011172084],\"y\":[0.4550193228640924],\"z\":[-0.17786209320491855],\"type\":\"scatter3d\"},{\"hovertemplate\":\"color=PY18N013<br>PC1=%{x}<br>PC2=%{y}<br>PC3=%{z}<extra></extra>\",\"legendgroup\":\"PY18N013\",\"marker\":{\"color\":\"#19d3f3\",\"symbol\":\"circle\"},\"mode\":\"markers\",\"name\":\"PY18N013\",\"scene\":\"scene\",\"showlegend\":true,\"x\":[-0.023939294608103828],\"y\":[-0.2410506811587707],\"z\":[-0.10728743974608404],\"type\":\"scatter3d\"},{\"hovertemplate\":\"color=PY18N015<br>PC1=%{x}<br>PC2=%{y}<br>PC3=%{z}<extra></extra>\",\"legendgroup\":\"PY18N015\",\"marker\":{\"color\":\"#FF6692\",\"symbol\":\"circle\"},\"mode\":\"markers\",\"name\":\"PY18N015\",\"scene\":\"scene\",\"showlegend\":true,\"x\":[-0.2784784029552532],\"y\":[-0.04809380067674551],\"z\":[0.06579969711432959],\"type\":\"scatter3d\"},{\"hovertemplate\":\"color=PY18N016<br>PC1=%{x}<br>PC2=%{y}<br>PC3=%{z}<extra></extra>\",\"legendgroup\":\"PY18N016\",\"marker\":{\"color\":\"#B6E880\",\"symbol\":\"circle\"},\"mode\":\"markers\",\"name\":\"PY18N016\",\"scene\":\"scene\",\"showlegend\":true,\"x\":[0.24646214594106952],\"y\":[0.21729455860257962],\"z\":[-0.11697365015898395],\"type\":\"scatter3d\"},{\"hovertemplate\":\"color=PY19N009<br>PC1=%{x}<br>PC2=%{y}<br>PC3=%{z}<extra></extra>\",\"legendgroup\":\"PY19N009\",\"marker\":{\"color\":\"#FF97FF\",\"symbol\":\"circle\"},\"mode\":\"markers\",\"name\":\"PY19N009\",\"scene\":\"scene\",\"showlegend\":true,\"x\":[-0.008153803028207184],\"y\":[-0.05856016340961435],\"z\":[0.3973272356568544],\"type\":\"scatter3d\"},{\"hovertemplate\":\"color=PY19N012<br>PC1=%{x}<br>PC2=%{y}<br>PC3=%{z}<extra></extra>\",\"legendgroup\":\"PY19N012\",\"marker\":{\"color\":\"#FECB52\",\"symbol\":\"circle\"},\"mode\":\"markers\",\"name\":\"PY19N012\",\"scene\":\"scene\",\"showlegend\":true,\"x\":[-0.42110916865400094],\"y\":[-0.15713804265742595],\"z\":[-0.01365401769756245],\"type\":\"scatter3d\"},{\"hovertemplate\":\"color=PY19N023<br>PC1=%{x}<br>PC2=%{y}<br>PC3=%{z}<extra></extra>\",\"legendgroup\":\"PY19N023\",\"marker\":{\"color\":\"#636efa\",\"symbol\":\"circle\"},\"mode\":\"markers\",\"name\":\"PY19N023\",\"scene\":\"scene\",\"showlegend\":true,\"x\":[-0.48944042396638154],\"y\":[-0.02747336497393901],\"z\":[-0.019783813904212258],\"type\":\"scatter3d\"},{\"hovertemplate\":\"color=PY19N026<br>PC1=%{x}<br>PC2=%{y}<br>PC3=%{z}<extra></extra>\",\"legendgroup\":\"PY19N026\",\"marker\":{\"color\":\"#EF553B\",\"symbol\":\"circle\"},\"mode\":\"markers\",\"name\":\"PY19N026\",\"scene\":\"scene\",\"showlegend\":true,\"x\":[0.06494134666722116],\"y\":[0.09300920068943606],\"z\":[-0.4975256458024545],\"type\":\"scatter3d\"},{\"hovertemplate\":\"color=PY20N001<br>PC1=%{x}<br>PC2=%{y}<br>PC3=%{z}<extra></extra>\",\"legendgroup\":\"PY20N001\",\"marker\":{\"color\":\"#00cc96\",\"symbol\":\"circle\"},\"mode\":\"markers\",\"name\":\"PY20N001\",\"scene\":\"scene\",\"showlegend\":true,\"x\":[-0.29163816977364787],\"y\":[-0.14069804696525579],\"z\":[0.21162673943493465],\"type\":\"scatter3d\"},{\"hovertemplate\":\"color=PY21N002<br>PC1=%{x}<br>PC2=%{y}<br>PC3=%{z}<extra></extra>\",\"legendgroup\":\"PY21N002\",\"marker\":{\"color\":\"#ab63fa\",\"symbol\":\"circle\"},\"mode\":\"markers\",\"name\":\"PY21N002\",\"scene\":\"scene\",\"showlegend\":true,\"x\":[0.29177328736274444],\"y\":[-0.3648763360621],\"z\":[-0.18019271225904432],\"type\":\"scatter3d\"},{\"hovertemplate\":\"color=PY21N004<br>PC1=%{x}<br>PC2=%{y}<br>PC3=%{z}<extra></extra>\",\"legendgroup\":\"PY21N004\",\"marker\":{\"color\":\"#FFA15A\",\"symbol\":\"circle\"},\"mode\":\"markers\",\"name\":\"PY21N004\",\"scene\":\"scene\",\"showlegend\":true,\"x\":[-0.21400157783753204],\"y\":[0.18482998202573234],\"z\":[-0.19729686596572998],\"type\":\"scatter3d\"},{\"hovertemplate\":\"color=PY21N006<br>PC1=%{x}<br>PC2=%{y}<br>PC3=%{z}<extra></extra>\",\"legendgroup\":\"PY21N006\",\"marker\":{\"color\":\"#19d3f3\",\"symbol\":\"circle\"},\"mode\":\"markers\",\"name\":\"PY21N006\",\"scene\":\"scene\",\"showlegend\":true,\"x\":[0.232152755216599],\"y\":[-0.5201135506280042],\"z\":[0.29423016274096203],\"type\":\"scatter3d\"},{\"hovertemplate\":\"color=PY21N008<br>PC1=%{x}<br>PC2=%{y}<br>PC3=%{z}<extra></extra>\",\"legendgroup\":\"PY21N008\",\"marker\":{\"color\":\"#FF6692\",\"symbol\":\"circle\"},\"mode\":\"markers\",\"name\":\"PY21N008\",\"scene\":\"scene\",\"showlegend\":true,\"x\":[-0.4449386628378849],\"y\":[-0.17880946131430284],\"z\":[0.26201579581379864],\"type\":\"scatter3d\"}],                        {\"template\":{\"data\":{\"histogram2dcontour\":[{\"type\":\"histogram2dcontour\",\"colorbar\":{\"outlinewidth\":0,\"ticks\":\"\"},\"colorscale\":[[0.0,\"#0d0887\"],[0.1111111111111111,\"#46039f\"],[0.2222222222222222,\"#7201a8\"],[0.3333333333333333,\"#9c179e\"],[0.4444444444444444,\"#bd3786\"],[0.5555555555555556,\"#d8576b\"],[0.6666666666666666,\"#ed7953\"],[0.7777777777777778,\"#fb9f3a\"],[0.8888888888888888,\"#fdca26\"],[1.0,\"#f0f921\"]]}],\"choropleth\":[{\"type\":\"choropleth\",\"colorbar\":{\"outlinewidth\":0,\"ticks\":\"\"}}],\"histogram2d\":[{\"type\":\"histogram2d\",\"colorbar\":{\"outlinewidth\":0,\"ticks\":\"\"},\"colorscale\":[[0.0,\"#0d0887\"],[0.1111111111111111,\"#46039f\"],[0.2222222222222222,\"#7201a8\"],[0.3333333333333333,\"#9c179e\"],[0.4444444444444444,\"#bd3786\"],[0.5555555555555556,\"#d8576b\"],[0.6666666666666666,\"#ed7953\"],[0.7777777777777778,\"#fb9f3a\"],[0.8888888888888888,\"#fdca26\"],[1.0,\"#f0f921\"]]}],\"heatmap\":[{\"type\":\"heatmap\",\"colorbar\":{\"outlinewidth\":0,\"ticks\":\"\"},\"colorscale\":[[0.0,\"#0d0887\"],[0.1111111111111111,\"#46039f\"],[0.2222222222222222,\"#7201a8\"],[0.3333333333333333,\"#9c179e\"],[0.4444444444444444,\"#bd3786\"],[0.5555555555555556,\"#d8576b\"],[0.6666666666666666,\"#ed7953\"],[0.7777777777777778,\"#fb9f3a\"],[0.8888888888888888,\"#fdca26\"],[1.0,\"#f0f921\"]]}],\"heatmapgl\":[{\"type\":\"heatmapgl\",\"colorbar\":{\"outlinewidth\":0,\"ticks\":\"\"},\"colorscale\":[[0.0,\"#0d0887\"],[0.1111111111111111,\"#46039f\"],[0.2222222222222222,\"#7201a8\"],[0.3333333333333333,\"#9c179e\"],[0.4444444444444444,\"#bd3786\"],[0.5555555555555556,\"#d8576b\"],[0.6666666666666666,\"#ed7953\"],[0.7777777777777778,\"#fb9f3a\"],[0.8888888888888888,\"#fdca26\"],[1.0,\"#f0f921\"]]}],\"contourcarpet\":[{\"type\":\"contourcarpet\",\"colorbar\":{\"outlinewidth\":0,\"ticks\":\"\"}}],\"contour\":[{\"type\":\"contour\",\"colorbar\":{\"outlinewidth\":0,\"ticks\":\"\"},\"colorscale\":[[0.0,\"#0d0887\"],[0.1111111111111111,\"#46039f\"],[0.2222222222222222,\"#7201a8\"],[0.3333333333333333,\"#9c179e\"],[0.4444444444444444,\"#bd3786\"],[0.5555555555555556,\"#d8576b\"],[0.6666666666666666,\"#ed7953\"],[0.7777777777777778,\"#fb9f3a\"],[0.8888888888888888,\"#fdca26\"],[1.0,\"#f0f921\"]]}],\"surface\":[{\"type\":\"surface\",\"colorbar\":{\"outlinewidth\":0,\"ticks\":\"\"},\"colorscale\":[[0.0,\"#0d0887\"],[0.1111111111111111,\"#46039f\"],[0.2222222222222222,\"#7201a8\"],[0.3333333333333333,\"#9c179e\"],[0.4444444444444444,\"#bd3786\"],[0.5555555555555556,\"#d8576b\"],[0.6666666666666666,\"#ed7953\"],[0.7777777777777778,\"#fb9f3a\"],[0.8888888888888888,\"#fdca26\"],[1.0,\"#f0f921\"]]}],\"mesh3d\":[{\"type\":\"mesh3d\",\"colorbar\":{\"outlinewidth\":0,\"ticks\":\"\"}}],\"scatter\":[{\"fillpattern\":{\"fillmode\":\"overlay\",\"size\":10,\"solidity\":0.2},\"type\":\"scatter\"}],\"parcoords\":[{\"type\":\"parcoords\",\"line\":{\"colorbar\":{\"outlinewidth\":0,\"ticks\":\"\"}}}],\"scatterpolargl\":[{\"type\":\"scatterpolargl\",\"marker\":{\"colorbar\":{\"outlinewidth\":0,\"ticks\":\"\"}}}],\"bar\":[{\"error_x\":{\"color\":\"#2a3f5f\"},\"error_y\":{\"color\":\"#2a3f5f\"},\"marker\":{\"line\":{\"color\":\"#E5ECF6\",\"width\":0.5},\"pattern\":{\"fillmode\":\"overlay\",\"size\":10,\"solidity\":0.2}},\"type\":\"bar\"}],\"scattergeo\":[{\"type\":\"scattergeo\",\"marker\":{\"colorbar\":{\"outlinewidth\":0,\"ticks\":\"\"}}}],\"scatterpolar\":[{\"type\":\"scatterpolar\",\"marker\":{\"colorbar\":{\"outlinewidth\":0,\"ticks\":\"\"}}}],\"histogram\":[{\"marker\":{\"pattern\":{\"fillmode\":\"overlay\",\"size\":10,\"solidity\":0.2}},\"type\":\"histogram\"}],\"scattergl\":[{\"type\":\"scattergl\",\"marker\":{\"colorbar\":{\"outlinewidth\":0,\"ticks\":\"\"}}}],\"scatter3d\":[{\"type\":\"scatter3d\",\"line\":{\"colorbar\":{\"outlinewidth\":0,\"ticks\":\"\"}},\"marker\":{\"colorbar\":{\"outlinewidth\":0,\"ticks\":\"\"}}}],\"scattermapbox\":[{\"type\":\"scattermapbox\",\"marker\":{\"colorbar\":{\"outlinewidth\":0,\"ticks\":\"\"}}}],\"scatterternary\":[{\"type\":\"scatterternary\",\"marker\":{\"colorbar\":{\"outlinewidth\":0,\"ticks\":\"\"}}}],\"scattercarpet\":[{\"type\":\"scattercarpet\",\"marker\":{\"colorbar\":{\"outlinewidth\":0,\"ticks\":\"\"}}}],\"carpet\":[{\"aaxis\":{\"endlinecolor\":\"#2a3f5f\",\"gridcolor\":\"white\",\"linecolor\":\"white\",\"minorgridcolor\":\"white\",\"startlinecolor\":\"#2a3f5f\"},\"baxis\":{\"endlinecolor\":\"#2a3f5f\",\"gridcolor\":\"white\",\"linecolor\":\"white\",\"minorgridcolor\":\"white\",\"startlinecolor\":\"#2a3f5f\"},\"type\":\"carpet\"}],\"table\":[{\"cells\":{\"fill\":{\"color\":\"#EBF0F8\"},\"line\":{\"color\":\"white\"}},\"header\":{\"fill\":{\"color\":\"#C8D4E3\"},\"line\":{\"color\":\"white\"}},\"type\":\"table\"}],\"barpolar\":[{\"marker\":{\"line\":{\"color\":\"#E5ECF6\",\"width\":0.5},\"pattern\":{\"fillmode\":\"overlay\",\"size\":10,\"solidity\":0.2}},\"type\":\"barpolar\"}],\"pie\":[{\"automargin\":true,\"type\":\"pie\"}]},\"layout\":{\"autotypenumbers\":\"strict\",\"colorway\":[\"#636efa\",\"#EF553B\",\"#00cc96\",\"#ab63fa\",\"#FFA15A\",\"#19d3f3\",\"#FF6692\",\"#B6E880\",\"#FF97FF\",\"#FECB52\"],\"font\":{\"color\":\"#2a3f5f\"},\"hovermode\":\"closest\",\"hoverlabel\":{\"align\":\"left\"},\"paper_bgcolor\":\"white\",\"plot_bgcolor\":\"#E5ECF6\",\"polar\":{\"bgcolor\":\"#E5ECF6\",\"angularaxis\":{\"gridcolor\":\"white\",\"linecolor\":\"white\",\"ticks\":\"\"},\"radialaxis\":{\"gridcolor\":\"white\",\"linecolor\":\"white\",\"ticks\":\"\"}},\"ternary\":{\"bgcolor\":\"#E5ECF6\",\"aaxis\":{\"gridcolor\":\"white\",\"linecolor\":\"white\",\"ticks\":\"\"},\"baxis\":{\"gridcolor\":\"white\",\"linecolor\":\"white\",\"ticks\":\"\"},\"caxis\":{\"gridcolor\":\"white\",\"linecolor\":\"white\",\"ticks\":\"\"}},\"coloraxis\":{\"colorbar\":{\"outlinewidth\":0,\"ticks\":\"\"}},\"colorscale\":{\"sequential\":[[0.0,\"#0d0887\"],[0.1111111111111111,\"#46039f\"],[0.2222222222222222,\"#7201a8\"],[0.3333333333333333,\"#9c179e\"],[0.4444444444444444,\"#bd3786\"],[0.5555555555555556,\"#d8576b\"],[0.6666666666666666,\"#ed7953\"],[0.7777777777777778,\"#fb9f3a\"],[0.8888888888888888,\"#fdca26\"],[1.0,\"#f0f921\"]],\"sequentialminus\":[[0.0,\"#0d0887\"],[0.1111111111111111,\"#46039f\"],[0.2222222222222222,\"#7201a8\"],[0.3333333333333333,\"#9c179e\"],[0.4444444444444444,\"#bd3786\"],[0.5555555555555556,\"#d8576b\"],[0.6666666666666666,\"#ed7953\"],[0.7777777777777778,\"#fb9f3a\"],[0.8888888888888888,\"#fdca26\"],[1.0,\"#f0f921\"]],\"diverging\":[[0,\"#8e0152\"],[0.1,\"#c51b7d\"],[0.2,\"#de77ae\"],[0.3,\"#f1b6da\"],[0.4,\"#fde0ef\"],[0.5,\"#f7f7f7\"],[0.6,\"#e6f5d0\"],[0.7,\"#b8e186\"],[0.8,\"#7fbc41\"],[0.9,\"#4d9221\"],[1,\"#276419\"]]},\"xaxis\":{\"gridcolor\":\"white\",\"linecolor\":\"white\",\"ticks\":\"\",\"title\":{\"standoff\":15},\"zerolinecolor\":\"white\",\"automargin\":true,\"zerolinewidth\":2},\"yaxis\":{\"gridcolor\":\"white\",\"linecolor\":\"white\",\"ticks\":\"\",\"title\":{\"standoff\":15},\"zerolinecolor\":\"white\",\"automargin\":true,\"zerolinewidth\":2},\"scene\":{\"xaxis\":{\"backgroundcolor\":\"#E5ECF6\",\"gridcolor\":\"white\",\"linecolor\":\"white\",\"showbackground\":true,\"ticks\":\"\",\"zerolinecolor\":\"white\",\"gridwidth\":2},\"yaxis\":{\"backgroundcolor\":\"#E5ECF6\",\"gridcolor\":\"white\",\"linecolor\":\"white\",\"showbackground\":true,\"ticks\":\"\",\"zerolinecolor\":\"white\",\"gridwidth\":2},\"zaxis\":{\"backgroundcolor\":\"#E5ECF6\",\"gridcolor\":\"white\",\"linecolor\":\"white\",\"showbackground\":true,\"ticks\":\"\",\"zerolinecolor\":\"white\",\"gridwidth\":2}},\"shapedefaults\":{\"line\":{\"color\":\"#2a3f5f\"}},\"annotationdefaults\":{\"arrowcolor\":\"#2a3f5f\",\"arrowhead\":0,\"arrowwidth\":1},\"geo\":{\"bgcolor\":\"white\",\"landcolor\":\"#E5ECF6\",\"subunitcolor\":\"white\",\"showland\":true,\"showlakes\":true,\"lakecolor\":\"white\"},\"title\":{\"x\":0.05},\"mapbox\":{\"style\":\"light\"}}},\"scene\":{\"domain\":{\"x\":[0.0,1.0],\"y\":[0.0,1.0]},\"xaxis\":{\"title\":{\"text\":\"PC1\"}},\"yaxis\":{\"title\":{\"text\":\"PC2\"}},\"zaxis\":{\"title\":{\"text\":\"PC3\"}}},\"legend\":{\"title\":{\"text\":\"color\"},\"tracegroupgap\":0},\"margin\":{\"t\":60}},                        {\"responsive\": true}                    ).then(function(){\n",
       "                            \n",
       "var gd = document.getElementById('d80de31b-f62f-4eb3-894f-d7b8c9b79e40');\n",
       "var x = new MutationObserver(function (mutations, observer) {{\n",
       "        var display = window.getComputedStyle(gd).display;\n",
       "        if (!display || display === 'none') {{\n",
       "            console.log([gd, 'removed!']);\n",
       "            Plotly.purge(gd);\n",
       "            observer.disconnect();\n",
       "        }}\n",
       "}});\n",
       "\n",
       "// Listen for the removal of the full notebook cells\n",
       "var notebookContainer = gd.closest('#notebook-container');\n",
       "if (notebookContainer) {{\n",
       "    x.observe(notebookContainer, {childList: true});\n",
       "}}\n",
       "\n",
       "// Listen for the clearing of the current output cell\n",
       "var outputEl = gd.closest('.output');\n",
       "if (outputEl) {{\n",
       "    x.observe(outputEl, {childList: true});\n",
       "}}\n",
       "\n",
       "                        })                };                });            </script>        </div>"
      ]
     },
     "metadata": {},
     "output_type": "display_data"
    }
   ],
   "source": [
    "fig = px.scatter_3d(\n",
    "    pca_df,\n",
    "    x = \"PC1\",\n",
    "    y = \"PC2\",\n",
    "    z = \"PC3\",\n",
    "    #labels=labels,\n",
    "    color=patient_df[\"patient\"]\n",
    ")\n",
    "\n",
    "fig.show()"
   ]
  },
  {
   "cell_type": "code",
   "execution_count": null,
   "id": "018fd62e",
   "metadata": {},
   "outputs": [],
   "source": []
  }
 ],
 "metadata": {
  "kernelspec": {
   "display_name": "Python 3 (ipykernel)",
   "language": "python",
   "name": "python3"
  },
  "language_info": {
   "codemirror_mode": {
    "name": "ipython",
    "version": 3
   },
   "file_extension": ".py",
   "mimetype": "text/x-python",
   "name": "python",
   "nbconvert_exporter": "python",
   "pygments_lexer": "ipython3",
   "version": "3.9.7"
  }
 },
 "nbformat": 4,
 "nbformat_minor": 5
}
