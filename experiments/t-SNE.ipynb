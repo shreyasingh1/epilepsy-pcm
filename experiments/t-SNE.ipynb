{
 "cells": [
  {
   "cell_type": "code",
   "execution_count": null,
   "id": "6deed5ae",
   "metadata": {},
   "outputs": [],
   "source": [
    "import pandas as pd\n",
    "import numpy as np \n",
    "import matplotlib.pyplot as plt \n",
    "import seaborn as sns \n",
    "from sklearn.manifold import TSNE \n",
    "from sklearn.preprocessing import StandardScaler \n",
    "from mpl_toolkits.mplot3d import Axes3D"
   ]
  },
  {
   "cell_type": "code",
   "execution_count": null,
   "id": "327d2d7a",
   "metadata": {},
   "outputs": [],
   "source": [
    "\n",
    "# df= pd.read_csv('data_PY16N008.csv') \n",
    "df= pd.read_csv('data.csv') \n",
    "corr = df.corr(method = 'spearman')\n",
    "plt.figure(figsize=(20,6))\n",
    "sns.heatmap(corr, annot=True, fmt='.2f', cmap='Blues')\n",
    "plt.title('Spearman Correlation Heatmap')\n",
    "plt.show()"
   ]
  },
  {
   "cell_type": "code",
   "execution_count": null,
   "id": "2c08e5df",
   "metadata": {},
   "outputs": [],
   "source": [
    "y_true = df.iloc[:, 10].values\n",
    "# x_data = df.drop(columns=['Unnamed: 0', 'significant','chNames', 'n2Zscore',  'p2Zscore','n1Latency','n2Latency','p2Latency','flipped','outcome'])\n",
    "x_data = df.drop(columns=['Unnamed: 0','chNames','flipped','outcome'])\n"
   ]
  },
  {
   "cell_type": "code",
   "execution_count": null,
   "id": "a50517eb",
   "metadata": {},
   "outputs": [],
   "source": [
    "x_data"
   ]
  },
  {
   "cell_type": "code",
   "execution_count": null,
   "id": "029e1b16",
   "metadata": {},
   "outputs": [],
   "source": [
    "for i in range (5,50,5):\n",
    "    p  =+ i\n",
    "    print(p)\n",
    "    tsne = TSNE(verbose = 1, n_components=2, init='random', perplexity=p, learning_rate=100)\n",
    "    # X_std = StandardScaler().fit_transform(x_data) \n",
    "    X_tsne = tsne.fit_transform(x_data) \n",
    "    X_tsne_data = np.vstack((X_tsne.T, y_true)).T \n",
    "    df_tsne = pd.DataFrame(X_tsne_data, columns=['Dim1', 'Dim2','class']) \n",
    "    df_tsne.head()\n",
    "    plt.figure(figsize=(8, 8)) \n",
    "    sns.scatterplot(data=df_tsne, hue='class', x='Dim1', y='Dim2',s=8) \n",
    "    plt.show()"
   ]
  },
  {
   "cell_type": "code",
   "execution_count": null,
   "id": "a33e25e9",
   "metadata": {},
   "outputs": [],
   "source": [
    "# tsne = TSNE(verbose = 1, n_components=2, init='random', perplexity = 20, learning_rate=1000)\n",
    "# # X_std = StandardScaler().fit_transform(x_data) \n",
    "# X_tsne = tsne.fit_transform(x_data) \n",
    "# X_tsne_data = np.vstack((X_tsne.T, y_true)).T \n",
    "# df_tsne = pd.DataFrame(X_tsne_data, columns=['Dim1', 'Dim2','class']) \n",
    "# df_tsne.head()"
   ]
  },
  {
   "cell_type": "code",
   "execution_count": null,
   "id": "c97e21ae",
   "metadata": {},
   "outputs": [],
   "source": [
    "# plt.figure(figsize=(8, 8)) \n",
    "# sns.scatterplot(data=df_tsne, hue='class', x='Dim1', y='Dim2',s=4) \n",
    "# plt.show()"
   ]
  },
  {
   "cell_type": "code",
   "execution_count": null,
   "id": "9969321f",
   "metadata": {},
   "outputs": [],
   "source": [
    "for i in range (5,50,5):\n",
    "    p  =+ i\n",
    "    print(p)\n",
    "    tsne = TSNE(verbose = 1, n_components=3, init='random', perplexity = p, learning_rate=100)\n",
    "    # X_std = StandardScaler().fit_transform(x_data) \n",
    "    X_tsne = tsne.fit_transform(x_data) \n",
    "    X_tsne_data = np.vstack((X_tsne.T, y_true)).T \n",
    "    df_tsne = pd.DataFrame(X_tsne_data, columns=['Dim1', 'Dim2','Dim3','class']) \n",
    "    df_tsne.head()\n",
    "    fig = plt.figure(figsize=(8, 8))\n",
    "    ax = Axes3D(fig)\n",
    "    ax = plt.subplot(111, projection='3d')  \n",
    "    for row in df_tsne.itertuples(): \n",
    "        x = getattr(row,'Dim1')\n",
    "        y = getattr(row,'Dim2')\n",
    "        z = getattr(row,'Dim3')\n",
    "        if getattr(row,'_4') == 0.0:\n",
    "            ax.scatter(x,y,z, c='y', s=8) \n",
    "        elif getattr(row,'_4') == 1.0:\n",
    "            ax.scatter(x,y,z, c='r',s=8) \n",
    "    ax.set_zlabel('Z')  \n",
    "    ax.set_ylabel('Y')\n",
    "    ax.set_xlabel('X')\n",
    "    # ax.scatter(data=df_tsne, hue='class', x='Dim1', y='Dim2', z = 'Dim3')\n",
    "    plt.show()"
   ]
  },
  {
   "cell_type": "code",
   "execution_count": null,
   "id": "f1ab5da1",
   "metadata": {},
   "outputs": [],
   "source": [
    "# fig = plt.figure(figsize=(8, 8))\n",
    "# ax = Axes3D(fig)\n",
    "# ax = plt.subplot(111, projection='3d')  \n",
    "# for row in df_tsne.itertuples(): \n",
    "#     x = getattr(row,'Dim1')\n",
    "#     y = getattr(row,'Dim2')\n",
    "#     z = getattr(row,'Dim3')\n",
    "#     if getattr(row,'_4') == 0.0:\n",
    "#         ax.scatter(x,y,z, c='y', s=4) \n",
    "#     elif getattr(row,'_4') == 1.0:\n",
    "#         ax.scatter(x,y,z, c='r',s=4) \n",
    "# ax.set_zlabel('Z')  \n",
    "# ax.set_ylabel('Y')\n",
    "# ax.set_xlabel('X')\n",
    "# # ax.scatter(data=df_tsne, hue='class', x='Dim1', y='Dim2', z = 'Dim3')\n",
    "# plt.show()"
   ]
  },
  {
   "cell_type": "code",
   "execution_count": null,
   "id": "77ccef7f",
   "metadata": {},
   "outputs": [],
   "source": []
  }
 ],
 "metadata": {
  "kernelspec": {
   "display_name": "Python 3 (ipykernel)",
   "language": "python",
   "name": "python3"
  },
  "language_info": {
   "codemirror_mode": {
    "name": "ipython",
    "version": 3
   },
   "file_extension": ".py",
   "mimetype": "text/x-python",
   "name": "python",
   "nbconvert_exporter": "python",
   "pygments_lexer": "ipython3",
   "version": "3.8.8"
  }
 },
 "nbformat": 4,
 "nbformat_minor": 5
}
